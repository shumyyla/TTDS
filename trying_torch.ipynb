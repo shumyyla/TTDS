{
  "nbformat": 4,
  "nbformat_minor": 0,
  "metadata": {
    "colab": {
      "provenance": [],
      "authorship_tag": "ABX9TyMS2wsUFqVaEGIx7Tnz5V7Y",
      "include_colab_link": true
    },
    "kernelspec": {
      "name": "python3",
      "display_name": "Python 3"
    },
    "language_info": {
      "name": "python"
    }
  },
  "cells": [
    {
      "cell_type": "markdown",
      "metadata": {
        "id": "view-in-github",
        "colab_type": "text"
      },
      "source": [
        "<a href=\"https://colab.research.google.com/github/shumyyla/TTDS/blob/master/trying_torch.ipynb\" target=\"_parent\"><img src=\"https://colab.research.google.com/assets/colab-badge.svg\" alt=\"Open In Colab\"/></a>"
      ]
    },
    {
      "cell_type": "code",
      "execution_count": null,
      "metadata": {
        "id": "7n2JmS-onskA"
      },
      "outputs": [],
      "source": [
        "import torch\n",
        "\n"
      ]
    },
    {
      "cell_type": "code",
      "source": [
        "if torch.cuda.is_available():\n",
        "    device = torch.device(\"cuda\")\n",
        "    print(\"GPU available\")\n",
        "else:\n",
        "    device = torch.device(\"cpu\")\n",
        "    print(\"GPU not available, using CPU\")\n"
      ],
      "metadata": {
        "colab": {
          "base_uri": "https://localhost:8080/"
        },
        "id": "Sb0qFRdgnuUs",
        "outputId": "f4238400-0037-4d1b-c914-838e42941309"
      },
      "execution_count": null,
      "outputs": [
        {
          "output_type": "stream",
          "name": "stdout",
          "text": [
            "GPU not available, using CPU\n"
          ]
        }
      ]
    },
    {
      "cell_type": "code",
      "source": [
        "!pip install numpy\n"
      ],
      "metadata": {
        "colab": {
          "base_uri": "https://localhost:8080/"
        },
        "id": "JAGv_yV3n1t1",
        "outputId": "3fbc1f3b-0c29-42bf-ab99-5421dfed968e"
      },
      "execution_count": null,
      "outputs": [
        {
          "output_type": "stream",
          "name": "stdout",
          "text": [
            "Requirement already satisfied: numpy in /usr/local/lib/python3.10/dist-packages (1.22.4)\n"
          ]
        }
      ]
    },
    {
      "cell_type": "code",
      "source": [
        "import torch\n",
        "import torch.nn as nn\n",
        "import torch.optim as optim\n",
        "from sklearn.datasets import load_iris\n",
        "from sklearn.model_selection import train_test_split\n"
      ],
      "metadata": {
        "id": "W9stzW3_n4R2"
      },
      "execution_count": null,
      "outputs": []
    },
    {
      "cell_type": "markdown",
      "source": [
        "###Load and prepare the Iris dataset: Load the Iris dataset using scikit-learn and split it into training and testing sets:"
      ],
      "metadata": {
        "id": "LGuPcpaboSwt"
      }
    },
    {
      "cell_type": "code",
      "source": [
        "iris = load_iris()\n",
        "X = iris.data\n",
        "y = iris.target\n",
        "\n",
        "X_train, X_test, y_train, y_test = train_test_split(X, y, test_size=0.2, random_state=42)\n"
      ],
      "metadata": {
        "id": "FlQv27bxn9NZ"
      },
      "execution_count": null,
      "outputs": []
    },
    {
      "cell_type": "markdown",
      "source": [
        "###Define the model: Create a custom PyTorch model by subclassing nn.Module and defining the network architecture. In this case, we'll use a simple linear regression model with a single output neuron:"
      ],
      "metadata": {
        "id": "BA1z4drmoUul"
      }
    },
    {
      "cell_type": "code",
      "source": [
        "class LinearRegression(nn.Module):\n",
        "    def __init__(self, input_size, output_size):\n",
        "        super(LinearRegression, self).__init__()\n",
        "        self.linear = nn.Linear(input_size, output_size)\n",
        "\n",
        "    def forward(self, x):\n",
        "        return self.linear(x)\n",
        "\n",
        "# Define input and output sizes based on the Iris dataset\n",
        "input_size = X_train.shape[1]\n",
        "output_size = 1\n",
        "\n",
        "# Create an instance of the model\n",
        "model = LinearRegression(input_size, output_size)\n"
      ],
      "metadata": {
        "id": "fCvj7VNen_uy"
      },
      "execution_count": null,
      "outputs": []
    },
    {
      "cell_type": "markdown",
      "source": [
        "###Convert the data to PyTorch tensors: Convert the NumPy arrays to PyTorch tensors for training:"
      ],
      "metadata": {
        "id": "nZne-Oi_oZQr"
      }
    },
    {
      "cell_type": "code",
      "source": [
        "X_train_tensor = torch.tensor(X_train, dtype=torch.float32)\n",
        "y_train_tensor = torch.tensor(y_train.reshape(-1, 1), dtype=torch.float32)\n"
      ],
      "metadata": {
        "id": "B6_pdWu7oByX"
      },
      "execution_count": null,
      "outputs": []
    },
    {
      "cell_type": "markdown",
      "source": [
        "###Define the loss function and optimizer: Specify the loss function and optimizer for training the model:"
      ],
      "metadata": {
        "id": "A9lRCMw_odED"
      }
    },
    {
      "cell_type": "code",
      "source": [
        "criterion = nn.MSELoss()\n",
        "optimizer = optim.SGD(model.parameters(), lr=0.01)\n"
      ],
      "metadata": {
        "id": "H6p_a2k3oECo"
      },
      "execution_count": null,
      "outputs": []
    },
    {
      "cell_type": "markdown",
      "source": [
        "###Train the model: Train the model on the training data:"
      ],
      "metadata": {
        "id": "viDctd_FokkY"
      }
    },
    {
      "cell_type": "code",
      "source": [
        "num_epochs = 1000\n",
        "for epoch in range(num_epochs):\n",
        "    optimizer.zero_grad()\n",
        "    outputs = model(X_train_tensor)\n",
        "    loss = criterion(outputs, y_train_tensor)\n",
        "    loss.backward()\n",
        "    optimizer.step()\n",
        "\n",
        "    if (epoch + 1) % 100 == 0:\n",
        "        print(f'Epoch {epoch+1}/{num_epochs}, Loss: {loss.item():.4f}')\n"
      ],
      "metadata": {
        "colab": {
          "base_uri": "https://localhost:8080/"
        },
        "id": "-vqwOJLQoGDG",
        "outputId": "ad56bdde-2503-47f4-9b90-e15a5908614a"
      },
      "execution_count": null,
      "outputs": [
        {
          "output_type": "stream",
          "name": "stdout",
          "text": [
            "Epoch 100/1000, Loss: 0.0549\n",
            "Epoch 200/1000, Loss: 0.0535\n",
            "Epoch 300/1000, Loss: 0.0525\n",
            "Epoch 400/1000, Loss: 0.0517\n",
            "Epoch 500/1000, Loss: 0.0512\n",
            "Epoch 600/1000, Loss: 0.0508\n",
            "Epoch 700/1000, Loss: 0.0505\n",
            "Epoch 800/1000, Loss: 0.0503\n",
            "Epoch 900/1000, Loss: 0.0502\n",
            "Epoch 1000/1000, Loss: 0.0500\n"
          ]
        }
      ]
    },
    {
      "cell_type": "markdown",
      "source": [
        "###Evaluate the model: Test the trained model on the test data and print the betas (coefficients):"
      ],
      "metadata": {
        "id": "JbL0aR_9omY-"
      }
    },
    {
      "cell_type": "code",
      "source": [
        "with torch.no_grad():\n",
        "    X_test_tensor = torch.tensor(X_test, dtype=torch.float32)\n",
        "    y_pred_tensor = model(X_test_tensor)\n",
        "    betas = model.linear.weight.data.squeeze().numpy()\n",
        "    print('Betas:', betas)\n"
      ],
      "metadata": {
        "colab": {
          "base_uri": "https://localhost:8080/"
        },
        "id": "RGbp36lHoII9",
        "outputId": "94559b44-afbb-4792-9a6a-dd800918ba4b"
      },
      "execution_count": null,
      "outputs": [
        {
          "output_type": "stream",
          "name": "stdout",
          "text": [
            "Betas: [-0.05019318 -0.06545746  0.2512442   0.49627492]\n"
          ]
        }
      ]
    },
    {
      "cell_type": "code",
      "source": [],
      "metadata": {
        "id": "H4I_5Tqeo29A"
      },
      "execution_count": null,
      "outputs": []
    }
  ]
}