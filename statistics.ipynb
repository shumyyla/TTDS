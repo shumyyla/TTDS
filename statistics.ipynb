{
  "nbformat": 4,
  "nbformat_minor": 0,
  "metadata": {
    "colab": {
      "provenance": [],
      "authorship_tag": "ABX9TyNlGCpALtpGUk9GfzYc3D6E",
      "include_colab_link": true
    },
    "kernelspec": {
      "name": "python3",
      "display_name": "Python 3"
    },
    "language_info": {
      "name": "python"
    }
  },
  "cells": [
    {
      "cell_type": "markdown",
      "metadata": {
        "id": "view-in-github",
        "colab_type": "text"
      },
      "source": [
        "<a href=\"https://colab.research.google.com/github/shumyyla/test/blob/master/statistics.ipynb\" target=\"_parent\"><img src=\"https://colab.research.google.com/assets/colab-badge.svg\" alt=\"Open In Colab\"/></a>"
      ]
    },
    {
      "cell_type": "code",
      "execution_count": null,
      "metadata": {
        "colab": {
          "base_uri": "https://localhost:8080/"
        },
        "id": "OQPGgDS9uHpo",
        "outputId": "dc657095-b1d0-492e-d6af-64cc5fbe75a5"
      },
      "outputs": [
        {
          "output_type": "stream",
          "name": "stdout",
          "text": [
            "[0.03125 0.15625 0.3125  0.3125  0.15625 0.03125]\n",
            "0.9999999999999996\n"
          ]
        }
      ],
      "source": [
        "from scipy.stats import binom\n",
        "n = 5 # Total number of coins\n",
        "p = 0.5 # Probability of head\n",
        "# Let x denotes number of heads\n",
        "x = [0, 1, 2, 3, 4, 5]\n",
        "#Compute probabilities\n",
        "prob = binom.pmf(x, n, p)\n",
        "#print probabilities\n",
        "print(prob)\n",
        "#[0.03125 0.15625 0.3125 0.3125\n",
        "#0.15625 0.03125]\n",
        "sa = sum(prob)\n",
        "print(sa)"
      ]
    },
    {
      "cell_type": "code",
      "source": [
        "from scipy.stats import hypergeom\n",
        "N = 52 # Total number of cards\n",
        "n = 5 # Total number of cards randomly selected\n",
        "k = 26 # Since there are 26 red cards\n",
        "x = 2 # Two red cards\n",
        "#prob= hypergeom.pmf(x, N, n, k)\n",
        "\n",
        "prob= round(hypergeom.pmf(x, N, n, k), 4)\n",
        "# Compute probabilities corresponding to random variable x\n",
        "print('Probability is :', prob)\n",
        "# Probability is : 0.3251\n"
      ],
      "metadata": {
        "id": "e7LlCZmKuIaC",
        "colab": {
          "base_uri": "https://localhost:8080/"
        },
        "outputId": "8b7144ad-0fad-410c-be64-80297b649ea4"
      },
      "execution_count": null,
      "outputs": [
        {
          "output_type": "stream",
          "name": "stdout",
          "text": [
            "Probability is : 0.3251\n"
          ]
        }
      ]
    },
    {
      "cell_type": "code",
      "source": [
        "import numpy as np\n",
        "import matplotlib.pyplot as plt\n",
        "from scipy.stats import hypergeom\n",
        "[N, n, k] = [15, 7, 5]\n",
        "lLimit = max(0, n-(N-k))\n",
        "uLimit = min(n, k)\n",
        "rv = hypergeom(N, n, k)\n",
        "x = np.arange(lLimit, uLimit + 1)\n",
        "probability = rv.pmf(x)\n",
        "fig = plt.figure()\n",
        "ax = fig.add_subplot(111)\n",
        "ax.plot(x, probability, 'bo')\n",
        "ax.vlines(x, 0, probability, lw = 2)\n",
        "ax.set_xlabel('# of defective items')\n",
        "ax.set_ylabel('Probability')\n",
        "plt.show()"
      ],
      "metadata": {
        "id": "BRQEswdaSFPA",
        "colab": {
          "base_uri": "https://localhost:8080/",
          "height": 279
        },
        "outputId": "b5946daf-dc34-489a-882d-6f2e98587374"
      },
      "execution_count": null,
      "outputs": [
        {
          "output_type": "display_data",
          "data": {
            "text/plain": [
              "<Figure size 432x288 with 1 Axes>"
            ],
            "image/png": "[encoded data removed]"
          },
          "metadata": {
            "needs_background": "light"
          }
        }
      ]
    },
    {
      "cell_type": "code",
      "source": [
        "import scipy.stats as stats\n",
        "\n",
        "# number of successes (k)\n",
        "k = 3\n",
        "# probability of success (p)\n",
        "p = 0.5\n",
        "# number of trials (n)\n",
        "n = 7\n",
        "\n",
        "# create a negative binomial distribution object\n",
        "neg_binom = stats.nbinom(k, p)\n",
        "\n",
        "# calculate the probability of getting the third head on the seventh flip\n",
        "prob = neg_binom.pmf(n-k)\n",
        "\n",
        "print(prob)\n"
      ],
      "metadata": {
        "colab": {
          "base_uri": "https://localhost:8080/"
        },
        "id": "n5HnVOEQd02J",
        "outputId": "c9b35bab-2682-4480-8bd2-686143a16bd9"
      },
      "execution_count": null,
      "outputs": [
        {
          "output_type": "stream",
          "name": "stdout",
          "text": [
            "0.11718750000000001\n"
          ]
        }
      ]
    },
    {
      "cell_type": "code",
      "source": [
        "import scipy.stats as stats\n",
        "\n",
        "# number of trials (n)\n",
        "n = 15\n",
        "# probability of success (p)\n",
        "p = 0.05\n",
        "\n",
        "# create a binomial distribution object\n",
        "binom = stats.binom(n, p)\n",
        "\n",
        "# calculate the probability that 2 or more defectives will be found in the sample\n",
        "prob = 1 - binom.cdf(1)\n",
        "\n",
        "print(prob)"
      ],
      "metadata": {
        "colab": {
          "base_uri": "https://localhost:8080/"
        },
        "id": "aEoX8F6TN81i",
        "outputId": "9131a742-dfa2-460c-a0b9-483881b0ae11"
      },
      "execution_count": null,
      "outputs": [
        {
          "output_type": "stream",
          "name": "stdout",
          "text": [
            "0.17095253550359912\n"
          ]
        }
      ]
    },
    {
      "cell_type": "code",
      "source": [
        "import pandas as pd"
      ],
      "metadata": {
        "id": "I6xkmgSPPUzy"
      },
      "execution_count": null,
      "outputs": []
    },
    {
      "cell_type": "code",
      "source": [
        "pd.__version__"
      ],
      "metadata": {
        "id": "Z6rbNqgUbrmm",
        "outputId": "c69c07a2-b349-493c-8c74-69a7cbce18d8",
        "colab": {
          "base_uri": "https://localhost:8080/",
          "height": 35
        }
      },
      "execution_count": null,
      "outputs": [
        {
          "output_type": "execute_result",
          "data": {
            "text/plain": [
              "'1.3.5'"
            ],
            "application/vnd.google.colaboratory.intrinsic+json": {
              "type": "string"
            }
          },
          "metadata": {},
          "execution_count": 2
        }
      ]
    },
    {
      "cell_type": "code",
      "source": [
        "from numpy import random\n",
        "\n",
        "x = random.poisson(lam=2, size=10)\n",
        "\n",
        "print(x)"
      ],
      "metadata": {
        "id": "0rwz4OZxbwcL",
        "colab": {
          "base_uri": "https://localhost:8080/"
        },
        "outputId": "f5e1dcb6-1b01-4b75-a179-8d3c93b43f34"
      },
      "execution_count": null,
      "outputs": [
        {
          "output_type": "stream",
          "name": "stdout",
          "text": [
            "[2 3 0 2 2 2 3 3 4 1]\n"
          ]
        }
      ]
    },
    {
      "cell_type": "code",
      "source": [
        "#A store sells 3 apples per day on average. What is the probability that they will sell 5 apples on a given day? \n",
        "\n",
        "from scipy.stats import poisson\n",
        "\n",
        "#calculate probability\n",
        "poisson.pmf(k=5, mu=3)\n",
        "\n"
      ],
      "metadata": {
        "colab": {
          "base_uri": "https://localhost:8080/"
        },
        "id": "Lrbi9a2N2gfN",
        "outputId": "31075181-9010-48ec-e30c-b96c9b4a1900"
      },
      "execution_count": null,
      "outputs": [
        {
          "output_type": "execute_result",
          "data": {
            "text/plain": [
              "0.10081881344492458"
            ]
          },
          "metadata": {},
          "execution_count": 6
        }
      ]
    },
    {
      "cell_type": "code",
      "source": [
        "#A certain store sells seven footballs per day on average. What is the probability that this store sells four or less footballs in a given day?\n",
        "\n",
        "from scipy.stats import poisson\n",
        "\n",
        "#calculate probability\n",
        "poisson.cdf(k=4, mu=7)"
      ],
      "metadata": {
        "colab": {
          "base_uri": "https://localhost:8080/"
        },
        "id": "_cj3fyBO2_is",
        "outputId": "9e5432b6-1312-419a-ce1c-41e2620ecdc5"
      },
      "execution_count": null,
      "outputs": [
        {
          "output_type": "execute_result",
          "data": {
            "text/plain": [
              "0.17299160788207146"
            ]
          },
          "metadata": {},
          "execution_count": 5
        }
      ]
    },
    {
      "cell_type": "code",
      "source": [
        "#A certain store sells 15 cans of tuna per day on average. What is the probability that this store sells more than 20 cans of tuna in a given day?\n",
        "\n",
        "from scipy.stats import poisson\n",
        "\n",
        "#calculate probability\n",
        "1-poisson.cdf(k=20, mu=15)\n",
        "\n",
        "0.082971"
      ],
      "metadata": {
        "colab": {
          "base_uri": "https://localhost:8080/"
        },
        "id": "of_a93CN3I9J",
        "outputId": "55f5bc74-8d8e-41cb-bd73-ee9e0a8abd2d"
      },
      "execution_count": null,
      "outputs": [
        {
          "output_type": "execute_result",
          "data": {
            "text/plain": [
              "0.082971"
            ]
          },
          "metadata": {},
          "execution_count": 7
        }
      ]
    },
    {
      "cell_type": "code",
      "source": [
        "d = 1234\n",
        "def my_function():\n",
        "    global d   # global keyword does not create a new local variable, rather allows you to access the global var\n",
        "    d = d + 1  # Updating global variable inside function\n",
        "    print(\"Value of variable 'd' inside function: \", d)\n",
        "\n",
        "my_function()\n",
        "print(\"Value of variable 'd' outside function: \", d)"
      ],
      "metadata": {
        "colab": {
          "base_uri": "https://localhost:8080/"
        },
        "id": "V__ghtO53-H4",
        "outputId": "9cca6c59-d1af-4dd1-8dd3-817ddfe1f266"
      },
      "execution_count": null,
      "outputs": [
        {
          "output_type": "stream",
          "name": "stdout",
          "text": [
            "Value of variable 'd' inside function:  1235\n",
            "Value of variable 'd' outside function:  1235\n"
          ]
        }
      ]
    },
    {
      "cell_type": "code",
      "source": [],
      "metadata": {
        "id": "pDPHB0qqehJV"
      },
      "execution_count": null,
      "outputs": []
    },
    {
      "cell_type": "markdown",
      "source": [
        "\n",
        "Changes in airport procedures require\n",
        "considerable planning. Arrival rates of aircraft are\n",
        "important factors that must be taken into account.\n",
        "Suppose small aircraft arrive at a certain airport,\n",
        "according to a Poisson process, at the rate of 6 per\n",
        "hour. Thus the Poisson parameter for arrivals for a\n",
        "period of hours is λ = 6.\n"
      ],
      "metadata": {
        "id": "3Hj4CZX3eiY5"
      }
    },
    {
      "cell_type": "code",
      "source": [
        "# What is the probability that at least 4 arrive during a 1-hour period?\n",
        "from scipy.stats import poisson\n",
        "mu = 6\n",
        "x = [0,1,2,3]\n",
        "\n",
        "prob = 1 - sum(poisson.pmf(x , mu))"
      ],
      "metadata": {
        "id": "cJ6SxSxsfoS_"
      },
      "execution_count": 3,
      "outputs": []
    },
    {
      "cell_type": "code",
      "source": [
        "print(prob)"
      ],
      "metadata": {
        "colab": {
          "base_uri": "https://localhost:8080/"
        },
        "id": "4QzZNd4aeIl2",
        "outputId": "f78c672f-46de-4207-c04b-089f3fafe663"
      },
      "execution_count": 4,
      "outputs": [
        {
          "output_type": "stream",
          "name": "stdout",
          "text": [
            "0.8487961172233521\n"
          ]
        }
      ]
    },
    {
      "cell_type": "code",
      "source": [
        "mu  = 6*12\n",
        "\n",
        "x = range(0, 75)\n",
        "\n",
        "prob = 1 - sum(poisson.pmf(x,mu))"
      ],
      "metadata": {
        "id": "_8gc32NheOGM"
      },
      "execution_count": 5,
      "outputs": []
    },
    {
      "cell_type": "code",
      "source": [
        "print(prob)"
      ],
      "metadata": {
        "colab": {
          "base_uri": "https://localhost:8080/"
        },
        "id": "LutIY2qee8lh",
        "outputId": "2493e4e1-b7b3-4e88-8d70-6547ec3f0d6f"
      },
      "execution_count": 6,
      "outputs": [
        {
          "output_type": "stream",
          "name": "stdout",
          "text": [
            "0.37732731730182556\n"
          ]
        }
      ]
    },
    {
      "cell_type": "code",
      "source": [],
      "metadata": {
        "id": "aBojLyfTe_Up"
      },
      "execution_count": null,
      "outputs": []
    }
  ]
}