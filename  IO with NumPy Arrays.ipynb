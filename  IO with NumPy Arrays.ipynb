{
 "cells": [
  {
   "cell_type": "code",
   "execution_count": 2,
   "id": "4c2b56e3",
   "metadata": {},
   "outputs": [
    {
     "name": "stdout",
     "output_type": "stream",
     "text": [
      "30 40 50 70 80 89 9 8 7 6 5 4 90\n"
     ]
    }
   ],
   "source": [
    "!type data.txt"
   ]
  },
  {
   "cell_type": "code",
   "execution_count": 3,
   "id": "16a6cd0b",
   "metadata": {},
   "outputs": [],
   "source": [
    "import numpy as np"
   ]
  },
  {
   "cell_type": "code",
   "execution_count": 4,
   "id": "8cebb1f2",
   "metadata": {},
   "outputs": [
    {
     "name": "stdout",
     "output_type": "stream",
     "text": [
      "[30. 40. 50. 70. 80. 89.  9.  8.  7.  6.  5.  4. 90.]\n",
      "(13,)\n"
     ]
    }
   ],
   "source": [
    "arr = np.genfromtxt(\"data.txt\")\n",
    "print(arr)\n",
    "print(arr.shape)"
   ]
  },
  {
   "cell_type": "code",
   "execution_count": 7,
   "id": "628e383c",
   "metadata": {},
   "outputs": [
    {
     "name": "stdout",
     "output_type": "stream",
     "text": [
      "temp,sale\n",
      "22,1\n",
      "33,2\n",
      "23,3\n",
      "222,4\n",
      "333,4\n",
      "44,7\n",
      "4,21\n",
      "4,3\n",
      "5,3\n"
     ]
    }
   ],
   "source": [
    "!type data1.csv"
   ]
  },
  {
   "cell_type": "code",
   "execution_count": 9,
   "id": "46244593",
   "metadata": {},
   "outputs": [],
   "source": [
    "arr1 = np.genfromtxt(\"data1.csv\" , dtype=np.int16, delimiter=',')"
   ]
  },
  {
   "cell_type": "code",
   "execution_count": 10,
   "id": "f06c7d74",
   "metadata": {},
   "outputs": [
    {
     "name": "stdout",
     "output_type": "stream",
     "text": [
      "[[ -1  -1]\n",
      " [ 22   1]\n",
      " [ 33   2]\n",
      " [ 23   3]\n",
      " [222   4]\n",
      " [333   4]\n",
      " [ 44   7]\n",
      " [  4  21]\n",
      " [  4   3]\n",
      " [  5   3]]\n"
     ]
    }
   ],
   "source": [
    "print(arr1)"
   ]
  },
  {
   "cell_type": "code",
   "execution_count": 11,
   "id": "9fc1c21c",
   "metadata": {},
   "outputs": [
    {
     "name": "stdout",
     "output_type": "stream",
     "text": [
      "(10, 2)\n"
     ]
    }
   ],
   "source": [
    "print(arr1.shape)"
   ]
  },
  {
   "cell_type": "code",
   "execution_count": null,
   "id": "7c0509cf",
   "metadata": {},
   "outputs": [],
   "source": []
  }
 ],
 "metadata": {
  "kernelspec": {
   "display_name": "Python 3 (ipykernel)",
   "language": "python",
   "name": "python3"
  },
  "language_info": {
   "codemirror_mode": {
    "name": "ipython",
    "version": 3
   },
   "file_extension": ".py",
   "mimetype": "text/x-python",
   "name": "python",
   "nbconvert_exporter": "python",
   "pygments_lexer": "ipython3",
   "version": "3.9.13"
  }
 },
 "nbformat": 4,
 "nbformat_minor": 5
}
