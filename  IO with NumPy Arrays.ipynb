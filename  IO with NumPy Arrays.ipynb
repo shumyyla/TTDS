{
 "cells": [
  {
   "cell_type": "code",
   "execution_count": 2,
   "id": "e7606492",
   "metadata": {},
   "outputs": [
    {
     "name": "stdout",
     "output_type": "stream",
     "text": [
      "30 40 50 70 80 89 9 8 7 6 5 4 90\n"
     ]
    }
   ],
   "source": [
    "!type data.txt"
   ]
  },
  {
   "cell_type": "code",
   "execution_count": 3,
   "id": "0218b5f0",
   "metadata": {},
   "outputs": [],
   "source": [
    "import numpy as np"
   ]
  },
  {
   "cell_type": "code",
   "execution_count": 4,
   "id": "cd5be954",
   "metadata": {},
   "outputs": [
    {
     "name": "stdout",
     "output_type": "stream",
     "text": [
      "[30. 40. 50. 70. 80. 89.  9.  8.  7.  6.  5.  4. 90.]\n",
      "(13,)\n"
     ]
    }
   ],
   "source": [
    "arr = np.genfromtxt(\"data.txt\")\n",
    "print(arr)\n",
    "print(arr.shape)"
   ]
  },
  {
   "cell_type": "code",
   "execution_count": 7,
   "id": "0cca4356",
   "metadata": {},
   "outputs": [
    {
     "name": "stdout",
     "output_type": "stream",
     "text": [
      "temp,sale\n",
      "22,1\n",
      "33,2\n",
      "23,3\n",
      "222,4\n",
      "333,4\n",
      "44,7\n",
      "4,21\n",
      "4,3\n",
      "5,3\n"
     ]
    }
   ],
   "source": [
    "!type data1.csv"
   ]
  },
  {
   "cell_type": "code",
   "execution_count": 9,
   "id": "edd1936d",
   "metadata": {},
   "outputs": [],
   "source": [
    "arr1 = np.genfromtxt(\"data1.csv\" , dtype=np.int16, delimiter=',')"
   ]
  },
  {
   "cell_type": "code",
   "execution_count": 10,
   "id": "74520362",
   "metadata": {},
   "outputs": [
    {
     "name": "stdout",
     "output_type": "stream",
     "text": [
      "[[ -1  -1]\n",
      " [ 22   1]\n",
      " [ 33   2]\n",
      " [ 23   3]\n",
      " [222   4]\n",
      " [333   4]\n",
      " [ 44   7]\n",
      " [  4  21]\n",
      " [  4   3]\n",
      " [  5   3]]\n"
     ]
    }
   ],
   "source": [
    "print(arr1)"
   ]
  },
  {
   "cell_type": "code",
   "execution_count": 11,
   "id": "8c05dc40",
   "metadata": {},
   "outputs": [
    {
     "name": "stdout",
     "output_type": "stream",
     "text": [
      "(10, 2)\n"
     ]
    }
   ],
   "source": [
    "print(arr1.shape)"
   ]
  },
  {
   "cell_type": "code",
   "execution_count": 12,
   "id": "c379ab19",
   "metadata": {},
   "outputs": [],
   "source": [
    "arr2 = np.genfromtxt(\"data1.csv\" , dtype=np.int16, delimiter=',' , skip_header= 1)"
   ]
  },
  {
   "cell_type": "code",
   "execution_count": 13,
   "id": "bc1defaa",
   "metadata": {},
   "outputs": [
    {
     "data": {
      "text/plain": [
       "array([[ 22,   1],\n",
       "       [ 33,   2],\n",
       "       [ 23,   3],\n",
       "       [222,   4],\n",
       "       [333,   4],\n",
       "       [ 44,   7],\n",
       "       [  4,  21],\n",
       "       [  4,   3],\n",
       "       [  5,   3]], dtype=int16)"
      ]
     },
     "execution_count": 13,
     "metadata": {},
     "output_type": "execute_result"
    }
   ],
   "source": [
    "arr2"
   ]
  },
  {
   "cell_type": "code",
   "execution_count": 14,
   "id": "3b2c3588",
   "metadata": {},
   "outputs": [
    {
     "name": "stdout",
     "output_type": "stream",
     "text": [
      "[[ 22   1]\n",
      " [ 33   2]\n",
      " [ 23   3]\n",
      " [222   4]\n",
      " [333   4]\n",
      " [ 44   7]\n",
      " [  4  21]\n",
      " [  4   3]\n",
      " [  5   3]]\n"
     ]
    }
   ],
   "source": [
    "print(arr2)"
   ]
  },
  {
   "cell_type": "code",
   "execution_count": 17,
   "id": "f07f31d0",
   "metadata": {},
   "outputs": [],
   "source": [
    "arr2 = np.genfromtxt(\"data1.csv\" , dtype=np.int16, delimiter=',' , skip_header= 1)"
   ]
  },
  {
   "cell_type": "code",
   "execution_count": 19,
   "id": "7b4f804f",
   "metadata": {},
   "outputs": [
    {
     "data": {
      "text/plain": [
       "array([[ 22,   1],\n",
       "       [ 33,   2],\n",
       "       [ 23,   3],\n",
       "       [222,   4],\n",
       "       [333,   4],\n",
       "       [ 44,   7],\n",
       "       [  4,  21],\n",
       "       [  4,   3],\n",
       "       [  5,   3]], dtype=int16)"
      ]
     },
     "execution_count": 19,
     "metadata": {},
     "output_type": "execute_result"
    }
   ],
   "source": [
    "arr2"
   ]
  },
  {
   "cell_type": "code",
   "execution_count": 22,
   "id": "be17f663",
   "metadata": {},
   "outputs": [],
   "source": [
    "arr3 = np.array([[2.444,2,22.5,2,2,2],[2,3,3.5544,3,2.44,2],[4,5,4.56,3,1,2]])"
   ]
  },
  {
   "cell_type": "code",
   "execution_count": 26,
   "id": "a6a1bd53",
   "metadata": {},
   "outputs": [],
   "source": [
    "np.savetxt('dataset/arr.txt',arr3,fmt='%.2f')"
   ]
  },
  {
   "cell_type": "code",
   "execution_count": 34,
   "id": "5c185f9d",
   "metadata": {},
   "outputs": [
    {
     "name": "stdout",
     "output_type": "stream",
     "text": [
      "[[ 2.44  2.   22.5   2.    2.    2.  ]\n",
      " [ 2.    3.    3.55  3.    2.44  2.  ]\n",
      " [ 4.    5.    4.56  3.    1.    2.  ]]\n"
     ]
    }
   ],
   "source": [
    "arr5 = np.genfromtxt('dataset/arr.txt')\n",
    "print(arr5)"
   ]
  },
  {
   "cell_type": "code",
   "execution_count": null,
   "id": "6c741ccd",
   "metadata": {},
   "outputs": [],
   "source": []
  }
 ],
 "metadata": {
  "kernelspec": {
   "display_name": "Python 3 (ipykernel)",
   "language": "python",
   "name": "python3"
  },
  "language_info": {
   "codemirror_mode": {
    "name": "ipython",
    "version": 3
   },
   "file_extension": ".py",
   "mimetype": "text/x-python",
   "name": "python",
   "nbconvert_exporter": "python",
   "pygments_lexer": "ipython3",
   "version": "3.9.13"
  }
 },
 "nbformat": 4,
 "nbformat_minor": 5
}
