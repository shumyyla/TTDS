{
  "nbformat": 4,
  "nbformat_minor": 0,
  "metadata": {
    "colab": {
      "provenance": [],
      "authorship_tag": "ABX9TyNiqsxdUaPdeN8WSJ2EMcP9",
      "include_colab_link": true
    },
    "kernelspec": {
      "name": "python3",
      "display_name": "Python 3"
    },
    "language_info": {
      "name": "python"
    }
  },
  "cells": [
    {
      "cell_type": "markdown",
      "metadata": {
        "id": "view-in-github",
        "colab_type": "text"
      },
      "source": [
        "<a href=\"https://colab.research.google.com/github/shumyyla/test/blob/master/stacking.ipynb\" target=\"_parent\"><img src=\"https://colab.research.google.com/assets/colab-badge.svg\" alt=\"Open In Colab\"/></a>"
      ]
    },
    {
      "cell_type": "code",
      "execution_count": null,
      "metadata": {
        "colab": {
          "base_uri": "https://localhost:8080/"
        },
        "id": "hgPEf-rkMaVD",
        "outputId": "d3ea9350-176d-459c-fc1d-3347d6e4036d"
      },
      "outputs": [
        {
          "output_type": "stream",
          "name": "stdout",
          "text": [
            "arr1 =  [4 5 9 1]\n",
            "arr2 =  [2 2 3 9]\n",
            "\n",
            " np.stack(arr1, arr2, axis=0):\n",
            "  [[4 5 9 1]\n",
            " [2 2 3 9]]\n",
            "\n",
            " np.row_stack(arr1, arr2)):\n",
            "  [[4 5 9 1]\n",
            " [2 2 3 9]]\n",
            "\n",
            " np.stack((arr1, arr2), axis=1):\n",
            "  [[4 2]\n",
            " [5 2]\n",
            " [9 3]\n",
            " [1 9]]\n",
            "\n",
            " np.column_stack(arr1, arr2):\n",
            "  [[4 2]\n",
            " [5 2]\n",
            " [9 3]\n",
            " [1 9]]\n"
          ]
        }
      ],
      "source": [
        "import numpy as np\n",
        "arr1 = np.random.randint(low = 1, high = 10, size = 4)\n",
        "arr2 = np.random.randint(low = 1, high = 10, size = 4)\n",
        "print(\"arr1 = \", arr1)\n",
        "print(\"arr2 = \", arr2)\n",
        "  \n",
        "# Stacking two 1-D arrays along axis 0 using stack()\n",
        "arr3 = np.stack((arr1, arr2), axis = 0)\n",
        "print (\"\\n np.stack(arr1, arr2, axis=0):\\n \", arr3)\n",
        "# Stacking the two 1-D arrays using row_stack()\n",
        "arr4 = np.row_stack((arr1, arr2))\n",
        "print (\"\\n np.row_stack(arr1, arr2)):\\n \", arr4)\n",
        "  \n",
        "\n",
        "# Stacking two 1-D arrays along axis 1 using stack()\n",
        "arr5 = np.stack((arr1, arr2), axis = 1)\n",
        "print (\"\\n np.stack((arr1, arr2), axis=1):\\n \", arr5)\n",
        "# Stacking the two 1-D arrays using column_stack()\n",
        "arr6 = np.column_stack((arr1, arr2))\n",
        "print (\"\\n np.column_stack(arr1, arr2):\\n \", arr6)\n"
      ]
    },
    {
      "cell_type": "code",
      "source": [
        "import numpy as np\n",
        "arr1 = np.array([[4,3,1],[5,6,2]])\n",
        "arr2 = np.array([[5,1,8],[3,9,1]])\n",
        "\n",
        "print(\"arr1 = \\n\", arr1)\n",
        "print(\"arr2 = \\n\", arr2)\n",
        "\n",
        "  \n",
        "# Stacking the two arrays along last axis\n",
        "arr3 = np.stack((arr1, arr2), axis = -1)\n",
        "print (\"\\n np.stack((arr1, arr2), axis=-1):\\n \", arr3)\n",
        "print(\"shape of arr3:\", arr3.shape)"
      ],
      "metadata": {
        "colab": {
          "base_uri": "https://localhost:8080/"
        },
        "id": "vaMjWeOIMcom",
        "outputId": "dde24276-0ea7-4de4-b671-cb05d0cfdd95"
      },
      "execution_count": null,
      "outputs": [
        {
          "output_type": "stream",
          "name": "stdout",
          "text": [
            "arr1 = \n",
            " [[4 3 1]\n",
            " [5 6 2]]\n",
            "arr2 = \n",
            " [[5 1 8]\n",
            " [3 9 1]]\n",
            "\n",
            " np.stack((arr1, arr2), axis=-1):\n",
            "  [[[4 5]\n",
            "  [3 1]\n",
            "  [1 8]]\n",
            "\n",
            " [[5 3]\n",
            "  [6 9]\n",
            "  [2 1]]]\n",
            "shape of arr3: (2, 3, 2)\n"
          ]
        }
      ]
    },
    {
      "cell_type": "code",
      "source": [
        "# create an array of float type\n",
        "arr1 = np.random.randint(low = 1, high = 10, size = 22)\n",
        "print(\"arr1:\\n\",arr1)\n",
        "\n",
        "# The array_split() will not flag an error if size is not a factor of array size (will manage)\n",
        "#print(\"\\nSub-arrays: \\n\", np.array_split(arr1, 4))\n"
      ],
      "metadata": {
        "colab": {
          "base_uri": "https://localhost:8080/"
        },
        "id": "MKMLVX6DMzd-",
        "outputId": "a022377f-6cc8-4f6f-f87a-b1be595f3063"
      },
      "execution_count": null,
      "outputs": [
        {
          "output_type": "stream",
          "name": "stdout",
          "text": [
            "arr1:\n",
            " [1 4 3 5 3 4 7 4 7 6 5 7 6 5 2 4 9 2 5 6 3 9]\n"
          ]
        }
      ]
    },
    {
      "cell_type": "code",
      "source": [
        "\n",
        "\n",
        "# The array_split() will not flag an error if size is not a factor of array size (will manage)\n",
        "print(\"\\nSub-arrays: \\n\", np.array_split(arr1, 3))\n"
      ],
      "metadata": {
        "colab": {
          "base_uri": "https://localhost:8080/"
        },
        "id": "G8KjsN7dOSIY",
        "outputId": "3a0b4338-f8cf-4826-bc76-3a574ff3533b"
      },
      "execution_count": null,
      "outputs": [
        {
          "output_type": "stream",
          "name": "stdout",
          "text": [
            "\n",
            "Sub-arrays: \n",
            " [array([1, 4, 3, 5, 3, 4, 7, 4]), array([7, 6, 5, 7, 6, 5, 2]), array([4, 9, 2, 5, 6, 3, 9])]\n"
          ]
        }
      ]
    },
    {
      "cell_type": "code",
      "source": [
        "# create an array of float type with 4 rows and 4 columns with sequential values from 0 to 15\n",
        "arr1 = np.arange(16.0).reshape(4,4)\n",
        "# print array\n",
        "print(\"arr1:\\n\",arr1)\n",
        "print(\"shape: \", arr1.shape)\n",
        "# horizontally split array into 2 subarrays\n",
        "print(\"\\nSub-arrays: \\n\", np.hsplit(arr1, 2))"
      ],
      "metadata": {
        "colab": {
          "base_uri": "https://localhost:8080/"
        },
        "id": "LR2bUNBaOlwt",
        "outputId": "40e58057-da15-40d6-bca6-d55873346037"
      },
      "execution_count": null,
      "outputs": [
        {
          "output_type": "stream",
          "name": "stdout",
          "text": [
            "arr1:\n",
            " [[ 0.  1.  2.  3.]\n",
            " [ 4.  5.  6.  7.]\n",
            " [ 8.  9. 10. 11.]\n",
            " [12. 13. 14. 15.]]\n",
            "shape:  (4, 4)\n",
            "\n",
            "Sub-arrays: \n",
            " [array([[ 0.,  1.],\n",
            "       [ 4.,  5.],\n",
            "       [ 8.,  9.],\n",
            "       [12., 13.]]), array([[ 2.,  3.],\n",
            "       [ 6.,  7.],\n",
            "       [10., 11.],\n",
            "       [14., 15.]])]\n"
          ]
        }
      ]
    },
    {
      "cell_type": "code",
      "source": [
        "import numpy as np\n",
        "arr1 = np.array([2,5,1])\n",
        "arr2 = np.array([3,6,2])\n",
        "arr3 = np.column_stack((arr1, arr2))\n",
        "arr9 = np.row_stack((arr1,arr2))\n",
        "arr4 = np.vstack((arr1, arr2))\n",
        "arr5 = np.hstack((arr1, arr2))\n",
        "arr6 = np.stack((arr1, arr2), axis = 1)\n",
        "\n",
        "arr = np.stack((arr1, arr2), axis = 0)\n",
        "\n",
        "print (\"arr3: \", arr3)\n",
        "print (\"arr4: \", arr5)\n",
        "print (\"arr6: \", arr6)\n",
        "print (\"vstack: \", arr4)\n",
        "\n",
        "print(\"row stack\",arr9)\n",
        "\n",
        "\n",
        "print(\"np.stack axis 0\", arr)"
      ],
      "metadata": {
        "colab": {
          "base_uri": "https://localhost:8080/"
        },
        "id": "SXuxPI2BSBVU",
        "outputId": "5f3ca919-20ae-4575-fcc7-217b1fa14aef"
      },
      "execution_count": null,
      "outputs": [
        {
          "output_type": "stream",
          "name": "stdout",
          "text": [
            "arr3:  [[2 3]\n",
            " [5 6]\n",
            " [1 2]]\n",
            "arr4:  [2 5 1 3 6 2]\n",
            "arr6:  [[2 3]\n",
            " [5 6]\n",
            " [1 2]]\n",
            "vstack:  [[2 5 1]\n",
            " [3 6 2]]\n",
            "row stack [[2 5 1]\n",
            " [3 6 2]]\n",
            "np.stack axis 0 [[2 5 1]\n",
            " [3 6 2]]\n"
          ]
        }
      ]
    },
    {
      "cell_type": "code",
      "source": [],
      "metadata": {
        "id": "CmIVHvzRSrUC"
      },
      "execution_count": null,
      "outputs": []
    }
  ]
}