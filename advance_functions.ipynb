{
  "nbformat": 4,
  "nbformat_minor": 0,
  "metadata": {
    "colab": {
      "provenance": [],
      "authorship_tag": "ABX9TyOCLZ9HTRvSfth+bvMoMcAm",
      "include_colab_link": true
    },
    "kernelspec": {
      "name": "python3",
      "display_name": "Python 3"
    },
    "language_info": {
      "name": "python"
    }
  },
  "cells": [
    {
      "cell_type": "markdown",
      "metadata": {
        "id": "view-in-github",
        "colab_type": "text"
      },
      "source": [
        "<a href=\"https://colab.research.google.com/github/shumyyla/test/blob/master/advance_functions.ipynb\" target=\"_parent\"><img src=\"https://colab.research.google.com/assets/colab-badge.svg\" alt=\"Open In Colab\"/></a>"
      ]
    },
    {
      "cell_type": "code",
      "execution_count": null,
      "metadata": {
        "colab": {
          "base_uri": "https://localhost:8080/"
        },
        "id": "0v2lxRgrpfVO",
        "outputId": "5d64dbf7-d0e5-4383-8e25-842e0c94a0b3"
      },
      "outputs": [
        {
          "output_type": "stream",
          "name": "stdout",
          "text": [
            "Original list:  [5, 7, 2, 6, 9]\n",
            "List with items squared:  [25, 49, 4, 36, 81]\n"
          ]
        }
      ],
      "source": [
        "mylist = [5, 7, 2, 6, 9]\n",
        "\n",
        "map_object = map(lambda x: x ** 2 , mylist)\n",
        "\n",
        "mylist_squared = list(map_object)\n",
        "\n",
        "print(\"Original list: \", mylist)\n",
        "print(\"List with items squared: \", mylist_squared)"
      ]
    },
    {
      "cell_type": "code",
      "source": [
        "list1 = [1, 5, 3]\n",
        "list2 = [4, 2, 3]"
      ],
      "metadata": {
        "id": "cUlrYM2NpgJ0"
      },
      "execution_count": null,
      "outputs": []
    },
    {
      "cell_type": "code",
      "source": [
        "newlist = []"
      ],
      "metadata": {
        "id": "rqFl6IYdp1wT"
      },
      "execution_count": null,
      "outputs": []
    },
    {
      "cell_type": "code",
      "source": [
        "new  = map(lambda a,b:a**b,list1,list2)"
      ],
      "metadata": {
        "id": "UiQSSu_Kp7jq"
      },
      "execution_count": null,
      "outputs": []
    },
    {
      "cell_type": "code",
      "source": [
        "mnew = list(new)"
      ],
      "metadata": {
        "id": "EiARLfj1qPqC"
      },
      "execution_count": null,
      "outputs": []
    },
    {
      "cell_type": "code",
      "source": [
        "mnew"
      ],
      "metadata": {
        "colab": {
          "base_uri": "https://localhost:8080/"
        },
        "id": "2Gou04NTqQ2l",
        "outputId": "47bae0a8-6294-410a-95db-bc471dc8c3fe"
      },
      "execution_count": null,
      "outputs": [
        {
          "output_type": "execute_result",
          "data": {
            "text/plain": [
              "[1, 25, 27]"
            ]
          },
          "metadata": {},
          "execution_count": 13
        }
      ]
    },
    {
      "cell_type": "code",
      "source": [
        "listt = [3,4,5,6,7]\n",
        "\n",
        "new = [i**3 for i in listt]"
      ],
      "metadata": {
        "id": "xx230do4qboC"
      },
      "execution_count": null,
      "outputs": []
    },
    {
      "cell_type": "code",
      "source": [
        "new"
      ],
      "metadata": {
        "colab": {
          "base_uri": "https://localhost:8080/"
        },
        "id": "rViiuV-_rxYk",
        "outputId": "db661e6d-f4c6-4df6-e4b6-a0320f5560d0"
      },
      "execution_count": null,
      "outputs": [
        {
          "output_type": "execute_result",
          "data": {
            "text/plain": [
              "[27, 64, 125, 216, 343]"
            ]
          },
          "metadata": {},
          "execution_count": 15
        }
      ]
    },
    {
      "cell_type": "code",
      "source": [
        "mylist = [1,2,3,6,74, 85, 14, 23, 56, 32, 45 ]\n",
        "\n",
        "map_object = map(lambda num: num%5, mylist)\n",
        "\n",
        "remainders = list(map_object)\n",
        "\n",
        "print(\"Original list: \", mylist)\n",
        "print(\"List of remainders: \", remainders)"
      ],
      "metadata": {
        "colab": {
          "base_uri": "https://localhost:8080/"
        },
        "id": "JLInsoSPrx3i",
        "outputId": "03f2cc35-dbde-4b8d-b231-0d774e5c8b09"
      },
      "execution_count": null,
      "outputs": [
        {
          "output_type": "stream",
          "name": "stdout",
          "text": [
            "Original list:  [1, 2, 3, 6, 74, 85, 14, 23, 56, 32, 45]\n",
            "List of remainders:  [1, 2, 3, 1, 4, 0, 4, 3, 1, 2, 0]\n"
          ]
        }
      ]
    },
    {
      "cell_type": "code",
      "source": [
        "mylist = [1,2,3,4,[], {},False , None, 4 , None]\n",
        "\n",
        "f = filter(None,mylist)"
      ],
      "metadata": {
        "id": "NOCfYcKIs48Y"
      },
      "execution_count": null,
      "outputs": []
    },
    {
      "cell_type": "code",
      "source": [
        "list(f)"
      ],
      "metadata": {
        "colab": {
          "base_uri": "https://localhost:8080/"
        },
        "id": "uj97trAzv3Ps",
        "outputId": "0df96250-8c6e-4fa5-cb4f-df31a69b064f"
      },
      "execution_count": null,
      "outputs": [
        {
          "output_type": "execute_result",
          "data": {
            "text/plain": [
              "[1, 2, 3, 4, 4]"
            ]
          },
          "metadata": {},
          "execution_count": 20
        }
      ]
    },
    {
      "cell_type": "code",
      "source": [
        "mylist = [2,3,4,4,5,55,6,6,60]\n",
        "\n",
        "f = filter(lambda x: x%2==0,mylist)\n",
        "\n",
        "list(f)"
      ],
      "metadata": {
        "colab": {
          "base_uri": "https://localhost:8080/"
        },
        "id": "y7Kdcqohv3m2",
        "outputId": "44698b74-da23-4875-dfba-ad363a805f01"
      },
      "execution_count": null,
      "outputs": [
        {
          "output_type": "execute_result",
          "data": {
            "text/plain": [
              "[2, 4, 4, 6, 6, 60]"
            ]
          },
          "metadata": {},
          "execution_count": 21
        }
      ]
    },
    {
      "cell_type": "code",
      "source": [
        "c = ['z','s','a','f','t','t','w','u']\n",
        "\n",
        "v = ['a','e', 'i','o','u']"
      ],
      "metadata": {
        "id": "X4PXrJgawNxS"
      },
      "execution_count": null,
      "outputs": []
    },
    {
      "cell_type": "code",
      "source": [
        "y = filter(lambda x:x in v,c)"
      ],
      "metadata": {
        "id": "Vqxn3FWVwuEp"
      },
      "execution_count": null,
      "outputs": []
    },
    {
      "cell_type": "code",
      "source": [
        "list(y)"
      ],
      "metadata": {
        "colab": {
          "base_uri": "https://localhost:8080/"
        },
        "id": "Mbp6syRdw0at",
        "outputId": "622d2b0a-838c-4d1c-e6cc-7a540ca28ff2"
      },
      "execution_count": null,
      "outputs": [
        {
          "output_type": "execute_result",
          "data": {
            "text/plain": [
              "['a', 'u']"
            ]
          },
          "metadata": {},
          "execution_count": 24
        }
      ]
    },
    {
      "cell_type": "code",
      "source": [
        "from functools import reduce"
      ],
      "metadata": {
        "id": "-6mVWQ4zw2Gx"
      },
      "execution_count": null,
      "outputs": []
    },
    {
      "cell_type": "code",
      "source": [
        "def myadd(a,b):\n",
        "  return a+b"
      ],
      "metadata": {
        "id": "8mkuPtuWxQBv"
      },
      "execution_count": null,
      "outputs": []
    },
    {
      "cell_type": "code",
      "source": [
        "no = [3,4,5,6,1,2]\n",
        "\n",
        "a = reduce(myadd, no)"
      ],
      "metadata": {
        "id": "wSKkh4d7zHPl"
      },
      "execution_count": null,
      "outputs": []
    },
    {
      "cell_type": "code",
      "source": [
        "a"
      ],
      "metadata": {
        "colab": {
          "base_uri": "https://localhost:8080/"
        },
        "id": "09ljxEZrzOIC",
        "outputId": "ae655d39-61aa-4d6a-b39e-06a19f7088a7"
      },
      "execution_count": null,
      "outputs": [
        {
          "output_type": "execute_result",
          "data": {
            "text/plain": [
              "21"
            ]
          },
          "metadata": {},
          "execution_count": 28
        }
      ]
    },
    {
      "cell_type": "code",
      "source": [
        "x = reduce(lambda x,y: x*y, no)"
      ],
      "metadata": {
        "id": "2zXW27IbzOcL"
      },
      "execution_count": null,
      "outputs": []
    },
    {
      "cell_type": "code",
      "source": [
        "x"
      ],
      "metadata": {
        "colab": {
          "base_uri": "https://localhost:8080/"
        },
        "id": "zo8OgZwCEFpa",
        "outputId": "b302bbce-308d-4679-8b2f-ac2e6c3b0a1c"
      },
      "execution_count": null,
      "outputs": [
        {
          "output_type": "execute_result",
          "data": {
            "text/plain": [
              "720"
            ]
          },
          "metadata": {},
          "execution_count": 6
        }
      ]
    },
    {
      "cell_type": "code",
      "source": [
        "l = [2,4,5,7,4,3,2,13,3,5,5,6,6,6,633,3,3,3,3]"
      ],
      "metadata": {
        "id": "4Yop5vZMERlH"
      },
      "execution_count": null,
      "outputs": []
    },
    {
      "cell_type": "code",
      "source": [
        "c = reduce(lambda a,b: a if a>b else b, l)"
      ],
      "metadata": {
        "id": "z4w44xzkExnW"
      },
      "execution_count": null,
      "outputs": []
    },
    {
      "cell_type": "code",
      "source": [
        "c"
      ],
      "metadata": {
        "id": "IMvq_pgFFBqC",
        "colab": {
          "base_uri": "https://localhost:8080/"
        },
        "outputId": "290795f2-14e6-4769-a9fa-8b4ca1f1cdda"
      },
      "execution_count": null,
      "outputs": [
        {
          "output_type": "execute_result",
          "data": {
            "text/plain": [
              "633"
            ]
          },
          "metadata": {},
          "execution_count": 16
        }
      ]
    },
    {
      "cell_type": "code",
      "source": [
        "l = [-6,-8,-90,-5,-7]\n",
        "c = reduce(lambda a,b: a if a>b else b, l, 0)"
      ],
      "metadata": {
        "id": "ab-cg_nBFyyG"
      },
      "execution_count": null,
      "outputs": []
    },
    {
      "cell_type": "code",
      "source": [
        "c"
      ],
      "metadata": {
        "id": "nuj7zGMJGBf3",
        "outputId": "fed95e35-c9f6-4993-8edd-ed9af787843c",
        "colab": {
          "base_uri": "https://localhost:8080/"
        }
      },
      "execution_count": null,
      "outputs": [
        {
          "output_type": "execute_result",
          "data": {
            "text/plain": [
              "0"
            ]
          },
          "metadata": {},
          "execution_count": 20
        }
      ]
    },
    {
      "cell_type": "code",
      "source": [
        "mylist = [0, 0, 1, 0, 0]\n",
        "\n",
        "rv = reduce(lambda a, b: bool(a and b), mylist)\n",
        "rv"
      ],
      "metadata": {
        "id": "JmEfs904GB5-",
        "colab": {
          "base_uri": "https://localhost:8080/"
        },
        "outputId": "9ed90867-cd24-4810-d25f-a5c129e2ee40"
      },
      "execution_count": null,
      "outputs": [
        {
          "output_type": "execute_result",
          "data": {
            "text/plain": [
              "False"
            ]
          },
          "metadata": {},
          "execution_count": 21
        }
      ]
    },
    {
      "cell_type": "code",
      "source": [
        "rv = reduce(lambda a,b : bool(a | b), mylist)"
      ],
      "metadata": {
        "id": "qN5cyfThGNdn"
      },
      "execution_count": null,
      "outputs": []
    },
    {
      "cell_type": "code",
      "source": [
        "rv"
      ],
      "metadata": {
        "colab": {
          "base_uri": "https://localhost:8080/"
        },
        "id": "X5PueDr5GW3B",
        "outputId": "99fcf3ce-196a-44c2-c84c-5cc8328a7fac"
      },
      "execution_count": null,
      "outputs": [
        {
          "output_type": "execute_result",
          "data": {
            "text/plain": [
              "True"
            ]
          },
          "metadata": {},
          "execution_count": 25
        }
      ]
    },
    {
      "cell_type": "code",
      "source": [
        "a = sorted(mylist)"
      ],
      "metadata": {
        "id": "mQcnk4gBGXpi"
      },
      "execution_count": null,
      "outputs": []
    },
    {
      "cell_type": "code",
      "source": [
        "a"
      ],
      "metadata": {
        "colab": {
          "base_uri": "https://localhost:8080/"
        },
        "id": "qhyTN1XpGvt5",
        "outputId": "f49bbc2b-bad3-4d2c-b910-78376a144774"
      },
      "execution_count": null,
      "outputs": [
        {
          "output_type": "execute_result",
          "data": {
            "text/plain": [
              "[0, 0, 0, 0, 1]"
            ]
          },
          "metadata": {},
          "execution_count": 28
        }
      ]
    },
    {
      "cell_type": "code",
      "source": [
        "t1 = ('abcz', 'xyza', 'bas', 'arif','shuuu')\n",
        "\n",
        "rv = sorted(t1)\n",
        "\n",
        "print(\"Sorted tuple: \", rv)\n",
        "print(\"Original tuple remains as such: \", t1)"
      ],
      "metadata": {
        "colab": {
          "base_uri": "https://localhost:8080/"
        },
        "id": "cepyLzu8Gzr7",
        "outputId": "d18a8df9-7c7d-4c1f-df90-3db57795515b"
      },
      "execution_count": null,
      "outputs": [
        {
          "output_type": "stream",
          "name": "stdout",
          "text": [
            "Sorted tuple:  ['abcz', 'arif', 'bas', 'shuuu', 'xyza']\n",
            "Original tuple remains as such:  ('abcz', 'xyza', 'bas', 'arif', 'shuuu')\n"
          ]
        }
      ]
    },
    {
      "cell_type": "code",
      "source": [
        "def last(s):\n",
        "  return s[-1]\n",
        "\n",
        "t = ['abc','aba','vcx','yreiw']\n",
        "\n",
        "d = sorted(t, key=last)"
      ],
      "metadata": {
        "id": "s8isjsDQG-Kx"
      },
      "execution_count": null,
      "outputs": []
    },
    {
      "cell_type": "code",
      "source": [
        "d"
      ],
      "metadata": {
        "colab": {
          "base_uri": "https://localhost:8080/"
        },
        "id": "HU4wdD8XHc2i",
        "outputId": "c5bd1844-a13f-403c-d17a-43d3ac452248"
      },
      "execution_count": null,
      "outputs": [
        {
          "output_type": "execute_result",
          "data": {
            "text/plain": [
              "['aba', 'abc', 'yreiw', 'vcx']"
            ]
          },
          "metadata": {},
          "execution_count": 34
        }
      ]
    },
    {
      "cell_type": "code",
      "source": [
        "t1 = ('abcz', 'xyza', 'bas', 'arif')\n",
        "\n",
        "rv = sorted(t1, key = lambda x : x[-1])\n",
        "\n",
        "print(\"Sorted tuple: \", rv)\n",
        "print(\"Original tuple remains as such: \", t1)"
      ],
      "metadata": {
        "colab": {
          "base_uri": "https://localhost:8080/"
        },
        "id": "3mmZMNh-HftY",
        "outputId": "b087cfa4-e015-4d04-e65b-4abe82cce272"
      },
      "execution_count": null,
      "outputs": [
        {
          "output_type": "stream",
          "name": "stdout",
          "text": [
            "Sorted tuple:  ['xyza', 'arif', 'bas', 'abcz']\n",
            "Original tuple remains as such:  ('abcz', 'xyza', 'bas', 'arif')\n"
          ]
        }
      ]
    },
    {
      "cell_type": "code",
      "source": [
        "mylist = [(4, 30), (6, 15), (1, 25), (9, 8)]\n",
        "\n",
        "def func(item):\n",
        "    return item[-1]\n",
        "\n",
        "mylist_sorted = sorted(mylist, key = func)\n",
        "\n",
        "mylist_sorted"
      ],
      "metadata": {
        "colab": {
          "base_uri": "https://localhost:8080/"
        },
        "id": "YosN1eg5IJ6Z",
        "outputId": "8c404a75-1cc7-4047-9fc4-cd1b59938923"
      },
      "execution_count": null,
      "outputs": [
        {
          "output_type": "execute_result",
          "data": {
            "text/plain": [
              "[(9, 8), (6, 15), (1, 25), (4, 30)]"
            ]
          },
          "metadata": {},
          "execution_count": 38
        }
      ]
    },
    {
      "cell_type": "code",
      "source": [
        "l1 = [1,2,3,4,5]\n",
        "l2 = [2,6,7,8]\n",
        "\n",
        "\n",
        "z = zip(l1,l2)\n",
        "\n",
        "e = list(z)"
      ],
      "metadata": {
        "id": "b3qEqbzBLMPy"
      },
      "execution_count": null,
      "outputs": []
    },
    {
      "cell_type": "code",
      "source": [
        "e"
      ],
      "metadata": {
        "colab": {
          "base_uri": "https://localhost:8080/"
        },
        "id": "PlJL-FJMMHSD",
        "outputId": "87bee151-ad9f-40a6-adab-baf54fda09a2"
      },
      "execution_count": null,
      "outputs": [
        {
          "output_type": "execute_result",
          "data": {
            "text/plain": [
              "[(1, 2), (2, 6), (3, 7), (4, 8)]"
            ]
          },
          "metadata": {},
          "execution_count": 42
        }
      ]
    },
    {
      "cell_type": "code",
      "source": [
        "mylist = ['banana', 'mango', 'grapes']\n",
        "a = iter(mylist)\n",
        "a"
      ],
      "metadata": {
        "colab": {
          "base_uri": "https://localhost:8080/"
        },
        "id": "llDbPL_EMHzd",
        "outputId": "fbbc93b3-8b7d-42e8-986b-9b57df547c98"
      },
      "execution_count": null,
      "outputs": [
        {
          "output_type": "execute_result",
          "data": {
            "text/plain": [
              "<list_iterator at 0x7fc0bbab8040>"
            ]
          },
          "metadata": {},
          "execution_count": 48
        }
      ]
    },
    {
      "cell_type": "code",
      "source": [
        "next(a)\n"
      ],
      "metadata": {
        "colab": {
          "base_uri": "https://localhost:8080/",
          "height": 35
        },
        "id": "kVO-UjziMemA",
        "outputId": "f372476f-ba9d-4483-a044-08cda4bf8247"
      },
      "execution_count": null,
      "outputs": [
        {
          "output_type": "execute_result",
          "data": {
            "text/plain": [
              "'mango'"
            ],
            "application/vnd.google.colaboratory.intrinsic+json": {
              "type": "string"
            }
          },
          "metadata": {},
          "execution_count": 50
        }
      ]
    },
    {
      "cell_type": "code",
      "source": [
        "def mygenerator():\n",
        "    print('First item')\n",
        "    yield 10\n",
        "\n",
        "    print('Second item')\n",
        "    yield 20\n",
        "\n",
        "    print('Last item')\n",
        "    yield 30"
      ],
      "metadata": {
        "id": "fZi6XOqcMf8h"
      },
      "execution_count": null,
      "outputs": []
    },
    {
      "cell_type": "code",
      "source": [
        "gen = mygenerator()"
      ],
      "metadata": {
        "id": "Y9wHv9vlNAPm"
      },
      "execution_count": null,
      "outputs": []
    },
    {
      "cell_type": "code",
      "source": [
        "next(gen)"
      ],
      "metadata": {
        "colab": {
          "base_uri": "https://localhost:8080/"
        },
        "id": "aJBJJA2PNZV8",
        "outputId": "2d357de6-0c21-4dd4-ecd1-ee2f70a0630e"
      },
      "execution_count": null,
      "outputs": [
        {
          "output_type": "stream",
          "name": "stdout",
          "text": [
            "Second item\n"
          ]
        },
        {
          "output_type": "execute_result",
          "data": {
            "text/plain": [
              "20"
            ]
          },
          "metadata": {},
          "execution_count": 54
        }
      ]
    },
    {
      "cell_type": "code",
      "source": [
        "def gencubes(n):\n",
        "    for num in range(n):\n",
        "        yield num**3\n",
        "for x in gencubes(5):\n",
        "    print(x)"
      ],
      "metadata": {
        "colab": {
          "base_uri": "https://localhost:8080/"
        },
        "id": "H0zeFTEJNces",
        "outputId": "e559d99c-0620-4143-bda3-38ff850cfdde"
      },
      "execution_count": null,
      "outputs": [
        {
          "output_type": "stream",
          "name": "stdout",
          "text": [
            "0\n",
            "1\n",
            "8\n",
            "27\n",
            "64\n"
          ]
        }
      ]
    },
    {
      "cell_type": "code",
      "source": [
        "gencubes(4)"
      ],
      "metadata": {
        "colab": {
          "base_uri": "https://localhost:8080/"
        },
        "id": "iB2FpfaqRn3l",
        "outputId": "50b6b6e2-09ea-4632-db95-7c825e9474a1"
      },
      "execution_count": null,
      "outputs": [
        {
          "output_type": "execute_result",
          "data": {
            "text/plain": [
              "<generator object gencubes at 0x7fc0ae05e0b0>"
            ]
          },
          "metadata": {},
          "execution_count": 56
        }
      ]
    },
    {
      "cell_type": "code",
      "source": [
        "listA = [1,3,3,4,5,5,6,6,7,8]\n",
        "listB = []\n",
        "\n",
        "for a in listA:\n",
        "  if(a%2==0):\n",
        "    listB.append(a)\n",
        "print(listB)"
      ],
      "metadata": {
        "colab": {
          "base_uri": "https://localhost:8080/"
        },
        "id": "C1_lRolhSWq3",
        "outputId": "faf2afad-7c7b-4ca2-cd57-42cb04710785"
      },
      "execution_count": null,
      "outputs": [
        {
          "output_type": "stream",
          "name": "stdout",
          "text": [
            "[4, 6, 6, 8]\n"
          ]
        }
      ]
    },
    {
      "cell_type": "code",
      "source": [
        "listA = [1, 5, 8, 3, 2]\n",
        "listB = [i for i in listA if i % 2 == 0]\n",
        "print(listB)"
      ],
      "metadata": {
        "colab": {
          "base_uri": "https://localhost:8080/"
        },
        "id": "FEr_3OveTya2",
        "outputId": "eab0a718-4b99-4010-9cf1-0297115c2b88"
      },
      "execution_count": null,
      "outputs": [
        {
          "output_type": "stream",
          "name": "stdout",
          "text": [
            "[8, 2]\n"
          ]
        }
      ]
    },
    {
      "cell_type": "code",
      "source": [
        "def myfunc(nam):\n",
        "    nam = \"Arif Butt\"\n",
        "\n",
        "a = \"Kakamanna\"\n",
        "print(\"Before calling: \", a)\n",
        "\n",
        "rv = myfunc(a)\n",
        "print(\"After calling: \", a)"
      ],
      "metadata": {
        "colab": {
          "base_uri": "https://localhost:8080/"
        },
        "id": "vuM2zFeUUgHs",
        "outputId": "218a95ad-e796-452f-e707-eb8d164e051d"
      },
      "execution_count": null,
      "outputs": [
        {
          "output_type": "stream",
          "name": "stdout",
          "text": [
            "Before calling:  Kakamanna\n",
            "After calling:  Kakamanna\n"
          ]
        }
      ]
    },
    {
      "cell_type": "code",
      "source": [
        "def myfunc(x, y, z):\n",
        "    x = x + 1\n",
        "    y = y + 1\n",
        "    z = z + 1\n",
        "\n",
        "a = 10\n",
        "b = 20\n",
        "c = 30\n",
        "\n",
        "myfunc(a, b, c)\n",
        "\n",
        "print(a, b, c)"
      ],
      "metadata": {
        "colab": {
          "base_uri": "https://localhost:8080/"
        },
        "id": "_MKOE5B0U040",
        "outputId": "9877bc5b-703b-471b-c9b3-d6984a89d4e2"
      },
      "execution_count": null,
      "outputs": [
        {
          "output_type": "stream",
          "name": "stdout",
          "text": [
            "10 20 30\n"
          ]
        }
      ]
    },
    {
      "cell_type": "code",
      "source": [
        "# Tuples are mutable: proof of concept\n",
        "def func1(t1):\n",
        "    t1[2] = 'x'\n",
        "    \n",
        "mytuple = ('a', 'b', 'c', 'd', 'e', 'f')\n",
        "print(\"Before calling: \", mytuple)\n",
        "\n",
        "func1(mytuple)\n",
        "print(\"After calling: \", mytuple)"
      ],
      "metadata": {
        "colab": {
          "base_uri": "https://localhost:8080/",
          "height": 356
        },
        "id": "Msgy-hn9VuKT",
        "outputId": "243535e7-47e7-4b87-e903-f79d399f04c8"
      },
      "execution_count": null,
      "outputs": [
        {
          "output_type": "stream",
          "name": "stdout",
          "text": [
            "Before calling:  ('a', 'b', 'c', 'd', 'e', 'f')\n"
          ]
        },
        {
          "output_type": "error",
          "ename": "TypeError",
          "evalue": "ignored",
          "traceback": [
            "\u001b[0;31m---------------------------------------------------------------------------\u001b[0m",
            "\u001b[0;31mTypeError\u001b[0m                                 Traceback (most recent call last)",
            "\u001b[0;32m<ipython-input-66-98e26c91076f>\u001b[0m in \u001b[0;36m<module>\u001b[0;34m\u001b[0m\n\u001b[1;32m      6\u001b[0m \u001b[0mprint\u001b[0m\u001b[0;34m(\u001b[0m\u001b[0;34m\"Before calling: \"\u001b[0m\u001b[0;34m,\u001b[0m \u001b[0mmytuple\u001b[0m\u001b[0;34m)\u001b[0m\u001b[0;34m\u001b[0m\u001b[0;34m\u001b[0m\u001b[0m\n\u001b[1;32m      7\u001b[0m \u001b[0;34m\u001b[0m\u001b[0m\n\u001b[0;32m----> 8\u001b[0;31m \u001b[0mfunc1\u001b[0m\u001b[0;34m(\u001b[0m\u001b[0mmytuple\u001b[0m\u001b[0;34m)\u001b[0m\u001b[0;34m\u001b[0m\u001b[0;34m\u001b[0m\u001b[0m\n\u001b[0m\u001b[1;32m      9\u001b[0m \u001b[0mprint\u001b[0m\u001b[0;34m(\u001b[0m\u001b[0;34m\"After calling: \"\u001b[0m\u001b[0;34m,\u001b[0m \u001b[0mmytuple\u001b[0m\u001b[0;34m)\u001b[0m\u001b[0;34m\u001b[0m\u001b[0;34m\u001b[0m\u001b[0m\n",
            "\u001b[0;32m<ipython-input-66-98e26c91076f>\u001b[0m in \u001b[0;36mfunc1\u001b[0;34m(t1)\u001b[0m\n\u001b[1;32m      1\u001b[0m \u001b[0;31m# Tuples are mutable: proof of concept\u001b[0m\u001b[0;34m\u001b[0m\u001b[0;34m\u001b[0m\u001b[0;34m\u001b[0m\u001b[0m\n\u001b[1;32m      2\u001b[0m \u001b[0;32mdef\u001b[0m \u001b[0mfunc1\u001b[0m\u001b[0;34m(\u001b[0m\u001b[0mt1\u001b[0m\u001b[0;34m)\u001b[0m\u001b[0;34m:\u001b[0m\u001b[0;34m\u001b[0m\u001b[0;34m\u001b[0m\u001b[0m\n\u001b[0;32m----> 3\u001b[0;31m     \u001b[0mt1\u001b[0m\u001b[0;34m[\u001b[0m\u001b[0;36m2\u001b[0m\u001b[0;34m]\u001b[0m \u001b[0;34m=\u001b[0m \u001b[0;34m'x'\u001b[0m\u001b[0;34m\u001b[0m\u001b[0;34m\u001b[0m\u001b[0m\n\u001b[0m\u001b[1;32m      4\u001b[0m \u001b[0;34m\u001b[0m\u001b[0m\n\u001b[1;32m      5\u001b[0m \u001b[0mmytuple\u001b[0m \u001b[0;34m=\u001b[0m \u001b[0;34m(\u001b[0m\u001b[0;34m'a'\u001b[0m\u001b[0;34m,\u001b[0m \u001b[0;34m'b'\u001b[0m\u001b[0;34m,\u001b[0m \u001b[0;34m'c'\u001b[0m\u001b[0;34m,\u001b[0m \u001b[0;34m'd'\u001b[0m\u001b[0;34m,\u001b[0m \u001b[0;34m'e'\u001b[0m\u001b[0;34m,\u001b[0m \u001b[0;34m'f'\u001b[0m\u001b[0;34m)\u001b[0m\u001b[0;34m\u001b[0m\u001b[0;34m\u001b[0m\u001b[0m\n",
            "\u001b[0;31mTypeError\u001b[0m: 'tuple' object does not support item assignment"
          ]
        }
      ]
    },
    {
      "cell_type": "code",
      "source": [
        "# Function with default arguments\n",
        "def display(name = 'kakamanna', age = 35):\n",
        "   print (\"Name: \", name, \", Age: \", age)\n",
        "   return;\n",
        "\n",
        "# calling a function with both arguments (order matters)\n",
        "display(\"Arif Butt\", 51)\n",
        "\n",
        "# calling a function with one argument only (the default value of age will be printed)\n",
        "display(\"Mujahid Butt\" )"
      ],
      "metadata": {
        "colab": {
          "base_uri": "https://localhost:8080/"
        },
        "id": "sAlW__-sYBo_",
        "outputId": "6b3c25bf-36d5-4285-a824-37b0cdcf5819"
      },
      "execution_count": null,
      "outputs": [
        {
          "output_type": "stream",
          "name": "stdout",
          "text": [
            "Name:  Arif Butt , Age:  51\n",
            "Name:  Mujahid Butt , Age:  35\n"
          ]
        }
      ]
    },
    {
      "cell_type": "code",
      "source": [
        "# Function calling with key word arguments\n",
        "def display(name, age):\n",
        "   print (\"Name: \", name, \", Age: \", age)\n",
        "   return;\n",
        "\n",
        "# Sequence/order of arguments matter\n",
        "display(25, \"Arif Butt\")"
      ],
      "metadata": {
        "colab": {
          "base_uri": "https://localhost:8080/"
        },
        "id": "6PKbEQFwY2YU",
        "outputId": "b48c4f10-5c17-46e4-9939-f60fd0c3f896"
      },
      "execution_count": null,
      "outputs": [
        {
          "output_type": "stream",
          "name": "stdout",
          "text": [
            "Name:  25 , Age:  Arif Butt\n"
          ]
        }
      ]
    },
    {
      "cell_type": "code",
      "source": [
        "def my_function(*args):   # Whatever is passed to this function, it will create an iterable out of it\n",
        "    print(type(args))\n",
        "\n",
        "my_function('arif','rauf')\n",
        "print(\"\\n\")"
      ],
      "metadata": {
        "colab": {
          "base_uri": "https://localhost:8080/"
        },
        "id": "ZQqAjpBpZFZg",
        "outputId": "0d84cbc2-6f72-4f61-f17c-439e4c7f3623"
      },
      "execution_count": null,
      "outputs": [
        {
          "output_type": "stream",
          "name": "stdout",
          "text": [
            "<class 'tuple'>\n",
            "\n",
            "\n"
          ]
        }
      ]
    },
    {
      "cell_type": "code",
      "source": [
        "# Example: Passing variable number of arguments to a function\n",
        "def my_function(*args):   # Whatever is passed to this function, it will create an iterable out of it\n",
        "    for i in args:        # We can use the iter() and next() function to iterate through the iterable\n",
        "        print(i, end=' ')\n",
        "\n",
        "my_function()\n",
        "my_function('arif','rauf')\n",
        "print(\"\\n\")\n",
        "\n",
        "my_function(1, 2, 3, 4, 5, 6, 7, 8)\n",
        "print(\"\\n\")\n",
        "\n",
        "my_function(5, 2.5, 9)"
      ],
      "metadata": {
        "colab": {
          "base_uri": "https://localhost:8080/"
        },
        "id": "TeM8unk1Zgo9",
        "outputId": "2a70eed7-3b67-496f-a90e-b1f00f08d0c4"
      },
      "execution_count": null,
      "outputs": [
        {
          "output_type": "stream",
          "name": "stdout",
          "text": [
            "arif rauf \n",
            "\n",
            "1 2 3 4 5 6 7 8 \n",
            "\n",
            "5 2.5 9 "
          ]
        }
      ]
    },
    {
      "cell_type": "code",
      "source": [
        "def myfunc(**kwargs):\n",
        "    # Iterating over the key:value pairs of kwargs dictionary\n",
        "    for arg in kwargs.items():\n",
        "        print(arg)\n",
        "\n",
        "        \n",
        "myfunc(a = \"Learning\", b = 'Is', c = 'Fun')"
      ],
      "metadata": {
        "colab": {
          "base_uri": "https://localhost:8080/"
        },
        "id": "38x9EizOaArY",
        "outputId": "b19f410a-d474-4fd9-937e-d90ebdbe168a"
      },
      "execution_count": null,
      "outputs": [
        {
          "output_type": "stream",
          "name": "stdout",
          "text": [
            "('a', 'Learning')\n",
            "('b', 'Is')\n",
            "('c', 'Fun')\n"
          ]
        }
      ]
    },
    {
      "cell_type": "code",
      "source": [
        "def myfunc(**kwargs):\n",
        "    result = \"\"\n",
        "    # Iterating over the values only of kwargs dictionary\n",
        "    for arg in kwargs.keys():\n",
        "        print(arg)\n",
        "\n",
        "myfunc(a = \"Learning\", b = 'Is', c = 'Fun', d ='with', e='Arif')\n"
      ],
      "metadata": {
        "colab": {
          "base_uri": "https://localhost:8080/"
        },
        "id": "GChSGDwVaUua",
        "outputId": "d5205707-c55a-470b-981e-d7a3f2688066"
      },
      "execution_count": null,
      "outputs": [
        {
          "output_type": "stream",
          "name": "stdout",
          "text": [
            "a\n",
            "b\n",
            "c\n",
            "d\n",
            "e\n"
          ]
        }
      ]
    },
    {
      "cell_type": "code",
      "source": [
        "def greet(**kwargs):\n",
        "    print('Hello, ', kwargs['fname'],  kwargs['mname'], kwargs['lname'])\n",
        "\n",
        "greet(lname='Butt', fname='Muhammad', mname= 'Arif')"
      ],
      "metadata": {
        "colab": {
          "base_uri": "https://localhost:8080/"
        },
        "id": "DQWFryq1ajeK",
        "outputId": "c189bde1-3ffc-4d42-c345-47fa9ba46ddf"
      },
      "execution_count": null,
      "outputs": [
        {
          "output_type": "stream",
          "name": "stdout",
          "text": [
            "Hello,  Muhammad Arif Butt\n"
          ]
        }
      ]
    },
    {
      "cell_type": "code",
      "source": [
        "def outerFunction(): \n",
        "    name = 'Arif'\n",
        "    def innerFunction():\n",
        "        print(name) \n",
        "    innerFunction() \n",
        "    \n",
        "outerFunction() "
      ],
      "metadata": {
        "colab": {
          "base_uri": "https://localhost:8080/"
        },
        "id": "HymxBE4pavPb",
        "outputId": "3e664100-52de-4389-ee9c-6b34f5f879c8"
      },
      "execution_count": null,
      "outputs": [
        {
          "output_type": "stream",
          "name": "stdout",
          "text": [
            "Arif\n"
          ]
        }
      ]
    },
    {
      "cell_type": "code",
      "source": [
        "def f1():\n",
        "    cc = 1234      # cc is local variable to f1()\n",
        "    def f2():\n",
        "        cc = 4321  # cc is local variable to f2()\n",
        "        print(\"Inside the f2() function: cc = \", cc)\n",
        "    f2()\n",
        "    print(\"Inside the f1() function: cc = \", cc)\n",
        "\n",
        "\n",
        "f1()"
      ],
      "metadata": {
        "colab": {
          "base_uri": "https://localhost:8080/"
        },
        "id": "wY4UUMgcbbHI",
        "outputId": "c4c7595b-c96c-4a21-d0dc-131e685033f4"
      },
      "execution_count": null,
      "outputs": [
        {
          "output_type": "stream",
          "name": "stdout",
          "text": [
            "Inside the f2() function: cc =  4321\n",
            "Inside the f1() function: cc =  1234\n"
          ]
        }
      ]
    },
    {
      "cell_type": "code",
      "source": [
        "def len(x):\n",
        "    return 54\n",
        "\n",
        "x = len('Data Science')    \n",
        "print(x)"
      ],
      "metadata": {
        "colab": {
          "base_uri": "https://localhost:8080/"
        },
        "id": "EVmh68aacFkY",
        "outputId": "b84855bb-964b-4a55-97b9-c1f8a22bd545"
      },
      "execution_count": null,
      "outputs": [
        {
          "output_type": "stream",
          "name": "stdout",
          "text": [
            "54\n"
          ]
        }
      ]
    },
    {
      "cell_type": "code",
      "source": [
        "# Example:\n",
        "c = 1234         # c is a global variable\n",
        "def my_function():\n",
        "    global c \n",
        "    c = c + 1   # Updating global variable inside function\n",
        "    print(\"Value of variable 'c' inside function: \", c)\n",
        "\n",
        "my_function()\n",
        "print(\"Value of variable 'c' outside function: \", c)"
      ],
      "metadata": {
        "colab": {
          "base_uri": "https://localhost:8080/"
        },
        "id": "D-oXDjc_c67l",
        "outputId": "4dfcf29f-1c19-418d-9844-6e83a4d10843"
      },
      "execution_count": null,
      "outputs": [
        {
          "output_type": "stream",
          "name": "stdout",
          "text": [
            "Value of variable 'c' inside function:  1235\n",
            "Value of variable 'c' outside function:  1235\n"
          ]
        }
      ]
    },
    {
      "cell_type": "code",
      "source": [
        "# Example 2: To update a nonlocal variable inside the inner function, you use the nonlocal keyword\n",
        "def f1():\n",
        "    a = 1234\n",
        "    def f2():\n",
        "        nonlocal a\n",
        "        a = a + 1\n",
        "        print(\"Inside the f2() function: a = \", a)\n",
        "    f2()\n",
        "    print(\"Inside the f1() function: a = \", a)\n",
        "\n",
        "\n",
        "f1()"
      ],
      "metadata": {
        "colab": {
          "base_uri": "https://localhost:8080/"
        },
        "id": "OgPbuXz9dIA7",
        "outputId": "621009dc-9e7f-4128-a2ec-aa828679bc7d"
      },
      "execution_count": null,
      "outputs": [
        {
          "output_type": "stream",
          "name": "stdout",
          "text": [
            "Inside the f2() function: a =  1235\n",
            "Inside the f1() function: a =  1235\n"
          ]
        }
      ]
    },
    {
      "cell_type": "code",
      "source": [
        "x = 5\n",
        "print(x, id(x))\n",
        "def number():\n",
        "    x = 3\n",
        "    print(x, id(x))\n",
        "    def f1():\n",
        "        nonlocal x\n",
        "        x = x * 5\n",
        "        print(x, id(x))\n",
        "    f1()\n",
        "def numb():\n",
        "    global x\n",
        "    x = x * 5\n",
        "    print(x, id(x))\n",
        "number()\n",
        "numb()    \n",
        "print(x, id(x))"
      ],
      "metadata": {
        "colab": {
          "base_uri": "https://localhost:8080/"
        },
        "id": "A6uukRhQdwYF",
        "outputId": "9f20e391-8581-4cac-d35b-b6aea52295b0"
      },
      "execution_count": null,
      "outputs": [
        {
          "output_type": "stream",
          "name": "stdout",
          "text": [
            "5 9793216\n",
            "3 9793152\n",
            "15 9793536\n",
            "25 9793856\n",
            "25 9793856\n"
          ]
        }
      ]
    },
    {
      "cell_type": "code",
      "source": [
        "import numpy as np\n",
        "arr1 = np.arange(12)\n",
        "arr2 = np.reshape(arr1,(4,3),order='F')\n",
        "print(arr2)\n",
        "\n",
        "arr3 = np.arange(16).reshape(4,4)\n",
        "print(np.split(arr1, [1,3], axis=0))"
      ],
      "metadata": {
        "colab": {
          "base_uri": "https://localhost:8080/"
        },
        "id": "l2TgKgvUd-ac",
        "outputId": "7c5b68e4-75ee-41e4-df80-4b4eedeb0cd4"
      },
      "execution_count": null,
      "outputs": [
        {
          "output_type": "stream",
          "name": "stdout",
          "text": [
            "[[ 0  4  8]\n",
            " [ 1  5  9]\n",
            " [ 2  6 10]\n",
            " [ 3  7 11]]\n",
            "[array([0]), array([1, 2]), array([ 3,  4,  5,  6,  7,  8,  9, 10, 11])]\n"
          ]
        }
      ]
    },
    {
      "cell_type": "code",
      "source": [
        "a = np.random.randint(low=1, high=10, size=(4,4))"
      ],
      "metadata": {
        "id": "bBrLq82bgT7h"
      },
      "execution_count": null,
      "outputs": []
    },
    {
      "cell_type": "code",
      "source": [
        "a"
      ],
      "metadata": {
        "colab": {
          "base_uri": "https://localhost:8080/"
        },
        "id": "hZ3oln4ZhaN1",
        "outputId": "bfa59a8b-d096-46e6-f127-a6bd13779960"
      },
      "execution_count": null,
      "outputs": [
        {
          "output_type": "execute_result",
          "data": {
            "text/plain": [
              "array([[4, 6, 2, 2],\n",
              "       [1, 6, 1, 9],\n",
              "       [2, 1, 9, 7],\n",
              "       [1, 2, 8, 7]])"
            ]
          },
          "metadata": {},
          "execution_count": 104
        }
      ]
    },
    {
      "cell_type": "code",
      "source": [
        "print(np.split(a,[1,3],axis=1))"
      ],
      "metadata": {
        "colab": {
          "base_uri": "https://localhost:8080/"
        },
        "id": "5d4osu5-hgeV",
        "outputId": "b1de1f98-bbc2-456d-d3cd-9c33d3ce2bbd"
      },
      "execution_count": null,
      "outputs": [
        {
          "output_type": "stream",
          "name": "stdout",
          "text": [
            "[array([[4],\n",
            "       [1],\n",
            "       [2],\n",
            "       [1]]), array([[6, 2],\n",
            "       [6, 1],\n",
            "       [1, 9],\n",
            "       [2, 8]]), array([[2],\n",
            "       [9],\n",
            "       [7],\n",
            "       [7]])]\n"
          ]
        }
      ]
    },
    {
      "cell_type": "code",
      "source": [
        "arr3 = np.arange(16).reshape(4,4)\n",
        "print(arr3)"
      ],
      "metadata": {
        "colab": {
          "base_uri": "https://localhost:8080/"
        },
        "id": "P-D1lCx7ht4j",
        "outputId": "3f737793-7026-44f2-ca82-dec210ee5601"
      },
      "execution_count": null,
      "outputs": [
        {
          "output_type": "stream",
          "name": "stdout",
          "text": [
            "[[ 0  1  2  3]\n",
            " [ 4  5  6  7]\n",
            " [ 8  9 10 11]\n",
            " [12 13 14 15]]\n"
          ]
        }
      ]
    },
    {
      "cell_type": "code",
      "source": [
        "arr1 = np.arange(12)\n",
        "arr1"
      ],
      "metadata": {
        "colab": {
          "base_uri": "https://localhost:8080/"
        },
        "id": "p3x9fC1jjbGS",
        "outputId": "afaed1e1-aa56-48e8-cac0-6c85f46a3756"
      },
      "execution_count": null,
      "outputs": [
        {
          "output_type": "execute_result",
          "data": {
            "text/plain": [
              "array([ 0,  1,  2,  3,  4,  5,  6,  7,  8,  9, 10, 11])"
            ]
          },
          "metadata": {},
          "execution_count": 118
        }
      ]
    },
    {
      "cell_type": "code",
      "source": [
        "\n",
        "print(np.split(arr3, [1,3], axis=1))"
      ],
      "metadata": {
        "colab": {
          "base_uri": "https://localhost:8080/"
        },
        "id": "PvJXKNe5iXf2",
        "outputId": "12fc7b6c-7ca3-4357-a2cf-70d8224712b3"
      },
      "execution_count": null,
      "outputs": [
        {
          "output_type": "stream",
          "name": "stdout",
          "text": [
            "[array([[ 0],\n",
            "       [ 4],\n",
            "       [ 8],\n",
            "       [12]]), array([[ 1,  2],\n",
            "       [ 5,  6],\n",
            "       [ 9, 10],\n",
            "       [13, 14]]), array([[ 3],\n",
            "       [ 7],\n",
            "       [11],\n",
            "       [15]])]\n"
          ]
        }
      ]
    },
    {
      "cell_type": "code",
      "source": [
        "arr = np.arange(5,95,5).reshape(3,2,3)\n",
        "print(arr)\n",
        "print(arr[-3])\n",
        "print(arr[-1, 1:3])\n",
        "print(arr.strides)"
      ],
      "metadata": {
        "colab": {
          "base_uri": "https://localhost:8080/"
        },
        "id": "tGuo46vrisTr",
        "outputId": "17c228bf-fdb0-4a81-ccc5-b23a4817cbc0"
      },
      "execution_count": null,
      "outputs": [
        {
          "output_type": "stream",
          "name": "stdout",
          "text": [
            "[[[ 5 10 15]\n",
            "  [20 25 30]]\n",
            "\n",
            " [[35 40 45]\n",
            "  [50 55 60]]\n",
            "\n",
            " [[65 70 75]\n",
            "  [80 85 90]]]\n",
            "[[ 5 10 15]\n",
            " [20 25 30]]\n",
            "[[80 85 90]]\n",
            "(48, 24, 8)\n"
          ]
        }
      ]
    },
    {
      "cell_type": "code",
      "source": [
        "arr1 = np.array([2,5,1])\n",
        "arr2 = np.array([3,6,2])\n",
        "arr3 = np.vstack((arr1, arr2))\n",
        "arr4 = np.hstack((arr1, arr2))\n",
        "arr5 = np.stack((arr1, arr2), axis = 1)\n",
        "print (arr3)\n",
        "print (arr4)\n",
        "print (arr5)"
      ],
      "metadata": {
        "colab": {
          "base_uri": "https://localhost:8080/"
        },
        "id": "FDyjFk15kBuw",
        "outputId": "cdaa9066-ad0b-4912-ac33-c5cafe3542b2"
      },
      "execution_count": null,
      "outputs": [
        {
          "output_type": "stream",
          "name": "stdout",
          "text": [
            "[[2 5 1]\n",
            " [3 6 2]]\n",
            "[2 5 1 3 6 2]\n",
            "[[2 3]\n",
            " [5 6]\n",
            " [1 2]]\n"
          ]
        }
      ]
    },
    {
      "cell_type": "code",
      "source": [
        "import numpy as np\n",
        "\n",
        "arrz = np.array([2,5,9,3,8])\n",
        "def harmonic_mean(arr):\n",
        "    return len(arr) / np.sum(1/arr)"
      ],
      "metadata": {
        "id": "1F90Dhrtkikd"
      },
      "execution_count": null,
      "outputs": []
    },
    {
      "cell_type": "code",
      "source": [
        "harmonic_mean(arrz)"
      ],
      "metadata": {
        "colab": {
          "base_uri": "https://localhost:8080/"
        },
        "id": "orLxUSZuy_N_",
        "outputId": "46b29dd5-4362-44fe-e4aa-ecf8d4747112"
      },
      "execution_count": null,
      "outputs": [
        {
          "output_type": "execute_result",
          "data": {
            "text/plain": [
              "42.5382932166302"
            ]
          },
          "metadata": {},
          "execution_count": 170
        }
      ]
    },
    {
      "cell_type": "code",
      "source": [
        "import scipy \n",
        "from scipy import stats\n",
        "arr = np.array([2,5,9,3,8,10])\n",
        "rv1 = scipy.stats.hmean(arr)"
      ],
      "metadata": {
        "id": "XwtrohMgzQ23"
      },
      "execution_count": null,
      "outputs": []
    },
    {
      "cell_type": "code",
      "source": [
        "rv1"
      ],
      "metadata": {
        "colab": {
          "base_uri": "https://localhost:8080/"
        },
        "id": "2uBl-j-uz2m_",
        "outputId": "d9c778bc-aca4-4f77-885b-5cb54b84cb17"
      },
      "execution_count": null,
      "outputs": [
        {
          "output_type": "execute_result",
          "data": {
            "text/plain": [
              "4.381338742393509"
            ]
          },
          "metadata": {},
          "execution_count": 166
        }
      ]
    },
    {
      "cell_type": "code",
      "source": [
        "a = len(arr) / np.sum(1/arr)"
      ],
      "metadata": {
        "id": "vgdVxAxo0VlH"
      },
      "execution_count": null,
      "outputs": []
    },
    {
      "cell_type": "code",
      "source": [
        "a"
      ],
      "metadata": {
        "colab": {
          "base_uri": "https://localhost:8080/"
        },
        "id": "W8D8p4Ou0ulQ",
        "outputId": "bb34170a-c9fd-4897-c38f-c8a998f7b0b6"
      },
      "execution_count": null,
      "outputs": [
        {
          "output_type": "execute_result",
          "data": {
            "text/plain": [
              "39.43204868154158"
            ]
          },
          "metadata": {},
          "execution_count": 163
        }
      ]
    },
    {
      "cell_type": "code",
      "source": [
        "a = np.arange(1, 51)\n",
        "\n",
        "\n"
      ],
      "metadata": {
        "id": "aC0207g20vV6"
      },
      "execution_count": null,
      "outputs": []
    },
    {
      "cell_type": "code",
      "source": [
        "b = a.reshape(5,2,5)"
      ],
      "metadata": {
        "id": "v9MTpSJx2mdw"
      },
      "execution_count": null,
      "outputs": []
    },
    {
      "cell_type": "code",
      "source": [
        "b"
      ],
      "metadata": {
        "colab": {
          "base_uri": "https://localhost:8080/"
        },
        "id": "pFMEYHiM21ah",
        "outputId": "bf0460f7-a02a-4dd2-8bd7-6ab3beddebe4"
      },
      "execution_count": null,
      "outputs": [
        {
          "output_type": "execute_result",
          "data": {
            "text/plain": [
              "array([[[ 1,  2,  3,  4,  5],\n",
              "        [ 6,  7,  8,  9, 10]],\n",
              "\n",
              "       [[11, 12, 13, 14, 15],\n",
              "        [16, 17, 18, 19, 20]],\n",
              "\n",
              "       [[21, 22, 23, 24, 25],\n",
              "        [26, 27, 28, 29, 30]],\n",
              "\n",
              "       [[31, 32, 33, 34, 35],\n",
              "        [36, 37, 38, 39, 40]],\n",
              "\n",
              "       [[41, 42, 43, 44, 45],\n",
              "        [46, 47, 48, 49, 50]]])"
            ]
          },
          "metadata": {},
          "execution_count": 182
        }
      ]
    },
    {
      "cell_type": "code",
      "source": [
        "b.ndim"
      ],
      "metadata": {
        "colab": {
          "base_uri": "https://localhost:8080/"
        },
        "id": "ZmgQW2IX3HJh",
        "outputId": "f2a55b48-27b5-4a63-9aad-f996c32a7a25"
      },
      "execution_count": null,
      "outputs": [
        {
          "output_type": "execute_result",
          "data": {
            "text/plain": [
              "3"
            ]
          },
          "metadata": {},
          "execution_count": 183
        }
      ]
    },
    {
      "cell_type": "code",
      "source": [
        "a = np.arange(3,13).reshape(2,5)"
      ],
      "metadata": {
        "id": "6syLWFwg3KDu"
      },
      "execution_count": null,
      "outputs": []
    },
    {
      "cell_type": "code",
      "source": [
        "a"
      ],
      "metadata": {
        "colab": {
          "base_uri": "https://localhost:8080/"
        },
        "id": "HZoXLpwm3YiC",
        "outputId": "a3dc68bf-952c-45f7-ebdf-2f245ace35c1"
      },
      "execution_count": null,
      "outputs": [
        {
          "output_type": "execute_result",
          "data": {
            "text/plain": [
              "array([[ 3,  4,  5,  6,  7],\n",
              "       [ 8,  9, 10, 11, 12]])"
            ]
          },
          "metadata": {},
          "execution_count": 186
        }
      ]
    },
    {
      "cell_type": "code",
      "source": [
        "arr1 = np.array([3,4,5,6,7])"
      ],
      "metadata": {
        "id": "-JBA9o_f3bOh"
      },
      "execution_count": null,
      "outputs": []
    },
    {
      "cell_type": "code",
      "source": [
        "arr2 = np.array([9,10])"
      ],
      "metadata": {
        "id": "BJvJ6Sxy4H9x"
      },
      "execution_count": null,
      "outputs": []
    },
    {
      "cell_type": "code",
      "source": [
        "arr3 = np.append(arr1,arr2)"
      ],
      "metadata": {
        "id": "ubKEUIEQ4Mph"
      },
      "execution_count": null,
      "outputs": []
    },
    {
      "cell_type": "code",
      "source": [
        "arr3"
      ],
      "metadata": {
        "colab": {
          "base_uri": "https://localhost:8080/"
        },
        "id": "DB1sfXvL4Sdu",
        "outputId": "bcc6db29-4f2e-4d5a-aa1f-ad3ed75db379"
      },
      "execution_count": null,
      "outputs": [
        {
          "output_type": "execute_result",
          "data": {
            "text/plain": [
              "array([ 3,  4,  5,  6,  7,  9, 10])"
            ]
          },
          "metadata": {},
          "execution_count": 190
        }
      ]
    },
    {
      "cell_type": "code",
      "source": [
        "print(id(arr1))\n",
        "print(id(arr2))"
      ],
      "metadata": {
        "colab": {
          "base_uri": "https://localhost:8080/"
        },
        "id": "Bwl_8L564TVX",
        "outputId": "75ce5377-3fd5-49e3-d185-a618b615f489"
      },
      "execution_count": null,
      "outputs": [
        {
          "output_type": "stream",
          "name": "stdout",
          "text": [
            "140465407668112\n",
            "140465407261936\n"
          ]
        }
      ]
    },
    {
      "cell_type": "code",
      "source": [
        "arr1 = np.random.randint(low = 1, high = 10, size = (3,3))\n",
        "print(\"arr1 = \\n\", arr1)"
      ],
      "metadata": {
        "colab": {
          "base_uri": "https://localhost:8080/"
        },
        "id": "eyj-vaxG4Xz1",
        "outputId": "005b5832-c099-496d-aed6-158fb9f75bc8"
      },
      "execution_count": null,
      "outputs": [
        {
          "output_type": "stream",
          "name": "stdout",
          "text": [
            "arr1 = \n",
            " [[6 9 5]\n",
            " [3 6 6]\n",
            " [5 8 8]]\n"
          ]
        }
      ]
    },
    {
      "cell_type": "code",
      "source": [
        "arr2 = np.array([[12],[10],[3]])"
      ],
      "metadata": {
        "id": "ZTGOQPgx4rkb"
      },
      "execution_count": null,
      "outputs": []
    },
    {
      "cell_type": "code",
      "source": [
        "arr3  = np.append(arr1,arr2, axis = 0)"
      ],
      "metadata": {
        "id": "16RcwotL4yK2"
      },
      "execution_count": null,
      "outputs": []
    },
    {
      "cell_type": "code",
      "source": [
        "arr3"
      ],
      "metadata": {
        "colab": {
          "base_uri": "https://localhost:8080/"
        },
        "id": "EKCSaq9W475l",
        "outputId": "da87195e-2750-43d3-c437-5f1cbd9a04dd"
      },
      "execution_count": null,
      "outputs": [
        {
          "output_type": "execute_result",
          "data": {
            "text/plain": [
              "array([[ 6,  9,  5],\n",
              "       [ 3,  6,  6],\n",
              "       [ 5,  8,  8],\n",
              "       [12, 11, 10]])"
            ]
          },
          "metadata": {},
          "execution_count": 202
        }
      ]
    },
    {
      "cell_type": "code",
      "source": [
        "arr3  = np.append(arr1,arr2, axis = 1)"
      ],
      "metadata": {
        "id": "O33-XTxb48yO"
      },
      "execution_count": null,
      "outputs": []
    },
    {
      "cell_type": "code",
      "source": [
        "arr3"
      ],
      "metadata": {
        "colab": {
          "base_uri": "https://localhost:8080/"
        },
        "id": "fLJPd1Jw5J5s",
        "outputId": "bc40f99f-e581-4980-e81c-abadcf4ef438"
      },
      "execution_count": null,
      "outputs": [
        {
          "output_type": "execute_result",
          "data": {
            "text/plain": [
              "array([[ 6,  9,  5, 12],\n",
              "       [ 3,  6,  6, 10],\n",
              "       [ 5,  8,  8,  3]])"
            ]
          },
          "metadata": {},
          "execution_count": 207
        }
      ]
    },
    {
      "cell_type": "code",
      "source": [
        "arr1 = np.random.randint(low = 1, high = 100, size = 5)\n",
        "print(\"arr1 = \", arr1)"
      ],
      "metadata": {
        "colab": {
          "base_uri": "https://localhost:8080/"
        },
        "id": "j-zDXqlr5Ke3",
        "outputId": "65efa12a-1935-4436-b11c-886af36d8890"
      },
      "execution_count": null,
      "outputs": [
        {
          "output_type": "stream",
          "name": "stdout",
          "text": [
            "arr1 =  [78 77 20 71 46]\n"
          ]
        }
      ]
    },
    {
      "cell_type": "code",
      "source": [
        "# Initialize a 3D array\n",
        "array_3d = np.array([[[1, 2], [3, 4]], [[5, 6], [7, 8]]])\n",
        "\n",
        "# Initialize the array to be appended\n",
        "array_to_append = np.array([[[9, 10], [11, 12]]])\n",
        "\n",
        "# Concatenate the arrays along the first axis\n",
        "result = np.concatenate((array_3d, array_to_append), axis=0)\n",
        "\n",
        "print(result)"
      ],
      "metadata": {
        "colab": {
          "base_uri": "https://localhost:8080/"
        },
        "id": "75RsabFd5ubb",
        "outputId": "3314605c-7dd0-4e5d-dc5b-95ba4afce939"
      },
      "execution_count": null,
      "outputs": [
        {
          "output_type": "stream",
          "name": "stdout",
          "text": [
            "[[[ 1  2]\n",
            "  [ 3  4]]\n",
            "\n",
            " [[ 5  6]\n",
            "  [ 7  8]]\n",
            "\n",
            " [[ 9 10]\n",
            "  [11 12]]]\n"
          ]
        }
      ]
    },
    {
      "cell_type": "code",
      "source": [
        "arr = np.random.randint(1, 10, size=(3, 4, 2))\n",
        "new_arr = np.random.randint(1, 10, size=(3, 2))\n",
        "\n",
        "result = np.concatenate((arr, new_arr[:, np.newaxis, :]), axis=1)"
      ],
      "metadata": {
        "id": "UspUynkL6Mln"
      },
      "execution_count": null,
      "outputs": []
    },
    {
      "cell_type": "code",
      "source": [
        "result"
      ],
      "metadata": {
        "colab": {
          "base_uri": "https://localhost:8080/"
        },
        "id": "Q3tsGud26xa4",
        "outputId": "8adfa093-457d-4576-b491-616cdc1f531d"
      },
      "execution_count": null,
      "outputs": [
        {
          "output_type": "execute_result",
          "data": {
            "text/plain": [
              "array([[[1, 1],\n",
              "        [5, 5],\n",
              "        [9, 5],\n",
              "        [1, 4],\n",
              "        [4, 7]],\n",
              "\n",
              "       [[5, 8],\n",
              "        [7, 4],\n",
              "        [2, 6],\n",
              "        [8, 4],\n",
              "        [2, 3]],\n",
              "\n",
              "       [[1, 7],\n",
              "        [3, 6],\n",
              "        [9, 1],\n",
              "        [6, 7],\n",
              "        [7, 1]]])"
            ]
          },
          "metadata": {},
          "execution_count": 214
        }
      ]
    },
    {
      "cell_type": "code",
      "source": [
        "arr1 = np.random.randint(low = 1, high = 10, size = (3,4))\n",
        "print(\"arr1 = \\n\", arr1)"
      ],
      "metadata": {
        "colab": {
          "base_uri": "https://localhost:8080/"
        },
        "id": "vM40rohm6yrh",
        "outputId": "8eb9e29c-2d0b-4350-e131-3689aa8fe8cf"
      },
      "execution_count": null,
      "outputs": [
        {
          "output_type": "stream",
          "name": "stdout",
          "text": [
            "arr1 = \n",
            " [[2 5 1 3]\n",
            " [7 5 2 7]\n",
            " [2 9 1 8]]\n"
          ]
        }
      ]
    },
    {
      "cell_type": "code",
      "source": [
        "arr2 = np.insert(arr1, 2, [55, 66,55,66],axis = 0)\n",
        "print(\"After insert:\")\n",
        "print(\"arr1 = \\n\", arr1)\n",
        "print(\"arr2 = \", arr2)"
      ],
      "metadata": {
        "colab": {
          "base_uri": "https://localhost:8080/"
        },
        "id": "vJNuO2QE7In5",
        "outputId": "124595da-8861-4672-ef2c-f4a0be2af109"
      },
      "execution_count": null,
      "outputs": [
        {
          "output_type": "stream",
          "name": "stdout",
          "text": [
            "After insert:\n",
            "arr1 = \n",
            " [[2 5 1 3]\n",
            " [7 5 2 7]\n",
            " [2 9 1 8]]\n",
            "arr2 =  [[ 2  5  1  3]\n",
            " [ 7  5  2  7]\n",
            " [55 66 55 66]\n",
            " [ 2  9  1  8]]\n"
          ]
        }
      ]
    },
    {
      "cell_type": "code",
      "source": [
        "arr2 = np.insert(arr1, 2, 55, axis=1)\n",
        "print(\"After insert:\")\n",
        "print(\"arr1 = \\n\", arr1)\n",
        "print(\"arr2 = \\n\", arr2)"
      ],
      "metadata": {
        "colab": {
          "base_uri": "https://localhost:8080/"
        },
        "id": "oQh6KxOz7KQV",
        "outputId": "e82d0cf8-b862-48b6-c24d-588c384f7c4b"
      },
      "execution_count": null,
      "outputs": [
        {
          "output_type": "stream",
          "name": "stdout",
          "text": [
            "After insert:\n",
            "arr1 = \n",
            " [[2 5 1 3]\n",
            " [7 5 2 7]\n",
            " [2 9 1 8]]\n",
            "arr2 = \n",
            " [[ 2  5 55  1  3]\n",
            " [ 7  5 55  2  7]\n",
            " [ 2  9 55  1  8]]\n"
          ]
        }
      ]
    },
    {
      "cell_type": "code",
      "source": [
        "arr2 = np.insert(arr1, 2, [55, 66, 77, 88], axis=0)\n",
        "print(\"After insert:\")\n",
        "print(\"arr1 = \\n\", arr1)\n",
        "print(\"arr2 = \\n\", arr2)"
      ],
      "metadata": {
        "colab": {
          "base_uri": "https://localhost:8080/"
        },
        "id": "mPVcPov37lec",
        "outputId": "772a1e19-1338-4caa-b6b4-a99e83bdcb9f"
      },
      "execution_count": null,
      "outputs": [
        {
          "output_type": "stream",
          "name": "stdout",
          "text": [
            "After insert:\n",
            "arr1 = \n",
            " [[2 5 1 3]\n",
            " [7 5 2 7]\n",
            " [2 9 1 8]]\n",
            "arr2 = \n",
            " [[ 2  5  1  3]\n",
            " [ 7  5  2  7]\n",
            " [55 66 77 88]\n",
            " [ 2  9  1  8]]\n"
          ]
        }
      ]
    },
    {
      "cell_type": "code",
      "source": [
        "arr1 = np.random.randint(low = 1, high = 10, size = 5)\n",
        "print(\"arr1 = \", arr1)\n",
        "# You can delete a scalar value from a specific index\n",
        "arr2 = np.delete(arr1, 3)\n",
        "print(\"After delete:\")\n",
        "print(\"arr1 = \", arr1)\n",
        "print(\"arr2 = \", arr2)"
      ],
      "metadata": {
        "colab": {
          "base_uri": "https://localhost:8080/"
        },
        "id": "lFd_lKju7ty2",
        "outputId": "04c3b95b-dff9-4b01-9ca6-0c043b89737b"
      },
      "execution_count": null,
      "outputs": [
        {
          "output_type": "stream",
          "name": "stdout",
          "text": [
            "arr1 =  [6 5 3 5 2]\n",
            "After delete:\n",
            "arr1 =  [6 5 3 5 2]\n",
            "arr2 =  [6 5 3 2]\n"
          ]
        }
      ]
    },
    {
      "cell_type": "code",
      "source": [
        "arr1 = np.random.randint(low = 1, high = 100, size = 10)\n",
        "print(\"arr1 = \", arr1)\n",
        "# You can delete a list of values in between array elements from specific indices\n",
        "arr2 = np.delete(arr1, [2,5])\n",
        "print(\"After delete:\")\n",
        "print(\"arr1 = \", arr1)\n",
        "print(\"arr2 = \", arr2)"
      ],
      "metadata": {
        "colab": {
          "base_uri": "https://localhost:8080/"
        },
        "id": "kerE-NWu91hA",
        "outputId": "c6d8c52a-e634-4f65-9445-298738f270c4"
      },
      "execution_count": null,
      "outputs": [
        {
          "output_type": "stream",
          "name": "stdout",
          "text": [
            "arr1 =  [68 92 78 43 31  2 12 28 37 10]\n",
            "After delete:\n",
            "arr1 =  [68 92 78 43 31  2 12 28 37 10]\n",
            "arr2 =  [68 92 43 31 12 28 37 10]\n"
          ]
        }
      ]
    },
    {
      "cell_type": "code",
      "source": [
        "arr1 = np.random.randint(low = 1, high = 10, size = (4,4))\n",
        "print(\"arr1 = \\n\", arr1)\n",
        "arr2 = np.delete(arr1, 2, axis=0)\n",
        "print(\"After delete:\")\n",
        "print(\"arr1 = \\n\", arr1)\n",
        "print(\"arr2 = \\n\", arr2)"
      ],
      "metadata": {
        "colab": {
          "base_uri": "https://localhost:8080/"
        },
        "id": "vg4bsmel-IXL",
        "outputId": "602a6194-8c68-4318-df2a-4a911786ae6e"
      },
      "execution_count": null,
      "outputs": [
        {
          "output_type": "stream",
          "name": "stdout",
          "text": [
            "arr1 = \n",
            " [[1 4 2 5]\n",
            " [8 7 7 5]\n",
            " [6 6 2 5]\n",
            " [7 7 9 7]]\n",
            "After delete:\n",
            "arr1 = \n",
            " [[1 4 2 5]\n",
            " [8 7 7 5]\n",
            " [6 6 2 5]\n",
            " [7 7 9 7]]\n",
            "arr2 = \n",
            " [[1 4 2 5]\n",
            " [8 7 7 5]\n",
            " [7 7 9 7]]\n"
          ]
        }
      ]
    },
    {
      "cell_type": "code",
      "source": [
        "arr1 = np.random.randint(low = 1, high = 10, size = 10)\n",
        "\n",
        "# Creating a copy using assignment operator, both variables point at the same array\n",
        "arr2 = arr1\n",
        "\n",
        "print(\"arr1 = \", arr1)\n",
        "print(\"arr2 = \", arr2)\n",
        "print(id(arr1))\n",
        "print(id(arr2))"
      ],
      "metadata": {
        "colab": {
          "base_uri": "https://localhost:8080/"
        },
        "id": "cd5QfuKLRxw-",
        "outputId": "7b17762a-11d6-41fa-8eb7-06c48f3ea62a"
      },
      "execution_count": null,
      "outputs": [
        {
          "output_type": "stream",
          "name": "stdout",
          "text": [
            "arr1 =  [9 5 8 1 7 2 4 8 3 6]\n",
            "arr2 =  [9 5 8 1 7 2 4 8 3 6]\n",
            "140465407474448\n",
            "140465407474448\n"
          ]
        }
      ]
    },
    {
      "cell_type": "code",
      "source": [
        "arr2[2] = 55\n",
        "print(\"arr1 = \", arr1)\n",
        "print(\"arr2 = \", arr2)"
      ],
      "metadata": {
        "colab": {
          "base_uri": "https://localhost:8080/"
        },
        "id": "x1XuGZczUD2-",
        "outputId": "0598da59-c92c-490e-c022-11220f862352"
      },
      "execution_count": null,
      "outputs": [
        {
          "output_type": "stream",
          "name": "stdout",
          "text": [
            "arr1 =  [ 9  5 55  1  7  2  4  8  3  6]\n",
            "arr2 =  [ 9  5 55  1  7  2  4  8  3  6]\n"
          ]
        }
      ]
    },
    {
      "cell_type": "code",
      "source": [
        "x = -11\n",
        "y = 4\n",
        "\n",
        "# Output: x + y \n",
        "print('x + y =',x+y)\n",
        "\n",
        "# Output: x - y \n",
        "print('x - y =',x-y)\n",
        "\n",
        "# Output: x * y \n",
        "print('x * y =',x*y)\n",
        "\n",
        "# Output: x / y \n",
        "print('x / y =',x/y)\n",
        "\n",
        "# Floor Division: Output: x // y \n",
        "print('x // y =',x//y)"
      ],
      "metadata": {
        "colab": {
          "base_uri": "https://localhost:8080/"
        },
        "id": "mOu8UY3RUF3u",
        "outputId": "65aa9170-12f3-4c4a-f527-981725ad4d82"
      },
      "execution_count": null,
      "outputs": [
        {
          "output_type": "stream",
          "name": "stdout",
          "text": [
            "x + y = -7\n",
            "x - y = -15\n",
            "x * y = -44\n",
            "x / y = -2.75\n",
            "x // y = -3\n"
          ]
        }
      ]
    },
    {
      "cell_type": "code",
      "source": [
        "#Bitwise operators in Python\n",
        "x = -10   # 00001010\n",
        "y = 4    # 00000100\n",
        "\n",
        "\n",
        "# Bitwise and\n",
        "print('x & y is',x&y)\n",
        "\n",
        "# Bitwise or\n",
        "print('x | y is',x|y)\n",
        "\n",
        "# Bitwise not\n",
        "print('~x is',~x)\n",
        "\n",
        "# Bitwise XOR\n",
        "print('x^y is',x^y)\n",
        "\n",
        "# Bitwise right shift\n",
        "print('x>>3 is',x>>3)\n",
        "\n",
        "# Bitwise left shift\n",
        "print('x<<3 is',x<<3)"
      ],
      "metadata": {
        "colab": {
          "base_uri": "https://localhost:8080/"
        },
        "id": "3kazImpCZy66",
        "outputId": "20ddcbc3-bf9a-445d-a6de-cda1fecf5469"
      },
      "execution_count": null,
      "outputs": [
        {
          "output_type": "stream",
          "name": "stdout",
          "text": [
            "x & y is 4\n",
            "x | y is -10\n",
            "~x is 9\n",
            "x^y is -14\n",
            "x>>3 is -2\n",
            "x<<3 is -80\n"
          ]
        }
      ]
    },
    {
      "cell_type": "code",
      "source": [
        "a = 5\n",
        "b = 5.0\n",
        "\n",
        "print(a is b)\n",
        "print(a==b)"
      ],
      "metadata": {
        "colab": {
          "base_uri": "https://localhost:8080/"
        },
        "id": "OSx3bc55bWqR",
        "outputId": "81f0cfb9-25db-4fba-c405-97aeee419ebe"
      },
      "execution_count": null,
      "outputs": [
        {
          "output_type": "stream",
          "name": "stdout",
          "text": [
            "False\n",
            "True\n"
          ]
        }
      ]
    },
    {
      "cell_type": "code",
      "source": [
        "str = 'Python Programming is fun'\n",
        "print('str = ', str)\n",
        "\n",
        "#access first index\n",
        "print('str[0] = ', str[6])\n",
        "\n",
        "# Negative indices start from the opposite end of the string. Hence, -1 index corresponds to the last character\n",
        "print('str[-1] = ', str[-1])\n",
        "\n",
        "#access second last index\n",
        "print('str[-2] = ', str[-2])"
      ],
      "metadata": {
        "colab": {
          "base_uri": "https://localhost:8080/"
        },
        "id": "YlN55seibiZF",
        "outputId": "ad014d42-7655-4f03-87f2-641fc9935b29"
      },
      "execution_count": null,
      "outputs": [
        {
          "output_type": "stream",
          "name": "stdout",
          "text": [
            "str =  Python Programming is fun\n",
            "str[0] =   \n",
            "str[-1] =  n\n",
            "str[-2] =  u\n"
          ]
        }
      ]
    },
    {
      "cell_type": "code",
      "source": [
        "str1 = 'ArifButt'\n",
        "\n",
        "#str1[5] = 'c'\n",
        "\n",
        "print(id(str1))\n",
        "\n",
        "#assigning a new value is valid\n",
        "str1 = 'python'\n",
        "\n",
        "print(id(str1))"
      ],
      "metadata": {
        "colab": {
          "base_uri": "https://localhost:8080/"
        },
        "id": "SHL4Oa7KckNZ",
        "outputId": "fd474070-f11a-40a7-ba29-4d2c2a7a99d5"
      },
      "execution_count": null,
      "outputs": [
        {
          "output_type": "stream",
          "name": "stdout",
          "text": [
            "140465406503152\n",
            "140466022661360\n"
          ]
        }
      ]
    },
    {
      "cell_type": "code",
      "source": [
        "buffer =\"    hello world, this is       Arif Butt      \"\n",
        "rv = buffer.strip()\n",
        "print(rv)"
      ],
      "metadata": {
        "colab": {
          "base_uri": "https://localhost:8080/"
        },
        "id": "FKIXN9nPdCfs",
        "outputId": "b70f5a6b-0783-4803-ccb1-82f343db9aac"
      },
      "execution_count": null,
      "outputs": [
        {
          "output_type": "stream",
          "name": "stdout",
          "text": [
            "hello world, this is       Arif Butt\n"
          ]
        }
      ]
    },
    {
      "cell_type": "code",
      "source": [
        "str1 = 'Learning is fun'    #this is a string\n",
        "list1 = str1.split(' ')\n",
        "list1"
      ],
      "metadata": {
        "colab": {
          "base_uri": "https://localhost:8080/"
        },
        "id": "LfGQezU4eRjS",
        "outputId": "67e169ce-a4e5-4d26-a9b7-89992b7ab45b"
      },
      "execution_count": null,
      "outputs": [
        {
          "output_type": "execute_result",
          "data": {
            "text/plain": [
              "['Learning', 'is', 'fun']"
            ]
          },
          "metadata": {},
          "execution_count": 243
        }
      ]
    },
    {
      "cell_type": "code",
      "source": [
        "t1 = ('a','b','c','d','e','f','g','h','i')\n",
        "t1[-1]"
      ],
      "metadata": {
        "colab": {
          "base_uri": "https://localhost:8080/",
          "height": 35
        },
        "id": "uXTDOPjOpYb4",
        "outputId": "a894a46a-9d88-4170-c738-0a97e50571ae"
      },
      "execution_count": null,
      "outputs": [
        {
          "output_type": "execute_result",
          "data": {
            "text/plain": [
              "'i'"
            ],
            "application/vnd.google.colaboratory.intrinsic+json": {
              "type": "string"
            }
          },
          "metadata": {},
          "execution_count": 244
        }
      ]
    },
    {
      "cell_type": "code",
      "source": [
        "a = range(10)\n"
      ],
      "metadata": {
        "id": "3g0gOY07yNgy"
      },
      "execution_count": null,
      "outputs": []
    },
    {
      "cell_type": "code",
      "source": [
        "a"
      ],
      "metadata": {
        "colab": {
          "base_uri": "https://localhost:8080/"
        },
        "id": "ag8XJt6a8QXv",
        "outputId": "ec0a7dc4-14d8-40da-d419-82f7a910ea3e"
      },
      "execution_count": null,
      "outputs": [
        {
          "output_type": "execute_result",
          "data": {
            "text/plain": [
              "range(0, 10)"
            ]
          },
          "metadata": {},
          "execution_count": 246
        }
      ]
    },
    {
      "cell_type": "code",
      "source": [
        "print(a)"
      ],
      "metadata": {
        "colab": {
          "base_uri": "https://localhost:8080/"
        },
        "id": "Pi5FsFFJ8RNn",
        "outputId": "990ccfb7-b733-45e9-843a-df65bd613ad0"
      },
      "execution_count": null,
      "outputs": [
        {
          "output_type": "stream",
          "name": "stdout",
          "text": [
            "range(0, 10)\n"
          ]
        }
      ]
    },
    {
      "cell_type": "code",
      "source": [
        "age = 19"
      ],
      "metadata": {
        "id": "JchjEbvd8TNW"
      },
      "execution_count": null,
      "outputs": []
    },
    {
      "cell_type": "code",
      "source": [
        "a = 'child' if age<=14 else 'adult'"
      ],
      "metadata": {
        "id": "PjvX17Y98856"
      },
      "execution_count": null,
      "outputs": []
    },
    {
      "cell_type": "code",
      "source": [
        "a"
      ],
      "metadata": {
        "colab": {
          "base_uri": "https://localhost:8080/",
          "height": 35
        },
        "id": "BehtHEjk9FKi",
        "outputId": "4c6002c0-8ebe-435f-d6ef-b509d4c992f3"
      },
      "execution_count": null,
      "outputs": [
        {
          "output_type": "execute_result",
          "data": {
            "text/plain": [
              "'adult'"
            ],
            "application/vnd.google.colaboratory.intrinsic+json": {
              "type": "string"
            }
          },
          "metadata": {},
          "execution_count": 252
        }
      ]
    },
    {
      "cell_type": "code",
      "source": [
        "a_number = 3\n",
        "parity = 'even' if a_number % 2 == 0 else 'odd'\n",
        "print('The number {} is {}.'.format(a_number, parity))\n"
      ],
      "metadata": {
        "colab": {
          "base_uri": "https://localhost:8080/"
        },
        "id": "FK2E0wgM9GAp",
        "outputId": "a5ce24bb-df31-4e28-fbf3-d7a23093204c"
      },
      "execution_count": null,
      "outputs": [
        {
          "output_type": "stream",
          "name": "stdout",
          "text": [
            "The number 3 is odd.\n"
          ]
        }
      ]
    },
    {
      "cell_type": "code",
      "source": [
        "num = 0\n",
        "\n",
        "while num<=7:\n",
        "  num = num + 1\n",
        "  print(\"hello\" , num)\n",
        "\n",
        "print(\"bye\")"
      ],
      "metadata": {
        "colab": {
          "base_uri": "https://localhost:8080/"
        },
        "id": "BQoPmgSW9P2D",
        "outputId": "26b783d2-d178-4421-e18a-45b80e604b0d"
      },
      "execution_count": null,
      "outputs": [
        {
          "output_type": "stream",
          "name": "stdout",
          "text": [
            "hello 1\n",
            "hello 2\n",
            "hello 3\n",
            "hello 4\n",
            "hello 5\n",
            "hello 6\n",
            "hello 7\n",
            "hello 8\n",
            "bye\n"
          ]
        }
      ]
    },
    {
      "cell_type": "code",
      "source": [
        "num = 0\n",
        "\n",
        "while num<=7:\n",
        "    print(\"hello\" , num)\n",
        "    num = num + 1\n",
        "\n",
        "print(\"bye\")"
      ],
      "metadata": {
        "colab": {
          "base_uri": "https://localhost:8080/"
        },
        "id": "XiE9zEMs-pHF",
        "outputId": "0b87cc0f-971d-4077-b321-e3f5b0b040ad"
      },
      "execution_count": null,
      "outputs": [
        {
          "output_type": "stream",
          "name": "stdout",
          "text": [
            "hello 0\n",
            "hello 1\n",
            "hello 2\n",
            "hello 3\n",
            "hello 4\n",
            "hello 5\n",
            "hello 6\n",
            "hello 7\n",
            "bye\n"
          ]
        }
      ]
    },
    {
      "cell_type": "code",
      "source": [
        "e = int(input('enter a number: '))\n",
        "sum = 0\n",
        "i = 1\n",
        "\n",
        "while(i<=e):\n",
        "  sum = sum + i\n",
        "  i = i + 1\n",
        "print(sum)"
      ],
      "metadata": {
        "colab": {
          "base_uri": "https://localhost:8080/"
        },
        "id": "4N9bNapj-_XW",
        "outputId": "42020eb1-42f8-4b82-fd35-78d7d3677a80"
      },
      "execution_count": null,
      "outputs": [
        {
          "output_type": "stream",
          "name": "stdout",
          "text": [
            "enter a number: 2\n",
            "3\n"
          ]
        }
      ]
    },
    {
      "cell_type": "code",
      "source": [
        "list1 = ['Learning', 'is', 'fun', 'with', 'Arif Butt']\n",
        "ctr = 0\n",
        "while(ctr < len(list1)):\n",
        "    print(list1[ctr])\n",
        "    ctr += 1\n",
        "\n",
        "print(list1)"
      ],
      "metadata": {
        "colab": {
          "base_uri": "https://localhost:8080/",
          "height": 321
        },
        "id": "_Y2NrkTy_yJY",
        "outputId": "1c4680bb-9744-4611-e81a-d6581b5633df"
      },
      "execution_count": null,
      "outputs": [
        {
          "output_type": "stream",
          "name": "stdout",
          "text": [
            "Learning\n",
            "is\n",
            "fun\n",
            "with\n",
            "Arif Butt\n"
          ]
        },
        {
          "output_type": "error",
          "ename": "IndexError",
          "evalue": "ignored",
          "traceback": [
            "\u001b[0;31m---------------------------------------------------------------------------\u001b[0m",
            "\u001b[0;31mIndexError\u001b[0m                                Traceback (most recent call last)",
            "\u001b[0;32m<ipython-input-263-1d5d37afd76b>\u001b[0m in \u001b[0;36m<module>\u001b[0;34m\u001b[0m\n\u001b[1;32m      2\u001b[0m \u001b[0mctr\u001b[0m \u001b[0;34m=\u001b[0m \u001b[0;36m0\u001b[0m\u001b[0;34m\u001b[0m\u001b[0;34m\u001b[0m\u001b[0m\n\u001b[1;32m      3\u001b[0m \u001b[0;32mwhile\u001b[0m\u001b[0;34m(\u001b[0m\u001b[0mctr\u001b[0m \u001b[0;34m<\u001b[0m \u001b[0mlen\u001b[0m\u001b[0;34m(\u001b[0m\u001b[0mlist1\u001b[0m\u001b[0;34m)\u001b[0m\u001b[0;34m)\u001b[0m\u001b[0;34m:\u001b[0m\u001b[0;34m\u001b[0m\u001b[0;34m\u001b[0m\u001b[0m\n\u001b[0;32m----> 4\u001b[0;31m     \u001b[0mprint\u001b[0m\u001b[0;34m(\u001b[0m\u001b[0mlist1\u001b[0m\u001b[0;34m[\u001b[0m\u001b[0mctr\u001b[0m\u001b[0;34m]\u001b[0m\u001b[0;34m)\u001b[0m\u001b[0;34m\u001b[0m\u001b[0;34m\u001b[0m\u001b[0m\n\u001b[0m\u001b[1;32m      5\u001b[0m     \u001b[0mctr\u001b[0m \u001b[0;34m+=\u001b[0m \u001b[0;36m1\u001b[0m\u001b[0;34m\u001b[0m\u001b[0;34m\u001b[0m\u001b[0m\n\u001b[1;32m      6\u001b[0m \u001b[0;34m\u001b[0m\u001b[0m\n",
            "\u001b[0;31mIndexError\u001b[0m: list index out of range"
          ]
        }
      ]
    },
    {
      "cell_type": "code",
      "source": [
        "mylist = ['banana', 'mango', 'grapes']\n"
      ],
      "metadata": {
        "id": "GCJNLGbqAZ8h"
      },
      "execution_count": null,
      "outputs": []
    },
    {
      "cell_type": "code",
      "source": [
        "for i in mylist:\n",
        "  print(i)"
      ],
      "metadata": {
        "colab": {
          "base_uri": "https://localhost:8080/"
        },
        "id": "bVmucgGMCaSz",
        "outputId": "0271ee62-3ad9-4e0a-f9f4-55a173f800c2"
      },
      "execution_count": null,
      "outputs": [
        {
          "output_type": "stream",
          "name": "stdout",
          "text": [
            "banana\n",
            "mango\n",
            "grapes\n"
          ]
        }
      ]
    },
    {
      "cell_type": "code",
      "source": [
        "# Creating tuple iterator from a tuple iterable using the iter() method\n",
        "mytuple = ('banana', 'mango', 'grapes')\n",
        "iterator_mytuple = iter(mytuple)\n",
        "iterator_mytuple"
      ],
      "metadata": {
        "colab": {
          "base_uri": "https://localhost:8080/"
        },
        "id": "1t4DTD5cCeAP",
        "outputId": "0ab11496-d321-4876-d06e-45ffbc943dd9"
      },
      "execution_count": null,
      "outputs": [
        {
          "output_type": "execute_result",
          "data": {
            "text/plain": [
              "<tuple_iterator at 0x7fc0a6b6ab50>"
            ]
          },
          "metadata": {},
          "execution_count": 276
        }
      ]
    },
    {
      "cell_type": "code",
      "source": [
        "next(iterator_mytuple)"
      ],
      "metadata": {
        "colab": {
          "base_uri": "https://localhost:8080/",
          "height": 35
        },
        "id": "4rcHujT7Ck_N",
        "outputId": "94722eaa-acd9-407c-db7a-35f8210b17c3"
      },
      "execution_count": null,
      "outputs": [
        {
          "output_type": "execute_result",
          "data": {
            "text/plain": [
              "'banana'"
            ],
            "application/vnd.google.colaboratory.intrinsic+json": {
              "type": "string"
            }
          },
          "metadata": {},
          "execution_count": 277
        }
      ]
    },
    {
      "cell_type": "code",
      "source": [
        "# Creating dictionary item-iterator from a dictionary iterable using the iter() method\n",
        "mydict = {1:'banana', 2:'mango', 3:'grapes'}\n",
        "iterator_dictitems = iter(mydict.items())\n",
        "iterator_dictitems"
      ],
      "metadata": {
        "colab": {
          "base_uri": "https://localhost:8080/"
        },
        "id": "5HxXfb39DGCa",
        "outputId": "61dbdb4b-e2b3-4b59-f5ea-b92e8f39a648"
      },
      "execution_count": null,
      "outputs": [
        {
          "output_type": "execute_result",
          "data": {
            "text/plain": [
              "<dict_itemiterator at 0x7fc0a6aa5a40>"
            ]
          },
          "metadata": {},
          "execution_count": 278
        }
      ]
    },
    {
      "cell_type": "code",
      "source": [
        "next(iterator_dictitems)"
      ],
      "metadata": {
        "colab": {
          "base_uri": "https://localhost:8080/"
        },
        "id": "sZYOjqsDDNon",
        "outputId": "5a82486d-7de0-4f63-8505-e3f662bdcb99"
      },
      "execution_count": null,
      "outputs": [
        {
          "output_type": "execute_result",
          "data": {
            "text/plain": [
              "(1, 'banana')"
            ]
          },
          "metadata": {},
          "execution_count": 279
        }
      ]
    },
    {
      "cell_type": "code",
      "source": [
        "for i in (\"Be Happy\"):\n",
        "    print(i)"
      ],
      "metadata": {
        "colab": {
          "base_uri": "https://localhost:8080/"
        },
        "id": "wCdC_ygfDP3A",
        "outputId": "01f3d265-fc0c-4722-a0a3-5febda0d8245"
      },
      "execution_count": null,
      "outputs": [
        {
          "output_type": "stream",
          "name": "stdout",
          "text": [
            "B\n",
            "e\n",
            " \n",
            "H\n",
            "a\n",
            "p\n",
            "p\n",
            "y\n"
          ]
        }
      ]
    },
    {
      "cell_type": "code",
      "source": [
        "# Example 4: Iterate a string using for loop and count the count of a specific character\n",
        "word = \"Welcome to Learning with Arif Butt.\"\n",
        "count = 0\n",
        "for character in word:\n",
        "    if character == 'e':\n",
        "        count = count+1\n",
        "print(count)"
      ],
      "metadata": {
        "colab": {
          "base_uri": "https://localhost:8080/"
        },
        "id": "JJnFLty7DbhA",
        "outputId": "f05d48bf-6e67-457a-a90d-b0d7eb679358"
      },
      "execution_count": null,
      "outputs": [
        {
          "output_type": "stream",
          "name": "stdout",
          "text": [
            "3\n"
          ]
        }
      ]
    },
    {
      "cell_type": "code",
      "source": [
        "list(range(10,15))"
      ],
      "metadata": {
        "colab": {
          "base_uri": "https://localhost:8080/"
        },
        "id": "ER2yPdZdDq77",
        "outputId": "6fc5a290-e80c-4d52-b935-4f4442cf16c3"
      },
      "execution_count": null,
      "outputs": [
        {
          "output_type": "execute_result",
          "data": {
            "text/plain": [
              "[10, 11, 12, 13, 14]"
            ]
          },
          "metadata": {},
          "execution_count": 286
        }
      ]
    },
    {
      "cell_type": "code",
      "source": [
        "friends = ['Rauf','Arif', 'Maaz', 'Hadeed', 'Muhahid', 'Mohid']\n",
        "\n",
        "for i in range(len(friends)):  # Remember the len() function returns 6 in this scenario\n",
        "    print('The value at position {} is {}.'.format(i, friends[i]))"
      ],
      "metadata": {
        "colab": {
          "base_uri": "https://localhost:8080/",
          "height": 304
        },
        "id": "dkyxp9v0EmR4",
        "outputId": "9c8d2470-9137-4037-f33e-3e90766e8660"
      },
      "execution_count": null,
      "outputs": [
        {
          "output_type": "stream",
          "name": "stdout",
          "text": [
            "The value at position 0 is Rauf.\n",
            "The value at position 1 is Arif.\n",
            "The value at position 2 is Maaz.\n",
            "The value at position 3 is Hadeed.\n",
            "The value at position 4 is Muhahid.\n",
            "The value at position 5 is Mohid.\n"
          ]
        },
        {
          "output_type": "error",
          "ename": "IndexError",
          "evalue": "ignored",
          "traceback": [
            "\u001b[0;31m---------------------------------------------------------------------------\u001b[0m",
            "\u001b[0;31mIndexError\u001b[0m                                Traceback (most recent call last)",
            "\u001b[0;32m<ipython-input-288-da547c60e0b8>\u001b[0m in \u001b[0;36m<module>\u001b[0;34m\u001b[0m\n\u001b[1;32m      2\u001b[0m \u001b[0;34m\u001b[0m\u001b[0m\n\u001b[1;32m      3\u001b[0m \u001b[0;32mfor\u001b[0m \u001b[0mi\u001b[0m \u001b[0;32min\u001b[0m \u001b[0mrange\u001b[0m\u001b[0;34m(\u001b[0m\u001b[0mlen\u001b[0m\u001b[0;34m(\u001b[0m\u001b[0mfriends\u001b[0m\u001b[0;34m)\u001b[0m\u001b[0;34m)\u001b[0m\u001b[0;34m:\u001b[0m  \u001b[0;31m# Remember the len() function returns 6 in this scenario\u001b[0m\u001b[0;34m\u001b[0m\u001b[0;34m\u001b[0m\u001b[0m\n\u001b[0;32m----> 4\u001b[0;31m     \u001b[0mprint\u001b[0m\u001b[0;34m(\u001b[0m\u001b[0;34m'The value at position {} is {}.'\u001b[0m\u001b[0;34m.\u001b[0m\u001b[0mformat\u001b[0m\u001b[0;34m(\u001b[0m\u001b[0mi\u001b[0m\u001b[0;34m,\u001b[0m \u001b[0mfriends\u001b[0m\u001b[0;34m[\u001b[0m\u001b[0mi\u001b[0m\u001b[0;34m]\u001b[0m\u001b[0;34m)\u001b[0m\u001b[0;34m)\u001b[0m\u001b[0;34m\u001b[0m\u001b[0;34m\u001b[0m\u001b[0m\n\u001b[0m",
            "\u001b[0;31mIndexError\u001b[0m: list index out of range"
          ]
        }
      ]
    },
    {
      "cell_type": "code",
      "source": [
        "mylist = ['arif', 'hadeed', 'mujahid']\n",
        "rv = enumerate(mylist)\n",
        "print(type(rv))\n",
        "mylist = ['arif', 'hadeed', 'mujahid']\n",
        "print(list(enumerate(mylist)))"
      ],
      "metadata": {
        "colab": {
          "base_uri": "https://localhost:8080/"
        },
        "id": "C4qhs6gGFl8e",
        "outputId": "fd40e416-87ad-4b61-a709-70e380e6286b"
      },
      "execution_count": null,
      "outputs": [
        {
          "output_type": "stream",
          "name": "stdout",
          "text": [
            "<class 'enumerate'>\n",
            "[(0, 'arif'), (1, 'hadeed'), (2, 'mujahid')]\n"
          ]
        }
      ]
    },
    {
      "cell_type": "code",
      "source": [
        "fruits = [\"apple\", \"banana\", \"cherry\", \"kiwi\", \"mango\"]\n",
        "\n",
        "newlist = [fruit for fruit in fruits if (\"a\" in fruit)]\n",
        "\n",
        "print(newlist)"
      ],
      "metadata": {
        "colab": {
          "base_uri": "https://localhost:8080/"
        },
        "id": "98uiCeOzFxGP",
        "outputId": "a300558c-735a-4e71-b0e4-474165c4b6bc"
      },
      "execution_count": null,
      "outputs": [
        {
          "output_type": "stream",
          "name": "stdout",
          "text": [
            "['apple', 'banana', 'mango']\n"
          ]
        }
      ]
    },
    {
      "cell_type": "code",
      "source": [],
      "metadata": {
        "id": "2PYnOlSoFxpj"
      },
      "execution_count": null,
      "outputs": []
    }
  ]
}