{
 "cells": [
  {
   "cell_type": "code",
   "execution_count": 3,
   "id": "89c11eb4",
   "metadata": {},
   "outputs": [],
   "source": [
    "fr= open(\"f1.txt\",\"rt+\")"
   ]
  },
  {
   "cell_type": "code",
   "execution_count": 4,
   "id": "5b23c4d9",
   "metadata": {},
   "outputs": [
    {
     "data": {
      "text/plain": [
       "<_io.TextIOWrapper name='f1.txt' mode='rt+' encoding='cp1252'>"
      ]
     },
     "execution_count": 4,
     "metadata": {},
     "output_type": "execute_result"
    }
   ],
   "source": [
    "fr"
   ]
  },
  {
   "cell_type": "code",
   "execution_count": 5,
   "id": "604e71b5",
   "metadata": {},
   "outputs": [
    {
     "data": {
      "text/plain": [
       "'     '"
      ]
     },
     "execution_count": 5,
     "metadata": {},
     "output_type": "execute_result"
    }
   ],
   "source": [
    "fr.read(5)"
   ]
  },
  {
   "cell_type": "code",
   "execution_count": 5,
   "id": "be4c4fda",
   "metadata": {},
   "outputs": [
    {
     "data": {
      "text/plain": [
       "'y na'"
      ]
     },
     "execution_count": 5,
     "metadata": {},
     "output_type": "execute_result"
    }
   ],
   "source": [
    "fr.read(4)"
   ]
  },
  {
   "cell_type": "code",
   "execution_count": 6,
   "id": "51415a81",
   "metadata": {},
   "outputs": [
    {
     "data": {
      "text/plain": [
       "'me is shum'"
      ]
     },
     "execution_count": 6,
     "metadata": {},
     "output_type": "execute_result"
    }
   ],
   "source": [
    "fr.read(10)"
   ]
  },
  {
   "cell_type": "code",
   "execution_count": 7,
   "id": "fe62a4f4",
   "metadata": {},
   "outputs": [
    {
     "data": {
      "text/plain": [
       "'aila.\\nr'"
      ]
     },
     "execution_count": 7,
     "metadata": {},
     "output_type": "execute_result"
    }
   ],
   "source": [
    "fr.read(7)"
   ]
  },
  {
   "cell_type": "code",
   "execution_count": 39,
   "id": "d901b5b2",
   "metadata": {},
   "outputs": [],
   "source": [
    "fr= open(\"f1.txt\",\"rt+\")"
   ]
  },
  {
   "cell_type": "code",
   "execution_count": 19,
   "id": "56d99fab",
   "metadata": {},
   "outputs": [
    {
     "data": {
      "text/plain": [
       "'Hi, my name is shumaila.\\n\\n\\njupter notebook\\n\\nBatch #2\\nreading contents of a file\\n\\n'"
      ]
     },
     "execution_count": 19,
     "metadata": {},
     "output_type": "execute_result"
    }
   ],
   "source": [
    "fr.read(-1)"
   ]
  },
  {
   "cell_type": "code",
   "execution_count": 16,
   "id": "4b18a41e",
   "metadata": {},
   "outputs": [
    {
     "data": {
      "text/plain": [
       "'Hi, my name is shumaila.\\n'"
      ]
     },
     "execution_count": 16,
     "metadata": {},
     "output_type": "execute_result"
    }
   ],
   "source": [
    "fr.readline(-1)"
   ]
  },
  {
   "cell_type": "code",
   "execution_count": 6,
   "id": "098cb053",
   "metadata": {},
   "outputs": [
    {
     "data": {
      "text/plain": [
       "['    learning python is funer notebook\\n',\n",
       " '\\n',\n",
       " 'Batch #2\\n',\n",
       " 'reading contents of a file\\n',\n",
       " '\\x00\\x00\\x00\\x00\\x00\\x00\\x00\\x00\\x00\\x00\\x00\\x00\\x00\\x00\\x00\\x00\\x00\\x00\\x00\\x00\\x00\\x00\\x00\\x00\\x00\\x00\\x00\\x00\\x00\\x00\\x00\\x00\\x00\\x00\\x00\\x00\\x00\\x00\\x00\\x00\\x00\\x00\\x00\\x00\\x00\\n',\n",
       " 'learning python is funlearning python is fun']"
      ]
     },
     "execution_count": 6,
     "metadata": {},
     "output_type": "execute_result"
    }
   ],
   "source": [
    "fr.readlines( -1)"
   ]
  },
  {
   "cell_type": "code",
   "execution_count": 7,
   "id": "e17f4161",
   "metadata": {},
   "outputs": [],
   "source": [
    "mylist = fr.readlines()"
   ]
  },
  {
   "cell_type": "code",
   "execution_count": 28,
   "id": "1d678ec7",
   "metadata": {},
   "outputs": [
    {
     "name": "stdout",
     "output_type": "stream",
     "text": [
      "<class 'list'>\n"
     ]
    }
   ],
   "source": [
    "print(type(mylist))"
   ]
  },
  {
   "cell_type": "code",
   "execution_count": 40,
   "id": "b1125477",
   "metadata": {},
   "outputs": [],
   "source": [
    "d= fr.write(\"         learning python is fun\")"
   ]
  },
  {
   "cell_type": "code",
   "execution_count": 41,
   "id": "6564fe8f",
   "metadata": {},
   "outputs": [
    {
     "data": {
      "text/plain": [
       "'er notebook\\n\\nBatch #2\\nreading contents of a file\\n\\x00\\x00\\x00\\x00\\x00\\x00\\x00\\x00\\x00\\x00\\x00\\x00\\x00\\x00\\x00\\x00\\x00\\x00\\x00\\x00\\x00\\x00\\x00\\x00\\x00\\x00\\x00\\x00\\x00\\x00\\x00\\x00\\x00\\x00\\x00\\x00\\x00\\x00\\x00\\x00\\x00\\x00\\x00\\x00\\x00\\nlearning python is funlearning python is fun'"
      ]
     },
     "execution_count": 41,
     "metadata": {},
     "output_type": "execute_result"
    }
   ],
   "source": [
    "fr.read()"
   ]
  },
  {
   "cell_type": "code",
   "execution_count": 10,
   "id": "c3e3524a",
   "metadata": {},
   "outputs": [
    {
     "data": {
      "text/plain": [
       "0"
      ]
     },
     "execution_count": 10,
     "metadata": {},
     "output_type": "execute_result"
    }
   ],
   "source": [
    "fr.seek(0)"
   ]
  },
  {
   "cell_type": "code",
   "execution_count": 27,
   "id": "653d887a",
   "metadata": {},
   "outputs": [
    {
     "data": {
      "text/plain": [
       "''"
      ]
     },
     "execution_count": 27,
     "metadata": {},
     "output_type": "execute_result"
    }
   ],
   "source": [
    "fr.read()"
   ]
  },
  {
   "cell_type": "code",
   "execution_count": 38,
   "id": "73403acd",
   "metadata": {},
   "outputs": [],
   "source": [
    "fd = open('file.txt',mode=\"a\")"
   ]
  },
  {
   "cell_type": "code",
   "execution_count": 39,
   "id": "3b870ab0",
   "metadata": {},
   "outputs": [],
   "source": [
    "fruits = [\"\\napple\",\"\\nbanana\",\"\\norange\"]"
   ]
  },
  {
   "cell_type": "code",
   "execution_count": 40,
   "id": "12f1b75d",
   "metadata": {},
   "outputs": [],
   "source": [
    "for fruit in fruits:\n",
    "    fd.write(fruit)"
   ]
  },
  {
   "cell_type": "code",
   "execution_count": 41,
   "id": "8adbcac6",
   "metadata": {},
   "outputs": [],
   "source": [
    "fd.close()"
   ]
  },
  {
   "cell_type": "code",
   "execution_count": 77,
   "id": "b97598b1",
   "metadata": {},
   "outputs": [],
   "source": [
    "fd= open('file.txt')"
   ]
  },
  {
   "cell_type": "code",
   "execution_count": 82,
   "id": "88f51f29",
   "metadata": {},
   "outputs": [
    {
     "name": "stdout",
     "output_type": "stream",
     "text": [
      "bananaorange\n",
      "\n",
      "apple\n",
      "\n",
      "banana\n",
      "\n",
      "orange\n"
     ]
    }
   ],
   "source": [
    "for line in fd:\n",
    "    print(line)"
   ]
  },
  {
   "cell_type": "code",
   "execution_count": 63,
   "id": "06b42cfa",
   "metadata": {},
   "outputs": [],
   "source": [
    "fd.close()"
   ]
  },
  {
   "cell_type": "code",
   "execution_count": 78,
   "id": "7e1f7efa",
   "metadata": {},
   "outputs": [
    {
     "name": "stdout",
     "output_type": "stream",
     "text": [
      "0\n"
     ]
    }
   ],
   "source": [
    "pos = fd.seek(0)\n",
    "print(pos)"
   ]
  },
  {
   "cell_type": "code",
   "execution_count": 85,
   "id": "3adfc0f7",
   "metadata": {},
   "outputs": [],
   "source": [
    "pos = fd.read(5)"
   ]
  },
  {
   "cell_type": "code",
   "execution_count": 80,
   "id": "184b9ac7",
   "metadata": {},
   "outputs": [
    {
     "name": "stdout",
     "output_type": "stream",
     "text": [
      "apple\n"
     ]
    }
   ],
   "source": [
    "print(pos)"
   ]
  },
  {
   "cell_type": "code",
   "execution_count": 57,
   "id": "f032e7fd",
   "metadata": {},
   "outputs": [
    {
     "data": {
      "text/plain": [
       "40"
      ]
     },
     "execution_count": 57,
     "metadata": {},
     "output_type": "execute_result"
    }
   ],
   "source": [
    "fd.seek(0,1)"
   ]
  },
  {
   "cell_type": "code",
   "execution_count": 58,
   "id": "235f2ff7",
   "metadata": {},
   "outputs": [
    {
     "data": {
      "text/plain": [
       "''"
      ]
     },
     "execution_count": 58,
     "metadata": {},
     "output_type": "execute_result"
    }
   ],
   "source": [
    "fd.read()"
   ]
  },
  {
   "cell_type": "code",
   "execution_count": 91,
   "id": "c40cbd6d",
   "metadata": {},
   "outputs": [
    {
     "name": "stdout",
     "output_type": "stream",
     "text": [
      "50\n"
     ]
    }
   ],
   "source": [
    "pos = fd.seek(50,0)\n",
    "print(pos)"
   ]
  },
  {
   "cell_type": "code",
   "execution_count": 95,
   "id": "6885f887",
   "metadata": {},
   "outputs": [
    {
     "name": "stdout",
     "output_type": "stream",
     "text": [
      "applebananaorange\n",
      "\n",
      "apple\n",
      "\n",
      "banana\n",
      "\n",
      "orange\n"
     ]
    }
   ],
   "source": [
    "with open('file.txt','r') as fd:\n",
    "    for line in fd:\n",
    "        print(line)"
   ]
  },
  {
   "cell_type": "code",
   "execution_count": null,
   "id": "da008fe3",
   "metadata": {},
   "outputs": [],
   "source": []
  }
 ],
 "metadata": {
  "kernelspec": {
   "display_name": "Python 3 (ipykernel)",
   "language": "python",
   "name": "python3"
  },
  "language_info": {
   "codemirror_mode": {
    "name": "ipython",
    "version": 3
   },
   "file_extension": ".py",
   "mimetype": "text/x-python",
   "name": "python",
   "nbconvert_exporter": "python",
   "pygments_lexer": "ipython3",
   "version": "3.9.13"
  }
 },
 "nbformat": 4,
 "nbformat_minor": 5
}
