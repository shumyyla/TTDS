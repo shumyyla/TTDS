{
 "cells": [
  {
   "cell_type": "code",
   "execution_count": 16,
   "id": "f6fd0029",
   "metadata": {},
   "outputs": [
    {
     "name": "stdout",
     "output_type": "stream",
     "text": [
      "Requirement already satisfied: numpy in c:\\users\\dell\\anaconda3\\lib\\site-packages (1.24.1)\n"
     ]
    }
   ],
   "source": [
    "import sys\n",
    "!{sys.executable} -m pip install numpy"
   ]
  },
  {
   "cell_type": "code",
   "execution_count": 9,
   "id": "2904a718",
   "metadata": {},
   "outputs": [
    {
     "name": "stdout",
     "output_type": "stream",
     "text": [
      "Requirement already satisfied: numpy in c:\\users\\dell\\anaconda3\\lib\\site-packages (1.24.1)\n",
      "Note: you may need to restart the kernel to use updated packages.\n"
     ]
    }
   ],
   "source": [
    "pip install numpy"
   ]
  },
  {
   "cell_type": "code",
   "execution_count": 10,
   "id": "221a5a7f",
   "metadata": {},
   "outputs": [],
   "source": [
    "import numpy as np"
   ]
  },
  {
   "cell_type": "code",
   "execution_count": 4,
   "id": "59d9ef94",
   "metadata": {},
   "outputs": [],
   "source": [
    "arr = np.array(3)"
   ]
  },
  {
   "cell_type": "code",
   "execution_count": 6,
   "id": "35222cb6",
   "metadata": {},
   "outputs": [
    {
     "name": "stdout",
     "output_type": "stream",
     "text": [
      "3\n"
     ]
    }
   ],
   "source": [
    "print(arr)"
   ]
  },
  {
   "cell_type": "code",
   "execution_count": 7,
   "id": "c9ce7a02",
   "metadata": {},
   "outputs": [
    {
     "name": "stdout",
     "output_type": "stream",
     "text": [
      "array:  [1 4 2 5 3]\n",
      "arr.ndim:  1\n",
      "arr.shape:  (5,)\n",
      "arr.size:  5\n",
      "arr.dtype:  uint32\n",
      "arr.itemsize:  4\n",
      "arr.nbytes:  20\n",
      "arr.data:  <memory at 0x0000016D89F29F40>\n",
      "arr.strides:  (4,)\n",
      "arr.flags: \n",
      "   C_CONTIGUOUS : True\n",
      "  F_CONTIGUOUS : True\n",
      "  OWNDATA : True\n",
      "  WRITEABLE : True\n",
      "  ALIGNED : True\n",
      "  WRITEBACKIFCOPY : False\n",
      "\n"
     ]
    }
   ],
   "source": [
    "mylist = [1, 4, 2, 5, 3]\n",
    "arr = np.array(mylist, dtype=np.uint8)\n",
    "arr = np.array([1, 4, 2, 5, 3], dtype=np.uint32)\n",
    "\n",
    "print(\"array: \", arr)\n",
    "print(\"arr.ndim: \", arr.ndim)   # get number of dimensions\n",
    "print(\"arr.shape: \", arr.shape) # This is 1-D array having 5 columns, so return a tuple with one element\n",
    "print(\"arr.size: \", arr.size)   # get total number of elements\n",
    "print(\"arr.dtype: \", arr.dtype) # get data type, default is what is minimum required to hold the max size element\n",
    "print(\"arr.itemsize: \", arr.itemsize)  # get size in bytes of each element of the array\n",
    "print(\"arr.nbytes: \", arr.nbytes)  # get number of bytes occupied by entire array object in memory (2*5=10)\n",
    "\n",
    "print(\"arr.data: \", arr.data)\n",
    "print(\"arr.strides: \", arr.strides)\n",
    "print(\"arr.flags: \\n\", arr.flags)"
   ]
  },
  {
   "cell_type": "code",
   "execution_count": 13,
   "id": "9f2726bb",
   "metadata": {},
   "outputs": [
    {
     "name": "stdout",
     "output_type": "stream",
     "text": [
      "[[6.23566769 4.47149427]\n",
      " [1.37632361 5.00200127]\n",
      " [2.58227279 4.34275089]]\n"
     ]
    }
   ],
   "source": [
    "arr1 = np.random.rand(3,2)*10\n",
    "print(arr1)"
   ]
  },
  {
   "cell_type": "code",
   "execution_count": 15,
   "id": "6fee41ee",
   "metadata": {},
   "outputs": [
    {
     "name": "stdout",
     "output_type": "stream",
     "text": [
      "arr1.nbytes:  48\n"
     ]
    }
   ],
   "source": [
    "print(\"arr1.nbytes: \", arr1.nbytes)"
   ]
  },
  {
   "cell_type": "code",
   "execution_count": 17,
   "id": "2c3ab879",
   "metadata": {},
   "outputs": [
    {
     "data": {
      "text/plain": [
       "'1.24.1'"
      ]
     },
     "execution_count": 17,
     "metadata": {},
     "output_type": "execute_result"
    }
   ],
   "source": [
    "np.__version__"
   ]
  },
  {
   "cell_type": "code",
   "execution_count": 22,
   "id": "4b21589f",
   "metadata": {},
   "outputs": [
    {
     "name": "stdout",
     "output_type": "stream",
     "text": [
      "array:  [1 4 2 5 3]\n",
      "arr.ndim:  1\n",
      "arr.shape:  (5,)\n",
      "arr.size:  5\n",
      "arr.dtype:  uint8\n",
      "arr.itemsize:  1\n",
      "arr.nbytes:  5\n",
      "arr.data:  <memory at 0x0000016D9A3BEF40>\n",
      "arr.strides:  (1,)\n",
      "arr.flags: \n",
      "   C_CONTIGUOUS : True\n",
      "  F_CONTIGUOUS : True\n",
      "  OWNDATA : True\n",
      "  WRITEABLE : True\n",
      "  ALIGNED : True\n",
      "  WRITEBACKIFCOPY : False\n",
      "\n"
     ]
    }
   ],
   "source": [
    "\n",
    "arr = np.array([1, 4, 2, 5, 3], dtype=np.uint8)\n",
    "\n",
    "print(\"array: \", arr)\n",
    "print(\"arr.ndim: \", arr.ndim)   # get number of dimensions\n",
    "print(\"arr.shape: \", arr.shape) # This is 1-D array having 5 columns, so return a tuple with one element\n",
    "print(\"arr.size: \", arr.size)   # get total number of elements\n",
    "print(\"arr.dtype: \", arr.dtype) # get data type, default is what is minimum required to hold the max size element\n",
    "print(\"arr.itemsize: \", arr.itemsize)  # get size in bytes of each element of the array\n",
    "print(\"arr.nbytes: \", arr.nbytes)  # get number of bytes occupied by entire array object in memory (2*5=10)\n",
    "\n",
    "print(\"arr.data: \", arr.data)\n",
    "print(\"arr.strides: \", arr.strides)\n",
    "print(\"arr.flags: \\n\", arr.flags)\n"
   ]
  },
  {
   "cell_type": "code",
   "execution_count": 29,
   "id": "71892164",
   "metadata": {},
   "outputs": [],
   "source": [
    "list = [\n",
    "    [1,2,3,3,4],\n",
    "    [3,3,5,3,3],\n",
    "    [4,3,5,25,1],\n",
    "    [3,4,4,4,3]\n",
    "]"
   ]
  },
  {
   "cell_type": "code",
   "execution_count": 35,
   "id": "95ae7ee3",
   "metadata": {},
   "outputs": [],
   "source": [
    "arr2 = np.array(list, dtype=np.uint64)"
   ]
  },
  {
   "cell_type": "code",
   "execution_count": 36,
   "id": "0d268dec",
   "metadata": {},
   "outputs": [
    {
     "data": {
      "text/plain": [
       "(40, 8)"
      ]
     },
     "execution_count": 36,
     "metadata": {},
     "output_type": "execute_result"
    }
   ],
   "source": [
    "arr2.strides"
   ]
  },
  {
   "cell_type": "code",
   "execution_count": 37,
   "id": "e4476431",
   "metadata": {},
   "outputs": [
    {
     "data": {
      "text/plain": [
       "(4, 5)"
      ]
     },
     "execution_count": 37,
     "metadata": {},
     "output_type": "execute_result"
    }
   ],
   "source": [
    "arr2.shape"
   ]
  },
  {
   "cell_type": "code",
   "execution_count": 38,
   "id": "846539d3",
   "metadata": {},
   "outputs": [
    {
     "data": {
      "text/plain": [
       "160"
      ]
     },
     "execution_count": 38,
     "metadata": {},
     "output_type": "execute_result"
    }
   ],
   "source": [
    "arr2.nbytes"
   ]
  },
  {
   "cell_type": "code",
   "execution_count": 39,
   "id": "d212d4f7",
   "metadata": {},
   "outputs": [
    {
     "data": {
      "text/plain": [
       "2"
      ]
     },
     "execution_count": 39,
     "metadata": {},
     "output_type": "execute_result"
    }
   ],
   "source": [
    "arr2.ndim"
   ]
  },
  {
   "cell_type": "code",
   "execution_count": 42,
   "id": "4fa534aa",
   "metadata": {},
   "outputs": [],
   "source": [
    "arr3 = np.arange(1,4,1)"
   ]
  },
  {
   "cell_type": "code",
   "execution_count": 43,
   "id": "328a467f",
   "metadata": {},
   "outputs": [
    {
     "name": "stdout",
     "output_type": "stream",
     "text": [
      "[1 2 3]\n"
     ]
    }
   ],
   "source": [
    "print(arr3)"
   ]
  },
  {
   "cell_type": "code",
   "execution_count": 51,
   "id": "2b6d624f",
   "metadata": {},
   "outputs": [],
   "source": [
    "arrr = np.random.randint(low= 1, high = 20, size=(5,4,3))"
   ]
  },
  {
   "cell_type": "code",
   "execution_count": 52,
   "id": "04b4f0dd",
   "metadata": {},
   "outputs": [
    {
     "name": "stdout",
     "output_type": "stream",
     "text": [
      "[[[ 5 14  3]\n",
      "  [ 3 14 18]\n",
      "  [12 15  2]\n",
      "  [ 1 12  2]]\n",
      "\n",
      " [[ 1 19 14]\n",
      "  [ 2 13 18]\n",
      "  [ 2  3 11]\n",
      "  [ 4 19 10]]\n",
      "\n",
      " [[ 4  6  2]\n",
      "  [12  1 16]\n",
      "  [11  3  7]\n",
      "  [ 5  2  4]]\n",
      "\n",
      " [[14  9 18]\n",
      "  [14  7 19]\n",
      "  [13  4 15]\n",
      "  [ 6  9 12]]\n",
      "\n",
      " [[ 3 12 17]\n",
      "  [ 5 13  5]\n",
      "  [19  2  3]\n",
      "  [11  6  4]]]\n"
     ]
    }
   ],
   "source": [
    "print(arrr)"
   ]
  },
  {
   "cell_type": "code",
   "execution_count": null,
   "id": "17fcb012",
   "metadata": {},
   "outputs": [],
   "source": []
  }
 ],
 "metadata": {
  "kernelspec": {
   "display_name": "Python 3 (ipykernel)",
   "language": "python",
   "name": "python3"
  },
  "language_info": {
   "codemirror_mode": {
    "name": "ipython",
    "version": 3
   },
   "file_extension": ".py",
   "mimetype": "text/x-python",
   "name": "python",
   "nbconvert_exporter": "python",
   "pygments_lexer": "ipython3",
   "version": "3.9.13"
  }
 },
 "nbformat": 4,
 "nbformat_minor": 5
}
