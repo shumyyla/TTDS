{
 "cells": [
  {
   "cell_type": "code",
   "execution_count": 1,
   "id": "dd55cde5",
   "metadata": {},
   "outputs": [],
   "source": [
    "fr= open(\"f1.txt\",\"rt+\")"
   ]
  },
  {
   "cell_type": "code",
   "execution_count": 2,
   "id": "87fc9a28",
   "metadata": {},
   "outputs": [
    {
     "data": {
      "text/plain": [
       "<_io.TextIOWrapper name='f1.txt' mode='rt+' encoding='cp1252'>"
      ]
     },
     "execution_count": 2,
     "metadata": {},
     "output_type": "execute_result"
    }
   ],
   "source": [
    "fr"
   ]
  },
  {
   "cell_type": "code",
   "execution_count": 4,
   "id": "bf01d40b",
   "metadata": {},
   "outputs": [
    {
     "data": {
      "text/plain": [
       "'Hi, m'"
      ]
     },
     "execution_count": 4,
     "metadata": {},
     "output_type": "execute_result"
    }
   ],
   "source": [
    "fr.read(5)"
   ]
  },
  {
   "cell_type": "code",
   "execution_count": 5,
   "id": "92f13256",
   "metadata": {},
   "outputs": [
    {
     "data": {
      "text/plain": [
       "'y na'"
      ]
     },
     "execution_count": 5,
     "metadata": {},
     "output_type": "execute_result"
    }
   ],
   "source": [
    "fr.read(4)"
   ]
  },
  {
   "cell_type": "code",
   "execution_count": 6,
   "id": "1c91c840",
   "metadata": {},
   "outputs": [
    {
     "data": {
      "text/plain": [
       "'me is shum'"
      ]
     },
     "execution_count": 6,
     "metadata": {},
     "output_type": "execute_result"
    }
   ],
   "source": [
    "fr.read(10)"
   ]
  },
  {
   "cell_type": "code",
   "execution_count": 7,
   "id": "6ef97fea",
   "metadata": {},
   "outputs": [
    {
     "data": {
      "text/plain": [
       "'aila.\\nr'"
      ]
     },
     "execution_count": 7,
     "metadata": {},
     "output_type": "execute_result"
    }
   ],
   "source": [
    "fr.read(7)"
   ]
  },
  {
   "cell_type": "code",
   "execution_count": 23,
   "id": "d08f2264",
   "metadata": {},
   "outputs": [],
   "source": [
    "fr= open(\"f1.txt\",\"rt+\")"
   ]
  },
  {
   "cell_type": "code",
   "execution_count": 19,
   "id": "17e55eda",
   "metadata": {},
   "outputs": [
    {
     "data": {
      "text/plain": [
       "'Hi, my name is shumaila.\\n\\n\\njupter notebook\\n\\nBatch #2\\nreading contents of a file\\n\\n'"
      ]
     },
     "execution_count": 19,
     "metadata": {},
     "output_type": "execute_result"
    }
   ],
   "source": [
    "fr.read(-1)"
   ]
  },
  {
   "cell_type": "code",
   "execution_count": 16,
   "id": "ff6994f4",
   "metadata": {},
   "outputs": [
    {
     "data": {
      "text/plain": [
       "'Hi, my name is shumaila.\\n'"
      ]
     },
     "execution_count": 16,
     "metadata": {},
     "output_type": "execute_result"
    }
   ],
   "source": [
    "fr.readline(-1)"
   ]
  },
  {
   "cell_type": "code",
   "execution_count": 22,
   "id": "efc7a389",
   "metadata": {},
   "outputs": [
    {
     "data": {
      "text/plain": [
       "['Hi, my name is shumaila.\\n',\n",
       " '\\n',\n",
       " '\\n',\n",
       " 'jupter notebook\\n',\n",
       " '\\n',\n",
       " 'Batch #2\\n',\n",
       " 'reading contents of a file\\n',\n",
       " '\\n']"
      ]
     },
     "execution_count": 22,
     "metadata": {},
     "output_type": "execute_result"
    }
   ],
   "source": [
    "fr.readlines( -1)"
   ]
  },
  {
   "cell_type": "code",
   "execution_count": 26,
   "id": "02f48355",
   "metadata": {},
   "outputs": [],
   "source": [
    "mylist = fr.readlines()"
   ]
  },
  {
   "cell_type": "code",
   "execution_count": 28,
   "id": "0d0c501a",
   "metadata": {},
   "outputs": [
    {
     "name": "stdout",
     "output_type": "stream",
     "text": [
      "<class 'list'>\n"
     ]
    }
   ],
   "source": [
    "print(type(mylist))"
   ]
  },
  {
   "cell_type": "code",
   "execution_count": null,
   "id": "c5a2649e",
   "metadata": {},
   "outputs": [],
   "source": []
  }
 ],
 "metadata": {
  "kernelspec": {
   "display_name": "Python 3 (ipykernel)",
   "language": "python",
   "name": "python3"
  },
  "language_info": {
   "codemirror_mode": {
    "name": "ipython",
    "version": 3
   },
   "file_extension": ".py",
   "mimetype": "text/x-python",
   "name": "python",
   "nbconvert_exporter": "python",
   "pygments_lexer": "ipython3",
   "version": "3.9.13"
  }
 },
 "nbformat": 4,
 "nbformat_minor": 5
}
