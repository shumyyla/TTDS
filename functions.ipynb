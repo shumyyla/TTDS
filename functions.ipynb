{
 "cells": [
  {
   "cell_type": "code",
   "execution_count": 1,
   "id": "414cf7a1",
   "metadata": {},
   "outputs": [],
   "source": [
    "import numpy as np"
   ]
  },
  {
   "cell_type": "code",
   "execution_count": 2,
   "id": "ffeaa627",
   "metadata": {},
   "outputs": [
    {
     "data": {
      "text/plain": [
       "9"
      ]
     },
     "execution_count": 2,
     "metadata": {},
     "output_type": "execute_result"
    }
   ],
   "source": [
    "def sq(num):\n",
    "    return num**2\n",
    "\n",
    "sq(3)"
   ]
  },
  {
   "cell_type": "code",
   "execution_count": 10,
   "id": "350b4e3b",
   "metadata": {},
   "outputs": [],
   "source": [
    "sk= lambda num : num**2"
   ]
  },
  {
   "cell_type": "code",
   "execution_count": 11,
   "id": "9534ccc3",
   "metadata": {},
   "outputs": [
    {
     "name": "stdout",
     "output_type": "stream",
     "text": [
      "<function <lambda> at 0x0000027D781168B0>\n"
     ]
    }
   ],
   "source": [
    "print(sk)"
   ]
  },
  {
   "cell_type": "code",
   "execution_count": 12,
   "id": "ed193db8",
   "metadata": {},
   "outputs": [
    {
     "data": {
      "text/plain": [
       "9"
      ]
     },
     "execution_count": 12,
     "metadata": {},
     "output_type": "execute_result"
    }
   ],
   "source": [
    "sk(3)"
   ]
  },
  {
   "cell_type": "code",
   "execution_count": 16,
   "id": "d8203082",
   "metadata": {},
   "outputs": [],
   "source": [
    "sum = lambda a,b : a+b"
   ]
  },
  {
   "cell_type": "code",
   "execution_count": 17,
   "id": "3ee42842",
   "metadata": {},
   "outputs": [
    {
     "data": {
      "text/plain": [
       "7"
      ]
     },
     "execution_count": 17,
     "metadata": {},
     "output_type": "execute_result"
    }
   ],
   "source": [
    "sum(3,4)"
   ]
  },
  {
   "cell_type": "code",
   "execution_count": 19,
   "id": "b6dbdf7e",
   "metadata": {},
   "outputs": [],
   "source": [
    "even = lambda x : x%2==0"
   ]
  },
  {
   "cell_type": "code",
   "execution_count": 20,
   "id": "867e9958",
   "metadata": {},
   "outputs": [
    {
     "data": {
      "text/plain": [
       "False"
      ]
     },
     "execution_count": 20,
     "metadata": {},
     "output_type": "execute_result"
    }
   ],
   "source": [
    "even(3)"
   ]
  },
  {
   "cell_type": "code",
   "execution_count": 24,
   "id": "8dc2d68a",
   "metadata": {},
   "outputs": [],
   "source": [
    "func = lambda s: s[0]"
   ]
  },
  {
   "cell_type": "code",
   "execution_count": 28,
   "id": "531f24d6",
   "metadata": {},
   "outputs": [
    {
     "data": {
      "text/plain": [
       "'h'"
      ]
     },
     "execution_count": 28,
     "metadata": {},
     "output_type": "execute_result"
    }
   ],
   "source": [
    "func('hahaha')"
   ]
  },
  {
   "cell_type": "code",
   "execution_count": 29,
   "id": "3d5d80bb",
   "metadata": {},
   "outputs": [],
   "source": [
    "func = lambda s : s[::-1]"
   ]
  },
  {
   "cell_type": "code",
   "execution_count": 30,
   "id": "a8239f97",
   "metadata": {},
   "outputs": [
    {
     "data": {
      "text/plain": [
       "'aliamuhs'"
      ]
     },
     "execution_count": 30,
     "metadata": {},
     "output_type": "execute_result"
    }
   ],
   "source": [
    "func('shumaila')"
   ]
  },
  {
   "cell_type": "code",
   "execution_count": 33,
   "id": "5f2653f1",
   "metadata": {},
   "outputs": [],
   "source": [
    "func = lambda s : len(s)"
   ]
  },
  {
   "cell_type": "code",
   "execution_count": 35,
   "id": "e745ba32",
   "metadata": {},
   "outputs": [
    {
     "data": {
      "text/plain": [
       "7"
      ]
     },
     "execution_count": 35,
     "metadata": {},
     "output_type": "execute_result"
    }
   ],
   "source": [
    "func('hahaaah')"
   ]
  },
  {
   "cell_type": "code",
   "execution_count": 37,
   "id": "667b5568",
   "metadata": {},
   "outputs": [],
   "source": [
    "def mycal(op,a,b):\n",
    "    return op(a,b)"
   ]
  },
  {
   "cell_type": "code",
   "execution_count": 38,
   "id": "98dd2753",
   "metadata": {},
   "outputs": [],
   "source": [
    "a = mycal(sum,5,6)"
   ]
  },
  {
   "cell_type": "code",
   "execution_count": 39,
   "id": "cb10de86",
   "metadata": {},
   "outputs": [
    {
     "data": {
      "text/plain": [
       "11"
      ]
     },
     "execution_count": 39,
     "metadata": {},
     "output_type": "execute_result"
    }
   ],
   "source": [
    "a"
   ]
  },
  {
   "cell_type": "code",
   "execution_count": 43,
   "id": "eea2152a",
   "metadata": {},
   "outputs": [],
   "source": [
    "r1 = mycal(lambda a,b : a+b , 8,2)"
   ]
  },
  {
   "cell_type": "code",
   "execution_count": 44,
   "id": "3a0af4f0",
   "metadata": {},
   "outputs": [
    {
     "name": "stdout",
     "output_type": "stream",
     "text": [
      "10\n"
     ]
    }
   ],
   "source": [
    "print(r1)"
   ]
  },
  {
   "cell_type": "code",
   "execution_count": 45,
   "id": "b18e61b2",
   "metadata": {},
   "outputs": [
    {
     "name": "stdout",
     "output_type": "stream",
     "text": [
      "Help on class map in module builtins:\n",
      "\n",
      "class map(object)\n",
      " |  map(func, *iterables) --> map object\n",
      " |  \n",
      " |  Make an iterator that computes the function using arguments from\n",
      " |  each of the iterables.  Stops when the shortest iterable is exhausted.\n",
      " |  \n",
      " |  Methods defined here:\n",
      " |  \n",
      " |  __getattribute__(self, name, /)\n",
      " |      Return getattr(self, name).\n",
      " |  \n",
      " |  __iter__(self, /)\n",
      " |      Implement iter(self).\n",
      " |  \n",
      " |  __next__(self, /)\n",
      " |      Implement next(self).\n",
      " |  \n",
      " |  __reduce__(...)\n",
      " |      Return state information for pickling.\n",
      " |  \n",
      " |  ----------------------------------------------------------------------\n",
      " |  Static methods defined here:\n",
      " |  \n",
      " |  __new__(*args, **kwargs) from builtins.type\n",
      " |      Create and return a new object.  See help(type) for accurate signature.\n",
      "\n"
     ]
    }
   ],
   "source": [
    "help(map)"
   ]
  },
  {
   "cell_type": "code",
   "execution_count": 46,
   "id": "1aacadae",
   "metadata": {},
   "outputs": [],
   "source": [
    "list = [1,2,3,4]\n",
    "\n",
    "sq = []"
   ]
  },
  {
   "cell_type": "code",
   "execution_count": 48,
   "id": "fe9164db",
   "metadata": {},
   "outputs": [],
   "source": [
    "for a in list:\n",
    "    sq.append(a**2)"
   ]
  },
  {
   "cell_type": "code",
   "execution_count": 49,
   "id": "d1e1e024",
   "metadata": {},
   "outputs": [
    {
     "data": {
      "text/plain": [
       "[1, 4, 9, 16]"
      ]
     },
     "execution_count": 49,
     "metadata": {},
     "output_type": "execute_result"
    }
   ],
   "source": [
    "sq"
   ]
  },
  {
   "cell_type": "code",
   "execution_count": 51,
   "id": "c60f0c87",
   "metadata": {},
   "outputs": [],
   "source": [
    "list = [1,2,3,4,5,6,6,7]\n",
    "\n",
    "even= []"
   ]
  },
  {
   "cell_type": "code",
   "execution_count": 52,
   "id": "b2694f06",
   "metadata": {},
   "outputs": [],
   "source": [
    "for a in list:\n",
    "    even.append(a%2==0)"
   ]
  },
  {
   "cell_type": "code",
   "execution_count": 55,
   "id": "4db898a0",
   "metadata": {},
   "outputs": [
    {
     "name": "stdout",
     "output_type": "stream",
     "text": [
      "[False, True, False, True, False, True, True, False]\n"
     ]
    }
   ],
   "source": [
    "print(even)"
   ]
  },
  {
   "cell_type": "code",
   "execution_count": 69,
   "id": "53b01db1",
   "metadata": {},
   "outputs": [],
   "source": [
    "mylist = [1,2,3,4,4,5,6,6]\n",
    "\n",
    "def sum(a):\n",
    "    return a**2"
   ]
  },
  {
   "cell_type": "code",
   "execution_count": 70,
   "id": "cbb1eaa3",
   "metadata": {},
   "outputs": [],
   "source": [
    "map_obj = map(sum,mylist)"
   ]
  },
  {
   "cell_type": "code",
   "execution_count": 71,
   "id": "378b7baa",
   "metadata": {},
   "outputs": [
    {
     "name": "stdout",
     "output_type": "stream",
     "text": [
      "<map object at 0x0000027D783E55B0>\n"
     ]
    }
   ],
   "source": [
    "print(map_obj)"
   ]
  },
  {
   "cell_type": "code",
   "execution_count": 72,
   "id": "5bd19ca6",
   "metadata": {},
   "outputs": [
    {
     "ename": "TypeError",
     "evalue": "'list' object is not callable",
     "output_type": "error",
     "traceback": [
      "\u001b[1;31m---------------------------------------------------------------------------\u001b[0m",
      "\u001b[1;31mTypeError\u001b[0m                                 Traceback (most recent call last)",
      "Cell \u001b[1;32mIn[72], line 9\u001b[0m\n\u001b[0;32m      4\u001b[0m     \u001b[38;5;28;01mreturn\u001b[39;00m x \u001b[38;5;241m*\u001b[39m\u001b[38;5;241m*\u001b[39m \u001b[38;5;241m2\u001b[39m\n\u001b[0;32m      7\u001b[0m map_object \u001b[38;5;241m=\u001b[39m \u001b[38;5;28mmap\u001b[39m(sqr, mylist)\n\u001b[1;32m----> 9\u001b[0m mylist_squared \u001b[38;5;241m=\u001b[39m \u001b[38;5;28;43mlist\u001b[39;49m\u001b[43m(\u001b[49m\u001b[43mmap_object\u001b[49m\u001b[43m)\u001b[49m\n\u001b[0;32m     11\u001b[0m \u001b[38;5;28mprint\u001b[39m(\u001b[38;5;124m\"\u001b[39m\u001b[38;5;124mOriginal list: \u001b[39m\u001b[38;5;124m\"\u001b[39m, mylist)\n\u001b[0;32m     12\u001b[0m \u001b[38;5;28mprint\u001b[39m(\u001b[38;5;124m\"\u001b[39m\u001b[38;5;124mList with items squared: \u001b[39m\u001b[38;5;124m\"\u001b[39m, mylist_squared)\n",
      "\u001b[1;31mTypeError\u001b[0m: 'list' object is not callable"
     ]
    }
   ],
   "source": [
    "mylist = [5, 7, 2, 6, 9]\n",
    "\n",
    "def sqr(x):\n",
    "    return x ** 2\n",
    "\n",
    "\n",
    "map_object = map(sqr, mylist)\n",
    "\n",
    "mylist_squared = list(map_object)\n",
    "\n",
    "print(\"Original list: \", mylist)\n",
    "print(\"List with items squared: \", mylist_squared)"
   ]
  },
  {
   "cell_type": "code",
   "execution_count": 73,
   "id": "54185a70",
   "metadata": {},
   "outputs": [
    {
     "ename": "TypeError",
     "evalue": "'list' object is not callable",
     "output_type": "error",
     "traceback": [
      "\u001b[1;31m---------------------------------------------------------------------------\u001b[0m",
      "\u001b[1;31mTypeError\u001b[0m                                 Traceback (most recent call last)",
      "Cell \u001b[1;32mIn[73], line 5\u001b[0m\n\u001b[0;32m      1\u001b[0m mylist \u001b[38;5;241m=\u001b[39m [\u001b[38;5;241m5\u001b[39m, \u001b[38;5;241m7\u001b[39m, \u001b[38;5;241m2\u001b[39m, \u001b[38;5;241m6\u001b[39m, \u001b[38;5;241m9\u001b[39m]\n\u001b[0;32m      3\u001b[0m map_object \u001b[38;5;241m=\u001b[39m \u001b[38;5;28mmap\u001b[39m(\u001b[38;5;28;01mlambda\u001b[39;00m x: x \u001b[38;5;241m*\u001b[39m\u001b[38;5;241m*\u001b[39m \u001b[38;5;241m2\u001b[39m , mylist)\n\u001b[1;32m----> 5\u001b[0m mylist_squared \u001b[38;5;241m=\u001b[39m \u001b[38;5;28;43mlist\u001b[39;49m\u001b[43m(\u001b[49m\u001b[43mmap_object\u001b[49m\u001b[43m)\u001b[49m\n\u001b[0;32m      7\u001b[0m \u001b[38;5;28mprint\u001b[39m(\u001b[38;5;124m\"\u001b[39m\u001b[38;5;124mOriginal list: \u001b[39m\u001b[38;5;124m\"\u001b[39m, mylist)\n\u001b[0;32m      8\u001b[0m \u001b[38;5;28mprint\u001b[39m(\u001b[38;5;124m\"\u001b[39m\u001b[38;5;124mList with items squared: \u001b[39m\u001b[38;5;124m\"\u001b[39m, mylist_squared)\n",
      "\u001b[1;31mTypeError\u001b[0m: 'list' object is not callable"
     ]
    }
   ],
   "source": [
    "mylist = [5, 7, 2, 6, 9]\n",
    "\n",
    "map_object = map(lambda x: x ** 2 , mylist)\n",
    "\n",
    "mylist_squared = list(map_object)\n",
    "\n",
    "print(\"Original list: \", mylist)\n",
    "print(\"List with items squared: \", mylist_squared)"
   ]
  },
  {
   "cell_type": "code",
   "execution_count": null,
   "id": "d3f2d1c8",
   "metadata": {},
   "outputs": [],
   "source": []
  }
 ],
 "metadata": {
  "kernelspec": {
   "display_name": "Python 3 (ipykernel)",
   "language": "python",
   "name": "python3"
  },
  "language_info": {
   "codemirror_mode": {
    "name": "ipython",
    "version": 3
   },
   "file_extension": ".py",
   "mimetype": "text/x-python",
   "name": "python",
   "nbconvert_exporter": "python",
   "pygments_lexer": "ipython3",
   "version": "3.9.13"
  }
 },
 "nbformat": 4,
 "nbformat_minor": 5
}
