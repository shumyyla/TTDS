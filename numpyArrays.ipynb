{
 "cells": [
  {
   "cell_type": "code",
   "execution_count": 1,
   "id": "7adcd977",
   "metadata": {},
   "outputs": [
    {
     "name": "stdout",
     "output_type": "stream",
     "text": [
      "Requirement already satisfied: numpy in c:\\users\\dell\\anaconda3\\lib\\site-packages (1.24.1)\n"
     ]
    }
   ],
   "source": [
    "import sys\n",
    "!{sys.executable} -m pip install numpy"
   ]
  },
  {
   "cell_type": "code",
   "execution_count": 2,
   "id": "2904a718",
   "metadata": {},
   "outputs": [
    {
     "name": "stdout",
     "output_type": "stream",
     "text": [
      "Requirement already satisfied: numpy in c:\\users\\dell\\anaconda3\\lib\\site-packages (1.24.1)\n",
      "Note: you may need to restart the kernel to use updated packages.\n"
     ]
    }
   ],
   "source": [
    "pip install numpy"
   ]
  },
  {
   "cell_type": "code",
   "execution_count": 3,
   "id": "221a5a7f",
   "metadata": {},
   "outputs": [],
   "source": [
    "import numpy as np"
   ]
  },
  {
   "cell_type": "code",
   "execution_count": 4,
   "id": "59d9ef94",
   "metadata": {},
   "outputs": [],
   "source": [
    "arr = np.array(3)"
   ]
  },
  {
   "cell_type": "code",
   "execution_count": 5,
   "id": "35222cb6",
   "metadata": {},
   "outputs": [
    {
     "name": "stdout",
     "output_type": "stream",
     "text": [
      "3\n"
     ]
    }
   ],
   "source": [
    "print(arr)"
   ]
  },
  {
   "cell_type": "code",
   "execution_count": 6,
   "id": "c9ce7a02",
   "metadata": {},
   "outputs": [
    {
     "name": "stdout",
     "output_type": "stream",
     "text": [
      "array:  [1 4 2 5 3]\n",
      "arr.ndim:  1\n",
      "arr.shape:  (5,)\n",
      "arr.size:  5\n",
      "arr.dtype:  uint32\n",
      "arr.itemsize:  4\n",
      "arr.nbytes:  20\n",
      "arr.data:  <memory at 0x000001D52C3C8D00>\n",
      "arr.strides:  (4,)\n",
      "arr.flags: \n",
      "   C_CONTIGUOUS : True\n",
      "  F_CONTIGUOUS : True\n",
      "  OWNDATA : True\n",
      "  WRITEABLE : True\n",
      "  ALIGNED : True\n",
      "  WRITEBACKIFCOPY : False\n",
      "\n"
     ]
    }
   ],
   "source": [
    "mylist = [1, 4, 2, 5, 3]\n",
    "arr = np.array(mylist, dtype=np.uint8)\n",
    "arr = np.array([1, 4, 2, 5, 3], dtype=np.uint32)\n",
    "\n",
    "print(\"array: \", arr)\n",
    "print(\"arr.ndim: \", arr.ndim)   # get number of dimensions\n",
    "print(\"arr.shape: \", arr.shape) # This is 1-D array having 5 columns, so return a tuple with one element\n",
    "print(\"arr.size: \", arr.size)   # get total number of elements\n",
    "print(\"arr.dtype: \", arr.dtype) # get data type, default is what is minimum required to hold the max size element\n",
    "print(\"arr.itemsize: \", arr.itemsize)  # get size in bytes of each element of the array\n",
    "print(\"arr.nbytes: \", arr.nbytes)  # get number of bytes occupied by entire array object in memory (2*5=10)\n",
    "\n",
    "print(\"arr.data: \", arr.data)\n",
    "print(\"arr.strides: \", arr.strides)\n",
    "print(\"arr.flags: \\n\", arr.flags)"
   ]
  },
  {
   "cell_type": "code",
   "execution_count": 35,
   "id": "1acf79d2",
   "metadata": {
    "scrolled": true
   },
   "outputs": [
    {
     "name": "stdout",
     "output_type": "stream",
     "text": [
      "[[7.98513914 6.39439603]\n",
      " [9.13448513 4.94220169]\n",
      " [6.03873509 1.9348596 ]]\n"
     ]
    }
   ],
   "source": [
    "arr1 = np.random.rand(3,2)*10\n",
    "print(arr1)"
   ]
  },
  {
   "cell_type": "code",
   "execution_count": 36,
   "id": "69cf008e",
   "metadata": {},
   "outputs": [
    {
     "name": "stdout",
     "output_type": "stream",
     "text": [
      "arr1.nbytes:  48\n"
     ]
    }
   ],
   "source": [
    "print(\"arr1.nbytes: \", arr1.nbytes)"
   ]
  },
  {
   "cell_type": "code",
   "execution_count": 37,
   "id": "282384ba",
   "metadata": {},
   "outputs": [
    {
     "data": {
      "text/plain": [
       "'1.24.1'"
      ]
     },
     "execution_count": 37,
     "metadata": {},
     "output_type": "execute_result"
    }
   ],
   "source": [
    "np.__version__"
   ]
  },
  {
   "cell_type": "code",
   "execution_count": 10,
   "id": "fb6b8444",
   "metadata": {},
   "outputs": [
    {
     "name": "stdout",
     "output_type": "stream",
     "text": [
      "array:  [1 4 2 5 3]\n",
      "arr.ndim:  1\n",
      "arr.shape:  (5,)\n",
      "arr.size:  5\n",
      "arr.dtype:  uint8\n",
      "arr.itemsize:  1\n",
      "arr.nbytes:  5\n",
      "arr.data:  <memory at 0x000001D52C3C8D00>\n",
      "arr.strides:  (1,)\n",
      "arr.flags: \n",
      "   C_CONTIGUOUS : True\n",
      "  F_CONTIGUOUS : True\n",
      "  OWNDATA : True\n",
      "  WRITEABLE : True\n",
      "  ALIGNED : True\n",
      "  WRITEBACKIFCOPY : False\n",
      "\n"
     ]
    }
   ],
   "source": [
    "\n",
    "arr = np.array([1, 4, 2, 5, 3], dtype=np.uint8)\n",
    "\n",
    "print(\"array: \", arr)\n",
    "print(\"arr.ndim: \", arr.ndim)   # get number of dimensions\n",
    "print(\"arr.shape: \", arr.shape) # This is 1-D array having 5 columns, so return a tuple with one element\n",
    "print(\"arr.size: \", arr.size)   # get total number of elements\n",
    "print(\"arr.dtype: \", arr.dtype) # get data type, default is what is minimum required to hold the max size element\n",
    "print(\"arr.itemsize: \", arr.itemsize)  # get size in bytes of each element of the array\n",
    "print(\"arr.nbytes: \", arr.nbytes)  # get number of bytes occupied by entire array object in memory (2*5=10)\n",
    "\n",
    "print(\"arr.data: \", arr.data)\n",
    "print(\"arr.strides: \", arr.strides)\n",
    "print(\"arr.flags: \\n\", arr.flags)\n"
   ]
  },
  {
   "cell_type": "code",
   "execution_count": 11,
   "id": "1b96f1bb",
   "metadata": {},
   "outputs": [],
   "source": [
    "list = [\n",
    "    [1,2,3,3,4],\n",
    "    [3,3,5,3,3],\n",
    "    [4,3,5,25,1],\n",
    "    [3,4,4,4,3]\n",
    "]"
   ]
  },
  {
   "cell_type": "code",
   "execution_count": 40,
   "id": "12e0fd07",
   "metadata": {},
   "outputs": [
    {
     "data": {
      "text/plain": [
       "array([[ 1,  2,  3,  3,  4],\n",
       "       [ 3,  3,  5,  3,  3],\n",
       "       [ 4,  3,  5, 25,  1],\n",
       "       [ 3,  4,  4,  4,  3]], dtype=uint64)"
      ]
     },
     "execution_count": 40,
     "metadata": {},
     "output_type": "execute_result"
    }
   ],
   "source": [
    "arr2 = np.array(list, dtype=np.uint64)\n",
    "arr2"
   ]
  },
  {
   "cell_type": "code",
   "execution_count": 38,
   "id": "f5de2823",
   "metadata": {},
   "outputs": [
    {
     "data": {
      "text/plain": [
       "(40, 8)"
      ]
     },
     "execution_count": 38,
     "metadata": {},
     "output_type": "execute_result"
    }
   ],
   "source": [
    "arr2.strides"
   ]
  },
  {
   "cell_type": "code",
   "execution_count": 14,
   "id": "8554ce0e",
   "metadata": {},
   "outputs": [
    {
     "data": {
      "text/plain": [
       "(4, 5)"
      ]
     },
     "execution_count": 14,
     "metadata": {},
     "output_type": "execute_result"
    }
   ],
   "source": [
    "arr2.shape"
   ]
  },
  {
   "cell_type": "code",
   "execution_count": 15,
   "id": "261a746a",
   "metadata": {},
   "outputs": [
    {
     "data": {
      "text/plain": [
       "160"
      ]
     },
     "execution_count": 15,
     "metadata": {},
     "output_type": "execute_result"
    }
   ],
   "source": [
    "arr2.nbytes"
   ]
  },
  {
   "cell_type": "code",
   "execution_count": 41,
   "id": "0fc0d313",
   "metadata": {},
   "outputs": [
    {
     "data": {
      "text/plain": [
       "2"
      ]
     },
     "execution_count": 41,
     "metadata": {},
     "output_type": "execute_result"
    }
   ],
   "source": [
    "arr2.ndim"
   ]
  },
  {
   "cell_type": "code",
   "execution_count": 17,
   "id": "0a772653",
   "metadata": {},
   "outputs": [],
   "source": [
    "arr3 = np.arange(1,4,1)"
   ]
  },
  {
   "cell_type": "code",
   "execution_count": 18,
   "id": "a25556fd",
   "metadata": {},
   "outputs": [
    {
     "name": "stdout",
     "output_type": "stream",
     "text": [
      "[1 2 3]\n"
     ]
    }
   ],
   "source": [
    "print(arr3)"
   ]
  },
  {
   "cell_type": "code",
   "execution_count": 45,
   "id": "7de54eee",
   "metadata": {},
   "outputs": [],
   "source": [
    "arrr = np.random.randint(low= 1, high = 20, size=(4,3,3), dtype=np.uint32)"
   ]
  },
  {
   "cell_type": "code",
   "execution_count": 46,
   "id": "4fd9b18b",
   "metadata": {
    "scrolled": true
   },
   "outputs": [
    {
     "name": "stdout",
     "output_type": "stream",
     "text": [
      "[[[10 16  2]\n",
      "  [ 8  2 14]\n",
      "  [ 7 16 14]]\n",
      "\n",
      " [[15  7 19]\n",
      "  [11  5  7]\n",
      "  [13 10 13]]\n",
      "\n",
      " [[13 17 12]\n",
      "  [10  6 11]\n",
      "  [13  3  4]]\n",
      "\n",
      " [[19 14 15]\n",
      "  [ 2  5  8]\n",
      "  [11 14  4]]]\n"
     ]
    }
   ],
   "source": [
    "print(arrr)"
   ]
  },
  {
   "cell_type": "code",
   "execution_count": 47,
   "id": "bba35d62",
   "metadata": {},
   "outputs": [
    {
     "data": {
      "text/plain": [
       "(36, 12, 4)"
      ]
     },
     "execution_count": 47,
     "metadata": {},
     "output_type": "execute_result"
    }
   ],
   "source": [
    "arrr.strides"
   ]
  },
  {
   "cell_type": "code",
   "execution_count": 48,
   "id": "19eb4c24",
   "metadata": {},
   "outputs": [
    {
     "name": "stdout",
     "output_type": "stream",
     "text": [
      "[[[ 2 14]\n",
      "  [16 14]]\n",
      "\n",
      " [[ 5  7]\n",
      "  [10 13]]\n",
      "\n",
      " [[ 6 11]\n",
      "  [ 3  4]]\n",
      "\n",
      " [[ 5  8]\n",
      "  [14  4]]]\n"
     ]
    }
   ],
   "source": [
    "print(arrr[:,1:3,1:3])"
   ]
  },
  {
   "cell_type": "code",
   "execution_count": 49,
   "id": "813c3283",
   "metadata": {},
   "outputs": [],
   "source": [
    "arr4 = np.random.randint(low= 1, high = 20, size=(5,5), dtype=np.uint32)"
   ]
  },
  {
   "cell_type": "code",
   "execution_count": 50,
   "id": "8b369d21",
   "metadata": {},
   "outputs": [
    {
     "data": {
      "text/plain": [
       "array([[ 1, 15, 18, 10,  2],\n",
       "       [ 2, 18, 13,  3,  8],\n",
       "       [16, 13, 12,  8,  9],\n",
       "       [ 6, 18, 16,  4, 10],\n",
       "       [ 7,  2, 10,  1, 15]], dtype=uint32)"
      ]
     },
     "execution_count": 50,
     "metadata": {},
     "output_type": "execute_result"
    }
   ],
   "source": [
    "arr4"
   ]
  },
  {
   "cell_type": "code",
   "execution_count": 25,
   "id": "2f6d9666",
   "metadata": {},
   "outputs": [],
   "source": [
    "row_wanted = np.array([False,True,True,True,False])"
   ]
  },
  {
   "cell_type": "code",
   "execution_count": 26,
   "id": "05d3d4cf",
   "metadata": {},
   "outputs": [],
   "source": [
    "column_wanted = np.array([False,True,True,True,False])"
   ]
  },
  {
   "cell_type": "code",
   "execution_count": 27,
   "id": "22dc90ec",
   "metadata": {},
   "outputs": [],
   "source": [
    "arr5 = arr4[1:4,1:4]"
   ]
  },
  {
   "cell_type": "code",
   "execution_count": 28,
   "id": "f9237e44",
   "metadata": {},
   "outputs": [
    {
     "data": {
      "text/plain": [
       "array([[ 5,  5,  7],\n",
       "       [13,  1, 12],\n",
       "       [19,  9,  5]], dtype=uint32)"
      ]
     },
     "execution_count": 28,
     "metadata": {},
     "output_type": "execute_result"
    }
   ],
   "source": [
    "arr5"
   ]
  },
  {
   "cell_type": "code",
   "execution_count": 29,
   "id": "9985ed27",
   "metadata": {},
   "outputs": [],
   "source": [
    "arrr2 = arr4[ 1 : -2,  1 : -2 ]\n",
    "\n"
   ]
  },
  {
   "cell_type": "code",
   "execution_count": 30,
   "id": "cc2f452f",
   "metadata": {},
   "outputs": [
    {
     "data": {
      "text/plain": [
       "array([[ 5,  5],\n",
       "       [13,  1]], dtype=uint32)"
      ]
     },
     "execution_count": 30,
     "metadata": {},
     "output_type": "execute_result"
    }
   ],
   "source": [
    "arrr2"
   ]
  },
  {
   "cell_type": "code",
   "execution_count": 31,
   "id": "5337d2cc",
   "metadata": {},
   "outputs": [],
   "source": [
    "arr6 = np.arange(8).reshape(2,2,2)"
   ]
  },
  {
   "cell_type": "code",
   "execution_count": 32,
   "id": "d8fdadd6",
   "metadata": {},
   "outputs": [
    {
     "data": {
      "text/plain": [
       "array([[[0, 1],\n",
       "        [2, 3]],\n",
       "\n",
       "       [[4, 5],\n",
       "        [6, 7]]])"
      ]
     },
     "execution_count": 32,
     "metadata": {},
     "output_type": "execute_result"
    }
   ],
   "source": [
    "arr6"
   ]
  },
  {
   "cell_type": "code",
   "execution_count": 33,
   "id": "2cd9a587",
   "metadata": {},
   "outputs": [],
   "source": [
    "arr7 = np.swapaxes(arr6,0,1)"
   ]
  },
  {
   "cell_type": "code",
   "execution_count": 34,
   "id": "f65cef7b",
   "metadata": {},
   "outputs": [
    {
     "data": {
      "text/plain": [
       "array([[[0, 1],\n",
       "        [4, 5]],\n",
       "\n",
       "       [[2, 3],\n",
       "        [6, 7]]])"
      ]
     },
     "execution_count": 34,
     "metadata": {},
     "output_type": "execute_result"
    }
   ],
   "source": [
    "arr7"
   ]
  },
  {
   "cell_type": "code",
   "execution_count": 53,
   "id": "2de928d9",
   "metadata": {},
   "outputs": [
    {
     "name": "stdout",
     "output_type": "stream",
     "text": [
      "datascience\n",
      "-2\n"
     ]
    }
   ],
   "source": [
    "a = \"faouerbchtniaeauiaxcuzsucayrtnianydaut\"\n",
    "print(a[-4:3:-3])\n",
    "print(10 + (-3 << 2))"
   ]
  },
  {
   "cell_type": "code",
   "execution_count": 78,
   "id": "55cb5579",
   "metadata": {},
   "outputs": [
    {
     "data": {
      "text/plain": [
       "-4"
      ]
     },
     "execution_count": 78,
     "metadata": {},
     "output_type": "execute_result"
    }
   ],
   "source": [
    "-25>>3"
   ]
  },
  {
   "cell_type": "code",
   "execution_count": 81,
   "id": "4de16a0d",
   "metadata": {},
   "outputs": [
    {
     "data": {
      "text/plain": [
       "-8"
      ]
     },
     "execution_count": 81,
     "metadata": {},
     "output_type": "execute_result"
    }
   ],
   "source": [
    "-29>>2"
   ]
  },
  {
   "cell_type": "code",
   "execution_count": 80,
   "id": "052b6205",
   "metadata": {},
   "outputs": [
    {
     "data": {
      "text/plain": [
       "-40"
      ]
     },
     "execution_count": 80,
     "metadata": {},
     "output_type": "execute_result"
    }
   ],
   "source": [
    "-10<<2"
   ]
  },
  {
   "cell_type": "code",
   "execution_count": null,
   "id": "6356a28c",
   "metadata": {},
   "outputs": [],
   "source": []
  }
 ],
 "metadata": {
  "kernelspec": {
   "display_name": "Python 3 (ipykernel)",
   "language": "python",
   "name": "python3"
  },
  "language_info": {
   "codemirror_mode": {
    "name": "ipython",
    "version": 3
   },
   "file_extension": ".py",
   "mimetype": "text/x-python",
   "name": "python",
   "nbconvert_exporter": "python",
   "pygments_lexer": "ipython3",
   "version": "3.9.13"
  }
 },
 "nbformat": 4,
 "nbformat_minor": 5
}
