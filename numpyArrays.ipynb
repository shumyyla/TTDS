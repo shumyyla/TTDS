{
 "cells": [
  {
   "cell_type": "code",
   "execution_count": 16,
   "id": "7adcd977",
   "metadata": {},
   "outputs": [
    {
     "name": "stdout",
     "output_type": "stream",
     "text": [
      "Requirement already satisfied: numpy in c:\\users\\dell\\anaconda3\\lib\\site-packages (1.24.1)\n"
     ]
    }
   ],
   "source": [
    "import sys\n",
    "!{sys.executable} -m pip install numpy"
   ]
  },
  {
   "cell_type": "code",
   "execution_count": 9,
   "id": "2904a718",
   "metadata": {},
   "outputs": [
    {
     "name": "stdout",
     "output_type": "stream",
     "text": [
      "Requirement already satisfied: numpy in c:\\users\\dell\\anaconda3\\lib\\site-packages (1.24.1)\n",
      "Note: you may need to restart the kernel to use updated packages.\n"
     ]
    }
   ],
   "source": [
    "pip install numpy"
   ]
  },
  {
   "cell_type": "code",
   "execution_count": 5,
   "id": "221a5a7f",
   "metadata": {},
   "outputs": [],
   "source": [
    "import numpy as np"
   ]
  },
  {
   "cell_type": "code",
   "execution_count": 4,
   "id": "59d9ef94",
   "metadata": {},
   "outputs": [],
   "source": [
    "arr = np.array(3)"
   ]
  },
  {
   "cell_type": "code",
   "execution_count": 6,
   "id": "35222cb6",
   "metadata": {},
   "outputs": [
    {
     "name": "stdout",
     "output_type": "stream",
     "text": [
      "3\n"
     ]
    }
   ],
   "source": [
    "print(arr)"
   ]
  },
  {
   "cell_type": "code",
   "execution_count": 7,
   "id": "c9ce7a02",
   "metadata": {},
   "outputs": [
    {
     "name": "stdout",
     "output_type": "stream",
     "text": [
      "array:  [1 4 2 5 3]\n",
      "arr.ndim:  1\n",
      "arr.shape:  (5,)\n",
      "arr.size:  5\n",
      "arr.dtype:  uint32\n",
      "arr.itemsize:  4\n",
      "arr.nbytes:  20\n",
      "arr.data:  <memory at 0x0000016D89F29F40>\n",
      "arr.strides:  (4,)\n",
      "arr.flags: \n",
      "   C_CONTIGUOUS : True\n",
      "  F_CONTIGUOUS : True\n",
      "  OWNDATA : True\n",
      "  WRITEABLE : True\n",
      "  ALIGNED : True\n",
      "  WRITEBACKIFCOPY : False\n",
      "\n"
     ]
    }
   ],
   "source": [
    "mylist = [1, 4, 2, 5, 3]\n",
    "arr = np.array(mylist, dtype=np.uint8)\n",
    "arr = np.array([1, 4, 2, 5, 3], dtype=np.uint32)\n",
    "\n",
    "print(\"array: \", arr)\n",
    "print(\"arr.ndim: \", arr.ndim)   # get number of dimensions\n",
    "print(\"arr.shape: \", arr.shape) # This is 1-D array having 5 columns, so return a tuple with one element\n",
    "print(\"arr.size: \", arr.size)   # get total number of elements\n",
    "print(\"arr.dtype: \", arr.dtype) # get data type, default is what is minimum required to hold the max size element\n",
    "print(\"arr.itemsize: \", arr.itemsize)  # get size in bytes of each element of the array\n",
    "print(\"arr.nbytes: \", arr.nbytes)  # get number of bytes occupied by entire array object in memory (2*5=10)\n",
    "\n",
    "print(\"arr.data: \", arr.data)\n",
    "print(\"arr.strides: \", arr.strides)\n",
    "print(\"arr.flags: \\n\", arr.flags)"
   ]
  },
  {
   "cell_type": "code",
   "execution_count": 13,
   "id": "1acf79d2",
   "metadata": {
    "scrolled": true
   },
   "outputs": [
    {
     "name": "stdout",
     "output_type": "stream",
     "text": [
      "[[6.23566769 4.47149427]\n",
      " [1.37632361 5.00200127]\n",
      " [2.58227279 4.34275089]]\n"
     ]
    }
   ],
   "source": [
    "arr1 = np.random.rand(3,2)*10\n",
    "print(arr1)"
   ]
  },
  {
   "cell_type": "code",
   "execution_count": 15,
   "id": "69cf008e",
   "metadata": {},
   "outputs": [
    {
     "name": "stdout",
     "output_type": "stream",
     "text": [
      "arr1.nbytes:  48\n"
     ]
    }
   ],
   "source": [
    "print(\"arr1.nbytes: \", arr1.nbytes)"
   ]
  },
  {
   "cell_type": "code",
   "execution_count": 17,
   "id": "282384ba",
   "metadata": {},
   "outputs": [
    {
     "data": {
      "text/plain": [
       "'1.24.1'"
      ]
     },
     "execution_count": 17,
     "metadata": {},
     "output_type": "execute_result"
    }
   ],
   "source": [
    "np.__version__"
   ]
  },
  {
   "cell_type": "code",
   "execution_count": 22,
   "id": "fb6b8444",
   "metadata": {},
   "outputs": [
    {
     "name": "stdout",
     "output_type": "stream",
     "text": [
      "array:  [1 4 2 5 3]\n",
      "arr.ndim:  1\n",
      "arr.shape:  (5,)\n",
      "arr.size:  5\n",
      "arr.dtype:  uint8\n",
      "arr.itemsize:  1\n",
      "arr.nbytes:  5\n",
      "arr.data:  <memory at 0x0000016D9A3BEF40>\n",
      "arr.strides:  (1,)\n",
      "arr.flags: \n",
      "   C_CONTIGUOUS : True\n",
      "  F_CONTIGUOUS : True\n",
      "  OWNDATA : True\n",
      "  WRITEABLE : True\n",
      "  ALIGNED : True\n",
      "  WRITEBACKIFCOPY : False\n",
      "\n"
     ]
    }
   ],
   "source": [
    "\n",
    "arr = np.array([1, 4, 2, 5, 3], dtype=np.uint8)\n",
    "\n",
    "print(\"array: \", arr)\n",
    "print(\"arr.ndim: \", arr.ndim)   # get number of dimensions\n",
    "print(\"arr.shape: \", arr.shape) # This is 1-D array having 5 columns, so return a tuple with one element\n",
    "print(\"arr.size: \", arr.size)   # get total number of elements\n",
    "print(\"arr.dtype: \", arr.dtype) # get data type, default is what is minimum required to hold the max size element\n",
    "print(\"arr.itemsize: \", arr.itemsize)  # get size in bytes of each element of the array\n",
    "print(\"arr.nbytes: \", arr.nbytes)  # get number of bytes occupied by entire array object in memory (2*5=10)\n",
    "\n",
    "print(\"arr.data: \", arr.data)\n",
    "print(\"arr.strides: \", arr.strides)\n",
    "print(\"arr.flags: \\n\", arr.flags)\n"
   ]
  },
  {
   "cell_type": "code",
   "execution_count": 29,
   "id": "1b96f1bb",
   "metadata": {},
   "outputs": [],
   "source": [
    "list = [\n",
    "    [1,2,3,3,4],\n",
    "    [3,3,5,3,3],\n",
    "    [4,3,5,25,1],\n",
    "    [3,4,4,4,3]\n",
    "]"
   ]
  },
  {
   "cell_type": "code",
   "execution_count": 35,
   "id": "12e0fd07",
   "metadata": {},
   "outputs": [],
   "source": [
    "arr2 = np.array(list, dtype=np.uint64)"
   ]
  },
  {
   "cell_type": "code",
   "execution_count": 36,
   "id": "f5de2823",
   "metadata": {},
   "outputs": [
    {
     "data": {
      "text/plain": [
       "(40, 8)"
      ]
     },
     "execution_count": 36,
     "metadata": {},
     "output_type": "execute_result"
    }
   ],
   "source": [
    "arr2.strides"
   ]
  },
  {
   "cell_type": "code",
   "execution_count": 37,
   "id": "8554ce0e",
   "metadata": {},
   "outputs": [
    {
     "data": {
      "text/plain": [
       "(4, 5)"
      ]
     },
     "execution_count": 37,
     "metadata": {},
     "output_type": "execute_result"
    }
   ],
   "source": [
    "arr2.shape"
   ]
  },
  {
   "cell_type": "code",
   "execution_count": 38,
   "id": "261a746a",
   "metadata": {},
   "outputs": [
    {
     "data": {
      "text/plain": [
       "160"
      ]
     },
     "execution_count": 38,
     "metadata": {},
     "output_type": "execute_result"
    }
   ],
   "source": [
    "arr2.nbytes"
   ]
  },
  {
   "cell_type": "code",
   "execution_count": 39,
   "id": "0fc0d313",
   "metadata": {},
   "outputs": [
    {
     "data": {
      "text/plain": [
       "2"
      ]
     },
     "execution_count": 39,
     "metadata": {},
     "output_type": "execute_result"
    }
   ],
   "source": [
    "arr2.ndim"
   ]
  },
  {
   "cell_type": "code",
   "execution_count": 88,
   "id": "0a772653",
   "metadata": {},
   "outputs": [],
   "source": [
    "arr3 = np.arange(1,4,1)"
   ]
  },
  {
   "cell_type": "code",
   "execution_count": 90,
   "id": "a25556fd",
   "metadata": {},
   "outputs": [
    {
     "name": "stdout",
     "output_type": "stream",
     "text": [
      "[1 2 3]\n"
     ]
    }
   ],
   "source": [
    "print(arr3)"
   ]
  },
  {
   "cell_type": "code",
   "execution_count": 56,
   "id": "7de54eee",
   "metadata": {},
   "outputs": [],
   "source": [
    "arrr = np.random.randint(low= 1, high = 20, size=(3,3,3), dtype=np.uint32)"
   ]
  },
  {
   "cell_type": "code",
   "execution_count": 57,
   "id": "4fd9b18b",
   "metadata": {
    "scrolled": true
   },
   "outputs": [
    {
     "name": "stdout",
     "output_type": "stream",
     "text": [
      "[[[10  6 12]\n",
      "  [14 14 11]\n",
      "  [18  5 14]]\n",
      "\n",
      " [[ 5  7  2]\n",
      "  [10 11 17]\n",
      "  [16 18  2]]\n",
      "\n",
      " [[12  5  6]\n",
      "  [11 12 14]\n",
      "  [ 9  9  6]]]\n"
     ]
    }
   ],
   "source": [
    "print(arrr)"
   ]
  },
  {
   "cell_type": "code",
   "execution_count": 59,
   "id": "bba35d62",
   "metadata": {},
   "outputs": [
    {
     "data": {
      "text/plain": [
       "(36, 12, 4)"
      ]
     },
     "execution_count": 59,
     "metadata": {},
     "output_type": "execute_result"
    }
   ],
   "source": [
    "arrr.strides"
   ]
  },
  {
   "cell_type": "code",
   "execution_count": 58,
   "id": "19eb4c24",
   "metadata": {},
   "outputs": [
    {
     "name": "stdout",
     "output_type": "stream",
     "text": [
      "[[[14 11]\n",
      "  [ 5 14]]\n",
      "\n",
      " [[11 17]\n",
      "  [18  2]]\n",
      "\n",
      " [[12 14]\n",
      "  [ 9  6]]]\n"
     ]
    }
   ],
   "source": [
    "print(arrr[:,1:3,1:3])"
   ]
  },
  {
   "cell_type": "code",
   "execution_count": 17,
   "id": "813c3283",
   "metadata": {},
   "outputs": [],
   "source": [
    "arr4 = np.random.randint(low= 1, high = 20, size=(5,5), dtype=np.uint32)"
   ]
  },
  {
   "cell_type": "code",
   "execution_count": 18,
   "id": "8b369d21",
   "metadata": {},
   "outputs": [
    {
     "data": {
      "text/plain": [
       "array([[10,  1, 19,  1, 18],\n",
       "       [14, 16, 16,  9,  9],\n",
       "       [19,  8,  6, 19, 18],\n",
       "       [ 6, 17,  1, 16, 11],\n",
       "       [ 4,  6,  1, 16, 10]], dtype=uint32)"
      ]
     },
     "execution_count": 18,
     "metadata": {},
     "output_type": "execute_result"
    }
   ],
   "source": [
    "arr4"
   ]
  },
  {
   "cell_type": "code",
   "execution_count": 24,
   "id": "2f6d9666",
   "metadata": {},
   "outputs": [],
   "source": [
    "row_wanted = np.array([False,True,True,True,False])"
   ]
  },
  {
   "cell_type": "code",
   "execution_count": 22,
   "id": "05d3d4cf",
   "metadata": {},
   "outputs": [],
   "source": [
    "column_wanted = np.array([False,True,True,True,False])"
   ]
  },
  {
   "cell_type": "code",
   "execution_count": 27,
   "id": "22dc90ec",
   "metadata": {},
   "outputs": [],
   "source": [
    "arr5 = arr4[1:4,1:4]"
   ]
  },
  {
   "cell_type": "code",
   "execution_count": 28,
   "id": "f9237e44",
   "metadata": {},
   "outputs": [
    {
     "data": {
      "text/plain": [
       "array([[16, 16,  9],\n",
       "       [ 8,  6, 19],\n",
       "       [17,  1, 16]], dtype=uint32)"
      ]
     },
     "execution_count": 28,
     "metadata": {},
     "output_type": "execute_result"
    }
   ],
   "source": [
    "arr5"
   ]
  },
  {
   "cell_type": "code",
   "execution_count": 31,
   "id": "9985ed27",
   "metadata": {},
   "outputs": [],
   "source": [
    "arrr2 = arr4[ 1 : -2,  1 : -2 ]\n",
    "\n"
   ]
  },
  {
   "cell_type": "code",
   "execution_count": 32,
   "id": "cc2f452f",
   "metadata": {},
   "outputs": [
    {
     "data": {
      "text/plain": [
       "array([[16, 16],\n",
       "       [ 8,  6]], dtype=uint32)"
      ]
     },
     "execution_count": 32,
     "metadata": {},
     "output_type": "execute_result"
    }
   ],
   "source": [
    "arrr2"
   ]
  },
  {
   "cell_type": "code",
   "execution_count": 38,
   "id": "5337d2cc",
   "metadata": {},
   "outputs": [],
   "source": [
    "arr6 = np.arange(8).reshape(2,2,2)"
   ]
  },
  {
   "cell_type": "code",
   "execution_count": 39,
   "id": "d8fdadd6",
   "metadata": {},
   "outputs": [
    {
     "data": {
      "text/plain": [
       "array([[[0, 1],\n",
       "        [2, 3]],\n",
       "\n",
       "       [[4, 5],\n",
       "        [6, 7]]])"
      ]
     },
     "execution_count": 39,
     "metadata": {},
     "output_type": "execute_result"
    }
   ],
   "source": [
    "arr6"
   ]
  },
  {
   "cell_type": "code",
   "execution_count": 53,
   "id": "2cd9a587",
   "metadata": {},
   "outputs": [],
   "source": [
    "arr7 = np.swapaxes(arr6,0,1)"
   ]
  },
  {
   "cell_type": "code",
   "execution_count": 54,
   "id": "f65cef7b",
   "metadata": {},
   "outputs": [
    {
     "data": {
      "text/plain": [
       "array([[[0, 1],\n",
       "        [4, 5]],\n",
       "\n",
       "       [[2, 3],\n",
       "        [6, 7]]])"
      ]
     },
     "execution_count": 54,
     "metadata": {},
     "output_type": "execute_result"
    }
   ],
   "source": [
    "arr7"
   ]
  },
  {
   "cell_type": "code",
   "execution_count": null,
   "id": "2de928d9",
   "metadata": {},
   "outputs": [],
   "source": []
  }
 ],
 "metadata": {
  "kernelspec": {
   "display_name": "Python 3 (ipykernel)",
   "language": "python",
   "name": "python3"
  },
  "language_info": {
   "codemirror_mode": {
    "name": "ipython",
    "version": 3
   },
   "file_extension": ".py",
   "mimetype": "text/x-python",
   "name": "python",
   "nbconvert_exporter": "python",
   "pygments_lexer": "ipython3",
   "version": "3.9.13"
  }
 },
 "nbformat": 4,
 "nbformat_minor": 5
}
